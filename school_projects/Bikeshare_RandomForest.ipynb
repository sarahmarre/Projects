{
 "cells": [
  {
   "cell_type": "code",
   "execution_count": 3,
   "metadata": {},
   "outputs": [],
   "source": [
    "import numpy as np\n",
    "import pandas as pd\n",
    "import matplotlib.pyplot as plt\n",
    "import seaborn as sns\n",
    "sns.set()  #if you want to use seaborn themes with matplotlib functions\n",
    "import warnings\n",
    "warnings.filterwarnings('ignore')\n",
    "rand_state = 1000"
   ]
  },
  {
   "cell_type": "code",
   "execution_count": 4,
   "metadata": {},
   "outputs": [],
   "source": [
    "#import data and see what we're working with"
   ]
  },
  {
   "cell_type": "code",
   "execution_count": 5,
   "metadata": {},
   "outputs": [
    {
     "data": {
      "text/html": [
       "<div>\n",
       "<style scoped>\n",
       "    .dataframe tbody tr th:only-of-type {\n",
       "        vertical-align: middle;\n",
       "    }\n",
       "\n",
       "    .dataframe tbody tr th {\n",
       "        vertical-align: top;\n",
       "    }\n",
       "\n",
       "    .dataframe thead th {\n",
       "        text-align: right;\n",
       "    }\n",
       "</style>\n",
       "<table border=\"1\" class=\"dataframe\">\n",
       "  <thead>\n",
       "    <tr style=\"text-align: right;\">\n",
       "      <th></th>\n",
       "      <th>season</th>\n",
       "      <th>yr</th>\n",
       "      <th>mnth</th>\n",
       "      <th>hr</th>\n",
       "      <th>holiday</th>\n",
       "      <th>weekday</th>\n",
       "      <th>notbizday</th>\n",
       "      <th>weathersit</th>\n",
       "      <th>temp</th>\n",
       "      <th>hum</th>\n",
       "      <th>windspeed</th>\n",
       "      <th>dteday</th>\n",
       "      <th>cnt</th>\n",
       "    </tr>\n",
       "  </thead>\n",
       "  <tbody>\n",
       "    <tr>\n",
       "      <th>0</th>\n",
       "      <td>1</td>\n",
       "      <td>0</td>\n",
       "      <td>1</td>\n",
       "      <td>0</td>\n",
       "      <td>0</td>\n",
       "      <td>6</td>\n",
       "      <td>1</td>\n",
       "      <td>1</td>\n",
       "      <td>-1.334609</td>\n",
       "      <td>0.947345</td>\n",
       "      <td>-1.553844</td>\n",
       "      <td>2011-01-01</td>\n",
       "      <td>16</td>\n",
       "    </tr>\n",
       "    <tr>\n",
       "      <th>1</th>\n",
       "      <td>1</td>\n",
       "      <td>0</td>\n",
       "      <td>1</td>\n",
       "      <td>1</td>\n",
       "      <td>0</td>\n",
       "      <td>6</td>\n",
       "      <td>1</td>\n",
       "      <td>1</td>\n",
       "      <td>-1.438475</td>\n",
       "      <td>0.895513</td>\n",
       "      <td>-1.553844</td>\n",
       "      <td>2011-01-01</td>\n",
       "      <td>40</td>\n",
       "    </tr>\n",
       "    <tr>\n",
       "      <th>2</th>\n",
       "      <td>1</td>\n",
       "      <td>0</td>\n",
       "      <td>1</td>\n",
       "      <td>2</td>\n",
       "      <td>0</td>\n",
       "      <td>6</td>\n",
       "      <td>1</td>\n",
       "      <td>1</td>\n",
       "      <td>-1.438475</td>\n",
       "      <td>0.895513</td>\n",
       "      <td>-1.553844</td>\n",
       "      <td>2011-01-01</td>\n",
       "      <td>32</td>\n",
       "    </tr>\n",
       "    <tr>\n",
       "      <th>3</th>\n",
       "      <td>1</td>\n",
       "      <td>0</td>\n",
       "      <td>1</td>\n",
       "      <td>3</td>\n",
       "      <td>0</td>\n",
       "      <td>6</td>\n",
       "      <td>1</td>\n",
       "      <td>1</td>\n",
       "      <td>-1.334609</td>\n",
       "      <td>0.636351</td>\n",
       "      <td>-1.553844</td>\n",
       "      <td>2011-01-01</td>\n",
       "      <td>13</td>\n",
       "    </tr>\n",
       "    <tr>\n",
       "      <th>4</th>\n",
       "      <td>1</td>\n",
       "      <td>0</td>\n",
       "      <td>1</td>\n",
       "      <td>4</td>\n",
       "      <td>0</td>\n",
       "      <td>6</td>\n",
       "      <td>1</td>\n",
       "      <td>1</td>\n",
       "      <td>-1.334609</td>\n",
       "      <td>0.636351</td>\n",
       "      <td>-1.553844</td>\n",
       "      <td>2011-01-01</td>\n",
       "      <td>1</td>\n",
       "    </tr>\n",
       "  </tbody>\n",
       "</table>\n",
       "</div>"
      ],
      "text/plain": [
       "   season  yr  mnth  hr  holiday  weekday  notbizday  weathersit      temp  \\\n",
       "0       1   0     1   0        0        6          1           1 -1.334609   \n",
       "1       1   0     1   1        0        6          1           1 -1.438475   \n",
       "2       1   0     1   2        0        6          1           1 -1.438475   \n",
       "3       1   0     1   3        0        6          1           1 -1.334609   \n",
       "4       1   0     1   4        0        6          1           1 -1.334609   \n",
       "\n",
       "        hum  windspeed      dteday  cnt  \n",
       "0  0.947345  -1.553844  2011-01-01   16  \n",
       "1  0.895513  -1.553844  2011-01-01   40  \n",
       "2  0.895513  -1.553844  2011-01-01   32  \n",
       "3  0.636351  -1.553844  2011-01-01   13  \n",
       "4  0.636351  -1.553844  2011-01-01    1  "
      ]
     },
     "execution_count": 5,
     "metadata": {},
     "output_type": "execute_result"
    }
   ],
   "source": [
    "df = pd.read_csv(\"bikeshare.csv\")\n",
    "df_raw = df\n",
    "df.head()"
   ]
  },
  {
   "cell_type": "code",
   "execution_count": 6,
   "metadata": {},
   "outputs": [
    {
     "name": "stdout",
     "output_type": "stream",
     "text": [
      "<class 'pandas.core.frame.DataFrame'>\n",
      "RangeIndex: 17379 entries, 0 to 17378\n",
      "Data columns (total 13 columns):\n",
      " #   Column      Non-Null Count  Dtype  \n",
      "---  ------      --------------  -----  \n",
      " 0   season      17379 non-null  int64  \n",
      " 1   yr          17379 non-null  int64  \n",
      " 2   mnth        17379 non-null  int64  \n",
      " 3   hr          17379 non-null  int64  \n",
      " 4   holiday     17379 non-null  int64  \n",
      " 5   weekday     17379 non-null  int64  \n",
      " 6   notbizday   17379 non-null  int64  \n",
      " 7   weathersit  17379 non-null  int64  \n",
      " 8   temp        17379 non-null  float64\n",
      " 9   hum         17379 non-null  float64\n",
      " 10  windspeed   17379 non-null  float64\n",
      " 11  dteday      17379 non-null  object \n",
      " 12  cnt         17379 non-null  int64  \n",
      "dtypes: float64(3), int64(9), object(1)\n",
      "memory usage: 1.7+ MB\n"
     ]
    }
   ],
   "source": [
    "df.info()"
   ]
  },
  {
   "cell_type": "code",
   "execution_count": 7,
   "metadata": {},
   "outputs": [],
   "source": [
    "df.drop('dteday', axis=1, inplace=True)"
   ]
  },
  {
   "cell_type": "code",
   "execution_count": 8,
   "metadata": {},
   "outputs": [],
   "source": [
    "y = df['cnt']\n",
    "X = df.drop('cnt', axis=1) # becareful inplace= False\n",
    "\n",
    "from sklearn.model_selection import train_test_split\n",
    "X_train, X_test, y_train, y_test = train_test_split(X, y, test_size=0.3, random_state=rand_state)"
   ]
  },
  {
   "cell_type": "code",
   "execution_count": 9,
   "metadata": {},
   "outputs": [],
   "source": [
    "from sklearn.ensemble import RandomForestRegressor"
   ]
  },
  {
   "cell_type": "code",
   "execution_count": 10,
   "metadata": {},
   "outputs": [
    {
     "data": {
      "text/plain": [
       "RandomForestRegressor(random_state=1000)"
      ]
     },
     "execution_count": 10,
     "metadata": {},
     "output_type": "execute_result"
    }
   ],
   "source": [
    "# Fitting RF regression to the Training set\n",
    "RF_regression = RandomForestRegressor(random_state=rand_state)\n",
    "RF_regression.fit(X_train, y_train)"
   ]
  },
  {
   "cell_type": "code",
   "execution_count": 11,
   "metadata": {},
   "outputs": [],
   "source": [
    "# Predicting the Test set results\n",
    "y_hat = RF_regression.predict(X_test)"
   ]
  },
  {
   "cell_type": "code",
   "execution_count": 12,
   "metadata": {},
   "outputs": [
    {
     "data": {
      "text/html": [
       "<div>\n",
       "<style scoped>\n",
       "    .dataframe tbody tr th:only-of-type {\n",
       "        vertical-align: middle;\n",
       "    }\n",
       "\n",
       "    .dataframe tbody tr th {\n",
       "        vertical-align: top;\n",
       "    }\n",
       "\n",
       "    .dataframe thead th {\n",
       "        text-align: right;\n",
       "    }\n",
       "</style>\n",
       "<table border=\"1\" class=\"dataframe\">\n",
       "  <thead>\n",
       "    <tr style=\"text-align: right;\">\n",
       "      <th></th>\n",
       "      <th>y_test</th>\n",
       "      <th>y_hat</th>\n",
       "    </tr>\n",
       "  </thead>\n",
       "  <tbody>\n",
       "    <tr>\n",
       "      <th>4495</th>\n",
       "      <td>26</td>\n",
       "      <td>21.38</td>\n",
       "    </tr>\n",
       "    <tr>\n",
       "      <th>4418</th>\n",
       "      <td>47</td>\n",
       "      <td>64.21</td>\n",
       "    </tr>\n",
       "    <tr>\n",
       "      <th>7141</th>\n",
       "      <td>11</td>\n",
       "      <td>4.91</td>\n",
       "    </tr>\n",
       "    <tr>\n",
       "      <th>14765</th>\n",
       "      <td>205</td>\n",
       "      <td>199.84</td>\n",
       "    </tr>\n",
       "    <tr>\n",
       "      <th>16541</th>\n",
       "      <td>65</td>\n",
       "      <td>80.55</td>\n",
       "    </tr>\n",
       "  </tbody>\n",
       "</table>\n",
       "</div>"
      ],
      "text/plain": [
       "       y_test   y_hat\n",
       "4495       26   21.38\n",
       "4418       47   64.21\n",
       "7141       11    4.91\n",
       "14765     205  199.84\n",
       "16541      65   80.55"
      ]
     },
     "execution_count": 12,
     "metadata": {},
     "output_type": "execute_result"
    }
   ],
   "source": [
    "df_predictions = pd.DataFrame({ 'y_test':y_test,'y_hat':y_hat})\n",
    "df_predictions.head()"
   ]
  },
  {
   "cell_type": "code",
   "execution_count": 13,
   "metadata": {},
   "outputs": [
    {
     "data": {
      "image/png": "[encoded data removed]",
      "text/plain": [
       "<Figure size 432x288 with 1 Axes>"
      ]
     },
     "metadata": {},
     "output_type": "display_data"
    }
   ],
   "source": [
    "sns.scatterplot(x=y_test, y=y_hat, alpha=0.6)\n",
    "sns.lineplot(y_test, y_test)\n",
    "\n",
    "plt.xlabel('Actual CNT', fontsize=14)\n",
    "plt.ylabel('Prediced  CNT', fontsize=14)\n",
    "plt.title('Actual vs Predicted  CNT (test set)', fontsize=17)\n",
    "plt.show()"
   ]
  },
  {
   "cell_type": "markdown",
   "metadata": {},
   "source": [
    "Visually, this model is not looking so great. Ideally the predicitons would be much closer to the actual."
   ]
  },
  {
   "cell_type": "code",
   "execution_count": 14,
   "metadata": {},
   "outputs": [
    {
     "data": {
      "text/plain": [
       "0.9488"
      ]
     },
     "execution_count": 14,
     "metadata": {},
     "output_type": "execute_result"
    }
   ],
   "source": [
    "np.round(RF_regression.score(X_test, y_test),4)"
   ]
  },
  {
   "cell_type": "code",
   "execution_count": 15,
   "metadata": {},
   "outputs": [
    {
     "data": {
      "text/plain": [
       "41.82"
      ]
     },
     "execution_count": 15,
     "metadata": {},
     "output_type": "execute_result"
    }
   ],
   "source": [
    "MSE_test = round(np.mean(np.square(y_test - y_hat)),2)\n",
    "RMSE_test = round(np.sqrt(MSE_test),2)\n",
    "RMSE_test"
   ]
  },
  {
   "cell_type": "code",
   "execution_count": 16,
   "metadata": {},
   "outputs": [],
   "source": [
    "my_param_grid = {'n_estimators':[100,200], 'max_features':['log2', 'auto'], 'max_depth':[10,None]} "
   ]
  },
  {
   "cell_type": "code",
   "execution_count": 17,
   "metadata": {},
   "outputs": [],
   "source": [
    "from sklearn.model_selection import GridSearchCV"
   ]
  },
  {
   "cell_type": "code",
   "execution_count": 18,
   "metadata": {},
   "outputs": [],
   "source": [
    "grid = GridSearchCV(estimator=RandomForestRegressor(random_state=rand_state),param_grid= my_param_grid, refit = True, verbose=2, cv=5 )\n",
    "# verbose just means the text output describing the process. (the greater the number the more detail you will get)."
   ]
  },
  {
   "cell_type": "code",
   "execution_count": 19,
   "metadata": {},
   "outputs": [
    {
     "name": "stdout",
     "output_type": "stream",
     "text": [
      "Fitting 5 folds for each of 8 candidates, totalling 40 fits\n",
      "[CV] max_depth=10, max_features=log2, n_estimators=100 ...............\n"
     ]
    },
    {
     "name": "stderr",
     "output_type": "stream",
     "text": [
      "[Parallel(n_jobs=1)]: Using backend SequentialBackend with 1 concurrent workers.\n"
     ]
    },
    {
     "name": "stdout",
     "output_type": "stream",
     "text": [
      "[CV]  max_depth=10, max_features=log2, n_estimators=100, total=   1.0s\n",
      "[CV] max_depth=10, max_features=log2, n_estimators=100 ...............\n"
     ]
    },
    {
     "name": "stderr",
     "output_type": "stream",
     "text": [
      "[Parallel(n_jobs=1)]: Done   1 out of   1 | elapsed:    0.9s remaining:    0.0s\n"
     ]
    },
    {
     "name": "stdout",
     "output_type": "stream",
     "text": [
      "[CV]  max_depth=10, max_features=log2, n_estimators=100, total=   0.8s\n",
      "[CV] max_depth=10, max_features=log2, n_estimators=100 ...............\n",
      "[CV]  max_depth=10, max_features=log2, n_estimators=100, total=   0.9s\n",
      "[CV] max_depth=10, max_features=log2, n_estimators=100 ...............\n",
      "[CV]  max_depth=10, max_features=log2, n_estimators=100, total=   0.9s\n",
      "[CV] max_depth=10, max_features=log2, n_estimators=100 ...............\n",
      "[CV]  max_depth=10, max_features=log2, n_estimators=100, total=   1.0s\n",
      "[CV] max_depth=10, max_features=log2, n_estimators=200 ...............\n",
      "[CV]  max_depth=10, max_features=log2, n_estimators=200, total=   1.9s\n",
      "[CV] max_depth=10, max_features=log2, n_estimators=200 ...............\n",
      "[CV]  max_depth=10, max_features=log2, n_estimators=200, total=   1.8s\n",
      "[CV] max_depth=10, max_features=log2, n_estimators=200 ...............\n",
      "[CV]  max_depth=10, max_features=log2, n_estimators=200, total=   1.8s\n",
      "[CV] max_depth=10, max_features=log2, n_estimators=200 ...............\n",
      "[CV]  max_depth=10, max_features=log2, n_estimators=200, total=   1.9s\n",
      "[CV] max_depth=10, max_features=log2, n_estimators=200 ...............\n",
      "[CV]  max_depth=10, max_features=log2, n_estimators=200, total=   1.6s\n",
      "[CV] max_depth=10, max_features=auto, n_estimators=100 ...............\n",
      "[CV]  max_depth=10, max_features=auto, n_estimators=100, total=   2.3s\n",
      "[CV] max_depth=10, max_features=auto, n_estimators=100 ...............\n",
      "[CV]  max_depth=10, max_features=auto, n_estimators=100, total=   2.4s\n",
      "[CV] max_depth=10, max_features=auto, n_estimators=100 ...............\n",
      "[CV]  max_depth=10, max_features=auto, n_estimators=100, total=   2.1s\n",
      "[CV] max_depth=10, max_features=auto, n_estimators=100 ...............\n",
      "[CV]  max_depth=10, max_features=auto, n_estimators=100, total=   2.0s\n",
      "[CV] max_depth=10, max_features=auto, n_estimators=100 ...............\n",
      "[CV]  max_depth=10, max_features=auto, n_estimators=100, total=   2.2s\n",
      "[CV] max_depth=10, max_features=auto, n_estimators=200 ...............\n",
      "[CV]  max_depth=10, max_features=auto, n_estimators=200, total=   4.5s\n",
      "[CV] max_depth=10, max_features=auto, n_estimators=200 ...............\n",
      "[CV]  max_depth=10, max_features=auto, n_estimators=200, total=   4.4s\n",
      "[CV] max_depth=10, max_features=auto, n_estimators=200 ...............\n",
      "[CV]  max_depth=10, max_features=auto, n_estimators=200, total=   4.4s\n",
      "[CV] max_depth=10, max_features=auto, n_estimators=200 ...............\n",
      "[CV]  max_depth=10, max_features=auto, n_estimators=200, total=   4.5s\n",
      "[CV] max_depth=10, max_features=auto, n_estimators=200 ...............\n",
      "[CV]  max_depth=10, max_features=auto, n_estimators=200, total=   4.3s\n",
      "[CV] max_depth=None, max_features=log2, n_estimators=100 .............\n",
      "[CV]  max_depth=None, max_features=log2, n_estimators=100, total=   1.5s\n",
      "[CV] max_depth=None, max_features=log2, n_estimators=100 .............\n",
      "[CV]  max_depth=None, max_features=log2, n_estimators=100, total=   1.7s\n",
      "[CV] max_depth=None, max_features=log2, n_estimators=100 .............\n",
      "[CV]  max_depth=None, max_features=log2, n_estimators=100, total=   1.7s\n",
      "[CV] max_depth=None, max_features=log2, n_estimators=100 .............\n",
      "[CV]  max_depth=None, max_features=log2, n_estimators=100, total=   1.7s\n",
      "[CV] max_depth=None, max_features=log2, n_estimators=100 .............\n",
      "[CV]  max_depth=None, max_features=log2, n_estimators=100, total=   1.8s\n",
      "[CV] max_depth=None, max_features=log2, n_estimators=200 .............\n",
      "[CV]  max_depth=None, max_features=log2, n_estimators=200, total=   3.6s\n",
      "[CV] max_depth=None, max_features=log2, n_estimators=200 .............\n",
      "[CV]  max_depth=None, max_features=log2, n_estimators=200, total=   3.6s\n",
      "[CV] max_depth=None, max_features=log2, n_estimators=200 .............\n",
      "[CV]  max_depth=None, max_features=log2, n_estimators=200, total=   4.1s\n",
      "[CV] max_depth=None, max_features=log2, n_estimators=200 .............\n",
      "[CV]  max_depth=None, max_features=log2, n_estimators=200, total=   3.7s\n",
      "[CV] max_depth=None, max_features=log2, n_estimators=200 .............\n",
      "[CV]  max_depth=None, max_features=log2, n_estimators=200, total=   3.4s\n",
      "[CV] max_depth=None, max_features=auto, n_estimators=100 .............\n",
      "[CV]  max_depth=None, max_features=auto, n_estimators=100, total=   3.5s\n",
      "[CV] max_depth=None, max_features=auto, n_estimators=100 .............\n",
      "[CV]  max_depth=None, max_features=auto, n_estimators=100, total=   3.8s\n",
      "[CV] max_depth=None, max_features=auto, n_estimators=100 .............\n",
      "[CV]  max_depth=None, max_features=auto, n_estimators=100, total=   3.7s\n",
      "[CV] max_depth=None, max_features=auto, n_estimators=100 .............\n",
      "[CV]  max_depth=None, max_features=auto, n_estimators=100, total=   3.7s\n",
      "[CV] max_depth=None, max_features=auto, n_estimators=100 .............\n",
      "[CV]  max_depth=None, max_features=auto, n_estimators=100, total=   3.6s\n",
      "[CV] max_depth=None, max_features=auto, n_estimators=200 .............\n",
      "[CV]  max_depth=None, max_features=auto, n_estimators=200, total=   7.5s\n",
      "[CV] max_depth=None, max_features=auto, n_estimators=200 .............\n",
      "[CV]  max_depth=None, max_features=auto, n_estimators=200, total=   7.2s\n",
      "[CV] max_depth=None, max_features=auto, n_estimators=200 .............\n",
      "[CV]  max_depth=None, max_features=auto, n_estimators=200, total=   7.8s\n",
      "[CV] max_depth=None, max_features=auto, n_estimators=200 .............\n",
      "[CV]  max_depth=None, max_features=auto, n_estimators=200, total=   7.8s\n",
      "[CV] max_depth=None, max_features=auto, n_estimators=200 .............\n",
      "[CV]  max_depth=None, max_features=auto, n_estimators=200, total=   7.6s\n"
     ]
    },
    {
     "name": "stderr",
     "output_type": "stream",
     "text": [
      "[Parallel(n_jobs=1)]: Done  40 out of  40 | elapsed:  2.2min finished\n"
     ]
    },
    {
     "data": {
      "text/plain": [
       "GridSearchCV(cv=5, estimator=RandomForestRegressor(random_state=1000),\n",
       "             param_grid={'max_depth': [10, None],\n",
       "                         'max_features': ['log2', 'auto'],\n",
       "                         'n_estimators': [100, 200]},\n",
       "             verbose=2)"
      ]
     },
     "execution_count": 19,
     "metadata": {},
     "output_type": "execute_result"
    }
   ],
   "source": [
    "# May take a while!\n",
    "grid.fit(X_train,y_train)"
   ]
  },
  {
   "cell_type": "code",
   "execution_count": 20,
   "metadata": {},
   "outputs": [
    {
     "data": {
      "text/plain": [
       "{'max_depth': None, 'max_features': 'auto', 'n_estimators': 200}"
      ]
     },
     "execution_count": 20,
     "metadata": {},
     "output_type": "execute_result"
    }
   ],
   "source": [
    "grid.best_params_"
   ]
  },
  {
   "cell_type": "code",
   "execution_count": 21,
   "metadata": {},
   "outputs": [
    {
     "data": {
      "text/plain": [
       "RandomForestRegressor(n_estimators=200, random_state=1000)"
      ]
     },
     "execution_count": 21,
     "metadata": {},
     "output_type": "execute_result"
    }
   ],
   "source": [
    "grid.best_estimator_"
   ]
  },
  {
   "cell_type": "code",
   "execution_count": 22,
   "metadata": {},
   "outputs": [],
   "source": [
    "y_hat_optimized = grid.predict(X_test)"
   ]
  },
  {
   "cell_type": "code",
   "execution_count": 23,
   "metadata": {},
   "outputs": [
    {
     "data": {
      "text/html": [
       "<div>\n",
       "<style scoped>\n",
       "    .dataframe tbody tr th:only-of-type {\n",
       "        vertical-align: middle;\n",
       "    }\n",
       "\n",
       "    .dataframe tbody tr th {\n",
       "        vertical-align: top;\n",
       "    }\n",
       "\n",
       "    .dataframe thead th {\n",
       "        text-align: right;\n",
       "    }\n",
       "</style>\n",
       "<table border=\"1\" class=\"dataframe\">\n",
       "  <thead>\n",
       "    <tr style=\"text-align: right;\">\n",
       "      <th></th>\n",
       "      <th>y_test</th>\n",
       "      <th>y_hat</th>\n",
       "      <th>y_hat_optimized</th>\n",
       "    </tr>\n",
       "  </thead>\n",
       "  <tbody>\n",
       "    <tr>\n",
       "      <th>4495</th>\n",
       "      <td>26</td>\n",
       "      <td>21.38</td>\n",
       "      <td>21.100</td>\n",
       "    </tr>\n",
       "    <tr>\n",
       "      <th>4418</th>\n",
       "      <td>47</td>\n",
       "      <td>64.21</td>\n",
       "      <td>64.585</td>\n",
       "    </tr>\n",
       "    <tr>\n",
       "      <th>7141</th>\n",
       "      <td>11</td>\n",
       "      <td>4.91</td>\n",
       "      <td>4.905</td>\n",
       "    </tr>\n",
       "    <tr>\n",
       "      <th>14765</th>\n",
       "      <td>205</td>\n",
       "      <td>199.84</td>\n",
       "      <td>200.480</td>\n",
       "    </tr>\n",
       "    <tr>\n",
       "      <th>16541</th>\n",
       "      <td>65</td>\n",
       "      <td>80.55</td>\n",
       "      <td>76.010</td>\n",
       "    </tr>\n",
       "  </tbody>\n",
       "</table>\n",
       "</div>"
      ],
      "text/plain": [
       "       y_test   y_hat  y_hat_optimized\n",
       "4495       26   21.38           21.100\n",
       "4418       47   64.21           64.585\n",
       "7141       11    4.91            4.905\n",
       "14765     205  199.84          200.480\n",
       "16541      65   80.55           76.010"
      ]
     },
     "execution_count": 23,
     "metadata": {},
     "output_type": "execute_result"
    }
   ],
   "source": [
    "df_predictions['y_hat_optimized'] = y_hat_optimized\n",
    "df_predictions.head()"
   ]
  },
  {
   "cell_type": "code",
   "execution_count": 24,
   "metadata": {},
   "outputs": [
    {
     "data": {
      "image/png": "[encoded data removed]",
      "text/plain": [
       "<Figure size 432x288 with 1 Axes>"
      ]
     },
     "metadata": {},
     "output_type": "display_data"
    }
   ],
   "source": [
    "sns.scatterplot(x=y_test, y=y_hat_optimized, alpha=0.6)\n",
    "sns.lineplot(y_test, y_test)\n",
    "\n",
    "plt.xlabel('Actual CNT', fontsize=14)\n",
    "plt.ylabel('Prediced  CNT', fontsize=14)\n",
    "plt.title('Actual vs optimized predicted CNT (test set)', fontsize=17)\n",
    "plt.show()"
   ]
  },
  {
   "cell_type": "code",
   "execution_count": 25,
   "metadata": {},
   "outputs": [
    {
     "data": {
      "text/plain": [
       "0.9487"
      ]
     },
     "execution_count": 25,
     "metadata": {},
     "output_type": "execute_result"
    }
   ],
   "source": [
    "np.round(grid.score(X_test, y_test),4)"
   ]
  },
  {
   "cell_type": "code",
   "execution_count": 26,
   "metadata": {},
   "outputs": [
    {
     "data": {
      "text/plain": [
       "41.85"
      ]
     },
     "execution_count": 26,
     "metadata": {},
     "output_type": "execute_result"
    }
   ],
   "source": [
    "MSE_test_opt = round(np.mean(np.square(y_test - y_hat_optimized)),2)\n",
    "RMSE_test_opt = round(np.sqrt(MSE_test_opt),2)\n",
    "RMSE_test_opt"
   ]
  },
  {
   "cell_type": "markdown",
   "metadata": {},
   "source": [
    "Visually, this model doesn't seem to be doing much better.The R^2 is a tiny bit higher (.01) but the RMSE is surprisingly slightly larger than before. RF is using a very bushy tree - above in the grid.best_params_ output the 'max_depth' is set to none."
   ]
  },
  {
   "cell_type": "code",
   "execution_count": 27,
   "metadata": {},
   "outputs": [],
   "source": [
    "from sklearn.model_selection import cross_val_score"
   ]
  },
  {
   "cell_type": "code",
   "execution_count": 28,
   "metadata": {},
   "outputs": [],
   "source": [
    "R2 = cross_val_score(estimator = RandomForestRegressor(max_depth=20, max_features='sqrt', n_estimators=500), X = X_train, y = y_train, cv = 5 , scoring=\"r2\" )"
   ]
  },
  {
   "cell_type": "code",
   "execution_count": 29,
   "metadata": {},
   "outputs": [
    {
     "data": {
      "text/plain": [
       "0.8966"
      ]
     },
     "execution_count": 29,
     "metadata": {},
     "output_type": "execute_result"
    }
   ],
   "source": [
    "R2_CV = round(np.mean(R2),4)\n",
    "R2_CV"
   ]
  },
  {
   "cell_type": "code",
   "execution_count": 30,
   "metadata": {},
   "outputs": [
    {
     "data": {
      "text/plain": [
       "array([65, 85,  3, 44, 74,  0, 12, 30, 69, 56, 96, 86,  9, 74, 64, 12, 25,\n",
       "       64, 63, 74, 84, 62, 34, 56, 93, 55, 55, 53, 24, 83,  0, 69, 34, 46,\n",
       "       25, 68, 61, 72,  7, 49, 80, 78, 52, 26, 60, 13, 26, 94, 85,  8, 67,\n",
       "       60, 80, 13, 85, 83, 17, 87, 83, 11, 60, 61, 31, 36, 30, 67, 30, 17,\n",
       "       22, 48, 16, 63, 31, 72, 52, 55, 93, 51, 48, 52, 47,  6,  4, 27, 94,\n",
       "        0,  9, 62, 83, 22, 51, 58, 57, 80, 87, 22, 39, 93, 21, 19])"
      ]
     },
     "execution_count": 30,
     "metadata": {},
     "output_type": "execute_result"
    }
   ],
   "source": [
    "np.random.choice (100,size=100)"
   ]
  },
  {
   "cell_type": "code",
   "execution_count": 31,
   "metadata": {},
   "outputs": [
    {
     "data": {
      "text/plain": [
       "61"
      ]
     },
     "execution_count": 31,
     "metadata": {},
     "output_type": "execute_result"
    }
   ],
   "source": [
    "np.unique(np.random.choice (100,size=100)).size"
   ]
  },
  {
   "cell_type": "code",
   "execution_count": 32,
   "metadata": {},
   "outputs": [
    {
     "data": {
      "text/plain": [
       "RandomForestRegressor(max_depth=20, max_features='sqrt', n_estimators=500,\n",
       "                      oob_score=True)"
      ]
     },
     "execution_count": 32,
     "metadata": {},
     "output_type": "execute_result"
    }
   ],
   "source": [
    "RF_oob = RandomForestRegressor(max_depth=20, max_features='sqrt', n_estimators=500, oob_score=True)\n",
    "RF_oob.fit(X_train, y_train)"
   ]
  },
  {
   "cell_type": "code",
   "execution_count": 33,
   "metadata": {},
   "outputs": [
    {
     "data": {
      "text/plain": [
       "0.9053502835662313"
      ]
     },
     "execution_count": 33,
     "metadata": {},
     "output_type": "execute_result"
    }
   ],
   "source": [
    "RF_oob.oob_score_"
   ]
  },
  {
   "cell_type": "markdown",
   "metadata": {},
   "source": [
    "OOB is doing slightly better than cross validation here - the estimated R^2 in the test set using OOB is slightly better than the R^2 estimate using CV."
   ]
  },
  {
   "cell_type": "code",
   "execution_count": 34,
   "metadata": {},
   "outputs": [
    {
     "data": {
      "text/plain": [
       "['season',\n",
       " 'yr',\n",
       " 'mnth',\n",
       " 'hr',\n",
       " 'holiday',\n",
       " 'weekday',\n",
       " 'notbizday',\n",
       " 'weathersit',\n",
       " 'temp',\n",
       " 'hum',\n",
       " 'windspeed']"
      ]
     },
     "execution_count": 34,
     "metadata": {},
     "output_type": "execute_result"
    }
   ],
   "source": [
    "features = list(X_train.columns)\n",
    "features"
   ]
  },
  {
   "cell_type": "code",
   "execution_count": 35,
   "metadata": {},
   "outputs": [
    {
     "data": {
      "text/plain": [
       "RandomForestRegressor(max_depth=20, max_features='sqrt', n_estimators=500,\n",
       "                      random_state=1000)"
      ]
     },
     "execution_count": 35,
     "metadata": {},
     "output_type": "execute_result"
    }
   ],
   "source": [
    "RF_Regressor = RandomForestRegressor(n_estimators = 500, max_features='sqrt', max_depth=20, random_state= rand_state)\n",
    "RF_Regressor.fit(X_train, y_train)"
   ]
  },
  {
   "cell_type": "code",
   "execution_count": 36,
   "metadata": {},
   "outputs": [
    {
     "data": {
      "text/plain": [
       "array([0.04019892, 0.07052285, 0.0437904 , 0.47789922, 0.00290958,\n",
       "       0.03678655, 0.03079878, 0.0205904 , 0.13488911, 0.10172075,\n",
       "       0.03989344])"
      ]
     },
     "execution_count": 36,
     "metadata": {},
     "output_type": "execute_result"
    }
   ],
   "source": [
    "importance = RF_Regressor.feature_importances_\n",
    "importance"
   ]
  },
  {
   "cell_type": "code",
   "execution_count": 37,
   "metadata": {},
   "outputs": [
    {
     "data": {
      "text/html": [
       "<div>\n",
       "<style scoped>\n",
       "    .dataframe tbody tr th:only-of-type {\n",
       "        vertical-align: middle;\n",
       "    }\n",
       "\n",
       "    .dataframe tbody tr th {\n",
       "        vertical-align: top;\n",
       "    }\n",
       "\n",
       "    .dataframe thead th {\n",
       "        text-align: right;\n",
       "    }\n",
       "</style>\n",
       "<table border=\"1\" class=\"dataframe\">\n",
       "  <thead>\n",
       "    <tr style=\"text-align: right;\">\n",
       "      <th></th>\n",
       "      <th>Features</th>\n",
       "      <th>Feature_importance</th>\n",
       "    </tr>\n",
       "  </thead>\n",
       "  <tbody>\n",
       "    <tr>\n",
       "      <th>4</th>\n",
       "      <td>holiday</td>\n",
       "      <td>0.002910</td>\n",
       "    </tr>\n",
       "    <tr>\n",
       "      <th>7</th>\n",
       "      <td>weathersit</td>\n",
       "      <td>0.020590</td>\n",
       "    </tr>\n",
       "    <tr>\n",
       "      <th>6</th>\n",
       "      <td>notbizday</td>\n",
       "      <td>0.030799</td>\n",
       "    </tr>\n",
       "    <tr>\n",
       "      <th>5</th>\n",
       "      <td>weekday</td>\n",
       "      <td>0.036787</td>\n",
       "    </tr>\n",
       "    <tr>\n",
       "      <th>10</th>\n",
       "      <td>windspeed</td>\n",
       "      <td>0.039893</td>\n",
       "    </tr>\n",
       "    <tr>\n",
       "      <th>0</th>\n",
       "      <td>season</td>\n",
       "      <td>0.040199</td>\n",
       "    </tr>\n",
       "    <tr>\n",
       "      <th>2</th>\n",
       "      <td>mnth</td>\n",
       "      <td>0.043790</td>\n",
       "    </tr>\n",
       "    <tr>\n",
       "      <th>1</th>\n",
       "      <td>yr</td>\n",
       "      <td>0.070523</td>\n",
       "    </tr>\n",
       "    <tr>\n",
       "      <th>9</th>\n",
       "      <td>hum</td>\n",
       "      <td>0.101721</td>\n",
       "    </tr>\n",
       "    <tr>\n",
       "      <th>8</th>\n",
       "      <td>temp</td>\n",
       "      <td>0.134889</td>\n",
       "    </tr>\n",
       "    <tr>\n",
       "      <th>3</th>\n",
       "      <td>hr</td>\n",
       "      <td>0.477899</td>\n",
       "    </tr>\n",
       "  </tbody>\n",
       "</table>\n",
       "</div>"
      ],
      "text/plain": [
       "      Features  Feature_importance\n",
       "4      holiday            0.002910\n",
       "7   weathersit            0.020590\n",
       "6    notbizday            0.030799\n",
       "5      weekday            0.036787\n",
       "10   windspeed            0.039893\n",
       "0       season            0.040199\n",
       "2         mnth            0.043790\n",
       "1           yr            0.070523\n",
       "9          hum            0.101721\n",
       "8         temp            0.134889\n",
       "3           hr            0.477899"
      ]
     },
     "execution_count": 37,
     "metadata": {},
     "output_type": "execute_result"
    }
   ],
   "source": [
    "FIM = pd.DataFrame({'Features': X_train.columns , 'Feature_importance':importance})\n",
    "FIM = FIM.sort_values(by=['Feature_importance'])\n",
    "FIM"
   ]
  },
  {
   "cell_type": "code",
   "execution_count": 38,
   "metadata": {},
   "outputs": [
    {
     "data": {
      "image/png": "[encoded data removed]",
      "text/plain": [
       "<Figure size 720x432 with 1 Axes>"
      ]
     },
     "metadata": {},
     "output_type": "display_data"
    }
   ],
   "source": [
    "plt.figure(figsize=(10,6))\n",
    "plt.title('Feature Importance')\n",
    "sns.barplot(y='Features', x='Feature_importance', data=FIM)\n",
    "plt.show()"
   ]
  },
  {
   "cell_type": "code",
   "execution_count": 39,
   "metadata": {},
   "outputs": [],
   "source": [
    "import statsmodels.api as sm"
   ]
  },
  {
   "cell_type": "code",
   "execution_count": 40,
   "metadata": {},
   "outputs": [],
   "source": [
    "# With statsmodels, we need to mannually add a constant to our dataset!\n",
    "X_test_wc = sm.add_constant(X_test)\n",
    "X_train_wc = sm.add_constant(X_train)"
   ]
  },
  {
   "cell_type": "code",
   "execution_count": 41,
   "metadata": {},
   "outputs": [],
   "source": [
    "# Fit the model\n",
    "model = sm.OLS(y_train,X_train_wc)\n",
    "statsmodels_reg= model.fit()"
   ]
  },
  {
   "cell_type": "code",
   "execution_count": 42,
   "metadata": {},
   "outputs": [
    {
     "data": {
      "text/html": [
       "<table class=\"simpletable\">\n",
       "<caption>OLS Regression Results</caption>\n",
       "<tr>\n",
       "  <th>Dep. Variable:</th>           <td>cnt</td>       <th>  R-squared:         </th> <td>   0.385</td> \n",
       "</tr>\n",
       "<tr>\n",
       "  <th>Model:</th>                   <td>OLS</td>       <th>  Adj. R-squared:    </th> <td>   0.384</td> \n",
       "</tr>\n",
       "<tr>\n",
       "  <th>Method:</th>             <td>Least Squares</td>  <th>  F-statistic:       </th> <td>   691.2</td> \n",
       "</tr>\n",
       "<tr>\n",
       "  <th>Date:</th>             <td>Sun, 11 Apr 2021</td> <th>  Prob (F-statistic):</th>  <td>  0.00</td>  \n",
       "</tr>\n",
       "<tr>\n",
       "  <th>Time:</th>                 <td>16:21:49</td>     <th>  Log-Likelihood:    </th> <td> -77471.</td> \n",
       "</tr>\n",
       "<tr>\n",
       "  <th>No. Observations:</th>      <td> 12165</td>      <th>  AIC:               </th> <td>1.550e+05</td>\n",
       "</tr>\n",
       "<tr>\n",
       "  <th>Df Residuals:</th>          <td> 12153</td>      <th>  BIC:               </th> <td>1.551e+05</td>\n",
       "</tr>\n",
       "<tr>\n",
       "  <th>Df Model:</th>              <td>    11</td>      <th>                     </th>     <td> </td>    \n",
       "</tr>\n",
       "<tr>\n",
       "  <th>Covariance Type:</th>      <td>nonrobust</td>    <th>                     </th>     <td> </td>    \n",
       "</tr>\n",
       "</table>\n",
       "<table class=\"simpletable\">\n",
       "<tr>\n",
       "       <td></td>         <th>coef</th>     <th>std err</th>      <th>t</th>      <th>P>|t|</th>  <th>[0.025</th>    <th>0.975]</th>  \n",
       "</tr>\n",
       "<tr>\n",
       "  <th>const</th>      <td>   15.5033</td> <td>    5.664</td> <td>    2.737</td> <td> 0.006</td> <td>    4.401</td> <td>   26.606</td>\n",
       "</tr>\n",
       "<tr>\n",
       "  <th>season</th>     <td>   19.3442</td> <td>    2.114</td> <td>    9.149</td> <td> 0.000</td> <td>   15.199</td> <td>   23.489</td>\n",
       "</tr>\n",
       "<tr>\n",
       "  <th>yr</th>         <td>   80.3554</td> <td>    2.576</td> <td>   31.191</td> <td> 0.000</td> <td>   75.306</td> <td>   85.405</td>\n",
       "</tr>\n",
       "<tr>\n",
       "  <th>mnth</th>       <td>    0.0406</td> <td>    0.658</td> <td>    0.062</td> <td> 0.951</td> <td>   -1.249</td> <td>    1.330</td>\n",
       "</tr>\n",
       "<tr>\n",
       "  <th>hr</th>         <td>    7.4540</td> <td>    0.196</td> <td>   38.014</td> <td> 0.000</td> <td>    7.070</td> <td>    7.838</td>\n",
       "</tr>\n",
       "<tr>\n",
       "  <th>holiday</th>    <td>  -23.9886</td> <td>    7.879</td> <td>   -3.045</td> <td> 0.002</td> <td>  -39.432</td> <td>   -8.545</td>\n",
       "</tr>\n",
       "<tr>\n",
       "  <th>weekday</th>    <td>    1.7031</td> <td>    0.643</td> <td>    2.649</td> <td> 0.008</td> <td>    0.443</td> <td>    2.964</td>\n",
       "</tr>\n",
       "<tr>\n",
       "  <th>notbizday</th>  <td>   -2.4919</td> <td>    2.857</td> <td>   -0.872</td> <td> 0.383</td> <td>   -8.093</td> <td>    3.109</td>\n",
       "</tr>\n",
       "<tr>\n",
       "  <th>weathersit</th> <td>   -3.5995</td> <td>    2.274</td> <td>   -1.583</td> <td> 0.113</td> <td>   -8.057</td> <td>    0.858</td>\n",
       "</tr>\n",
       "<tr>\n",
       "  <th>temp</th>       <td>   54.3312</td> <td>    1.378</td> <td>   39.424</td> <td> 0.000</td> <td>   51.630</td> <td>   57.033</td>\n",
       "</tr>\n",
       "<tr>\n",
       "  <th>hum</th>        <td>  -37.7405</td> <td>    1.578</td> <td>  -23.919</td> <td> 0.000</td> <td>  -40.833</td> <td>  -34.648</td>\n",
       "</tr>\n",
       "<tr>\n",
       "  <th>windspeed</th>  <td>    4.7366</td> <td>    1.362</td> <td>    3.477</td> <td> 0.001</td> <td>    2.066</td> <td>    7.407</td>\n",
       "</tr>\n",
       "</table>\n",
       "<table class=\"simpletable\">\n",
       "<tr>\n",
       "  <th>Omnibus:</th>       <td>2452.232</td> <th>  Durbin-Watson:     </th> <td>   2.023</td>\n",
       "</tr>\n",
       "<tr>\n",
       "  <th>Prob(Omnibus):</th>  <td> 0.000</td>  <th>  Jarque-Bera (JB):  </th> <td>4830.463</td>\n",
       "</tr>\n",
       "<tr>\n",
       "  <th>Skew:</th>           <td> 1.219</td>  <th>  Prob(JB):          </th> <td>    0.00</td>\n",
       "</tr>\n",
       "<tr>\n",
       "  <th>Kurtosis:</th>       <td> 4.893</td>  <th>  Cond. No.          </th> <td>    94.4</td>\n",
       "</tr>\n",
       "</table><br/><br/>Notes:<br/>[1] Standard Errors assume that the covariance matrix of the errors is correctly specified."
      ],
      "text/plain": [
       "<class 'statsmodels.iolib.summary.Summary'>\n",
       "\"\"\"\n",
       "                            OLS Regression Results                            \n",
       "==============================================================================\n",
       "Dep. Variable:                    cnt   R-squared:                       0.385\n",
       "Model:                            OLS   Adj. R-squared:                  0.384\n",
       "Method:                 Least Squares   F-statistic:                     691.2\n",
       "Date:                Sun, 11 Apr 2021   Prob (F-statistic):               0.00\n",
       "Time:                        16:21:49   Log-Likelihood:                -77471.\n",
       "No. Observations:               12165   AIC:                         1.550e+05\n",
       "Df Residuals:                   12153   BIC:                         1.551e+05\n",
       "Df Model:                          11                                         \n",
       "Covariance Type:            nonrobust                                         \n",
       "==============================================================================\n",
       "                 coef    std err          t      P>|t|      [0.025      0.975]\n",
       "------------------------------------------------------------------------------\n",
       "const         15.5033      5.664      2.737      0.006       4.401      26.606\n",
       "season        19.3442      2.114      9.149      0.000      15.199      23.489\n",
       "yr            80.3554      2.576     31.191      0.000      75.306      85.405\n",
       "mnth           0.0406      0.658      0.062      0.951      -1.249       1.330\n",
       "hr             7.4540      0.196     38.014      0.000       7.070       7.838\n",
       "holiday      -23.9886      7.879     -3.045      0.002     -39.432      -8.545\n",
       "weekday        1.7031      0.643      2.649      0.008       0.443       2.964\n",
       "notbizday     -2.4919      2.857     -0.872      0.383      -8.093       3.109\n",
       "weathersit    -3.5995      2.274     -1.583      0.113      -8.057       0.858\n",
       "temp          54.3312      1.378     39.424      0.000      51.630      57.033\n",
       "hum          -37.7405      1.578    -23.919      0.000     -40.833     -34.648\n",
       "windspeed      4.7366      1.362      3.477      0.001       2.066       7.407\n",
       "==============================================================================\n",
       "Omnibus:                     2452.232   Durbin-Watson:                   2.023\n",
       "Prob(Omnibus):                  0.000   Jarque-Bera (JB):             4830.463\n",
       "Skew:                           1.219   Prob(JB):                         0.00\n",
       "Kurtosis:                       4.893   Cond. No.                         94.4\n",
       "==============================================================================\n",
       "\n",
       "Notes:\n",
       "[1] Standard Errors assume that the covariance matrix of the errors is correctly specified.\n",
       "\"\"\""
      ]
     },
     "execution_count": 42,
     "metadata": {},
     "output_type": "execute_result"
    }
   ],
   "source": [
    "statsmodels_reg.summary()"
   ]
  },
  {
   "cell_type": "markdown",
   "metadata": {},
   "source": [
    "The 5 most important features: Hour, Temperature, Humidity, Year, Month\n",
    "\n",
    "The 5 most significant variables: Temperature, Hour, Year, Season, Windspeed\n",
    "\n",
    "Humidity is important in the RF analysis but not significant in the regression. There must be a nonlinear pattern in humidity - RF can capture it but a linear regression model cannot."
   ]
  },
  {
   "cell_type": "code",
   "execution_count": 43,
   "metadata": {},
   "outputs": [],
   "source": [
    "df.loc[:, 'overload'] = np.where(df.cnt>500, 1, 0)"
   ]
  },
  {
   "cell_type": "code",
   "execution_count": 44,
   "metadata": {},
   "outputs": [
    {
     "data": {
      "text/html": [
       "<div>\n",
       "<style scoped>\n",
       "    .dataframe tbody tr th:only-of-type {\n",
       "        vertical-align: middle;\n",
       "    }\n",
       "\n",
       "    .dataframe tbody tr th {\n",
       "        vertical-align: top;\n",
       "    }\n",
       "\n",
       "    .dataframe thead th {\n",
       "        text-align: right;\n",
       "    }\n",
       "</style>\n",
       "<table border=\"1\" class=\"dataframe\">\n",
       "  <thead>\n",
       "    <tr style=\"text-align: right;\">\n",
       "      <th>overload</th>\n",
       "      <th>0</th>\n",
       "      <th>1</th>\n",
       "    </tr>\n",
       "    <tr>\n",
       "      <th>overload</th>\n",
       "      <th></th>\n",
       "      <th></th>\n",
       "    </tr>\n",
       "  </thead>\n",
       "  <tbody>\n",
       "    <tr>\n",
       "      <th>0</th>\n",
       "      <td>92.640543</td>\n",
       "      <td>0.000000</td>\n",
       "    </tr>\n",
       "    <tr>\n",
       "      <th>1</th>\n",
       "      <td>0.000000</td>\n",
       "      <td>7.359457</td>\n",
       "    </tr>\n",
       "  </tbody>\n",
       "</table>\n",
       "</div>"
      ],
      "text/plain": [
       "overload          0         1\n",
       "overload                     \n",
       "0         92.640543  0.000000\n",
       "1          0.000000  7.359457"
      ]
     },
     "execution_count": 44,
     "metadata": {},
     "output_type": "execute_result"
    }
   ],
   "source": [
    "pd.crosstab(df['overload'],df['overload'], normalize='all')*100"
   ]
  },
  {
   "cell_type": "markdown",
   "metadata": {},
   "source": [
    "The ratio of overload to nonoverload is relatively imbalanced."
   ]
  },
  {
   "cell_type": "code",
   "execution_count": 45,
   "metadata": {},
   "outputs": [],
   "source": [
    "y = df['overload']\n",
    "X = df.drop(['overload', 'cnt'], axis=1) # becareful inplace= False\n",
    "\n",
    "from sklearn.model_selection import train_test_split\n",
    "X_train, X_test, y_train, y_test = train_test_split(X, y, test_size=0.3, random_state=rand_state)"
   ]
  },
  {
   "cell_type": "code",
   "execution_count": 46,
   "metadata": {},
   "outputs": [],
   "source": [
    "from sklearn.ensemble import RandomForestClassifier"
   ]
  },
  {
   "cell_type": "code",
   "execution_count": 47,
   "metadata": {},
   "outputs": [
    {
     "data": {
      "text/plain": [
       "RandomForestClassifier(random_state=1000)"
      ]
     },
     "execution_count": 47,
     "metadata": {},
     "output_type": "execute_result"
    }
   ],
   "source": [
    "# Fitting RF classifier to the Training set\n",
    "\n",
    "RF_classifier = RandomForestClassifier(random_state=rand_state)\n",
    "RF_classifier.fit(X_train, y_train)"
   ]
  },
  {
   "cell_type": "code",
   "execution_count": 48,
   "metadata": {},
   "outputs": [],
   "source": [
    "# Predicting the Test set probabilities and classes\n",
    "y_hat = RF_classifier.predict(X_test)\n",
    "y_hat_probs = RF_classifier.predict_proba(X_test)[:,1] \n",
    "# predicted probabilities are reported for both classes. we saved the prob of purchased!"
   ]
  },
  {
   "cell_type": "code",
   "execution_count": 49,
   "metadata": {},
   "outputs": [
    {
     "data": {
      "image/png": "[encoded data removed]",
      "text/plain": [
       "<Figure size 432x288 with 1 Axes>"
      ]
     },
     "metadata": {},
     "output_type": "display_data"
    }
   ],
   "source": [
    "plt.hist(y_hat_probs)\n",
    "plt.show()"
   ]
  },
  {
   "cell_type": "markdown",
   "metadata": {},
   "source": [
    "A vast majority of the predictions are a probability of 0, which makes sense because we have a relatively imbalanced target variable. It looks like this model is always predicting that overload = 0 at a thresold around .1. Raising this threshold may balance this out a little bit."
   ]
  },
  {
   "cell_type": "code",
   "execution_count": 53,
   "metadata": {},
   "outputs": [],
   "source": [
    "from sklearn.metrics import accuracy_score, recall_score, precision_score, f1_score\n",
    "from sklearn.metrics import confusion_matrix, classification_report, roc_curve, roc_auc_score"
   ]
  },
  {
   "cell_type": "markdown",
   "metadata": {},
   "source": [
    "#### Confusion matrix"
   ]
  },
  {
   "cell_type": "code",
   "execution_count": 54,
   "metadata": {},
   "outputs": [
    {
     "name": "stdout",
     "output_type": "stream",
     "text": [
      "[[4784   35]\n",
      " [ 113  282]]\n"
     ]
    }
   ],
   "source": [
    "print(confusion_matrix(y_test, y_hat))"
   ]
  },
  {
   "cell_type": "markdown",
   "metadata": {},
   "source": [
    "#### Built-in classification report"
   ]
  },
  {
   "cell_type": "code",
   "execution_count": 55,
   "metadata": {},
   "outputs": [
    {
     "name": "stdout",
     "output_type": "stream",
     "text": [
      "              precision    recall  f1-score   support\n",
      "\n",
      "           0       0.98      0.99      0.98      4819\n",
      "           1       0.89      0.71      0.79       395\n",
      "\n",
      "    accuracy                           0.97      5214\n",
      "   macro avg       0.93      0.85      0.89      5214\n",
      "weighted avg       0.97      0.97      0.97      5214\n",
      "\n"
     ]
    }
   ],
   "source": [
    "print(classification_report(y_test, y_hat))"
   ]
  },
  {
   "cell_type": "markdown",
   "metadata": {},
   "source": [
    "Accuracy is great at 97%, but our F1 score is not so good at only 79%. Our positive predictions aren't super accurate with a precision of 71%. Recall at 71% tells us that we're not capturing true postives as well as we'd like. We do not necessarily trust these statistics since our target variable is relatively imbalanced."
   ]
  },
  {
   "cell_type": "code",
   "execution_count": 56,
   "metadata": {},
   "outputs": [],
   "source": [
    "my_param_grid = {'n_estimators':[100,200], 'criterion':['gini','entropy'],  'max_features':['log2', 'auto'], 'max_depth':[10,None]}"
   ]
  },
  {
   "cell_type": "code",
   "execution_count": 57,
   "metadata": {},
   "outputs": [],
   "source": [
    "from sklearn.model_selection import GridSearchCV"
   ]
  },
  {
   "cell_type": "code",
   "execution_count": 58,
   "metadata": {},
   "outputs": [],
   "source": [
    "grid = GridSearchCV(estimator=RandomForestClassifier(random_state=rand_state),param_grid= my_param_grid, refit = True, verbose=2, cv=5 )\n",
    "# verbose just means the text output describing the process. (the greater the number the more detail you will get)."
   ]
  },
  {
   "cell_type": "code",
   "execution_count": 59,
   "metadata": {},
   "outputs": [
    {
     "name": "stdout",
     "output_type": "stream",
     "text": [
      "Fitting 5 folds for each of 16 candidates, totalling 80 fits\n",
      "[CV] criterion=gini, max_depth=10, max_features=log2, n_estimators=100 \n"
     ]
    },
    {
     "name": "stderr",
     "output_type": "stream",
     "text": [
      "[Parallel(n_jobs=1)]: Using backend SequentialBackend with 1 concurrent workers.\n"
     ]
    },
    {
     "name": "stdout",
     "output_type": "stream",
     "text": [
      "[CV]  criterion=gini, max_depth=10, max_features=log2, n_estimators=100, total=   0.8s\n",
      "[CV] criterion=gini, max_depth=10, max_features=log2, n_estimators=100 \n"
     ]
    },
    {
     "name": "stderr",
     "output_type": "stream",
     "text": [
      "[Parallel(n_jobs=1)]: Done   1 out of   1 | elapsed:    0.7s remaining:    0.0s\n"
     ]
    },
    {
     "name": "stdout",
     "output_type": "stream",
     "text": [
      "[CV]  criterion=gini, max_depth=10, max_features=log2, n_estimators=100, total=   0.8s\n",
      "[CV] criterion=gini, max_depth=10, max_features=log2, n_estimators=100 \n",
      "[CV]  criterion=gini, max_depth=10, max_features=log2, n_estimators=100, total=   0.9s\n",
      "[CV] criterion=gini, max_depth=10, max_features=log2, n_estimators=100 \n",
      "[CV]  criterion=gini, max_depth=10, max_features=log2, n_estimators=100, total=   0.8s\n",
      "[CV] criterion=gini, max_depth=10, max_features=log2, n_estimators=100 \n",
      "[CV]  criterion=gini, max_depth=10, max_features=log2, n_estimators=100, total=   1.0s\n",
      "[CV] criterion=gini, max_depth=10, max_features=log2, n_estimators=200 \n",
      "[CV]  criterion=gini, max_depth=10, max_features=log2, n_estimators=200, total=   1.7s\n",
      "[CV] criterion=gini, max_depth=10, max_features=log2, n_estimators=200 \n",
      "[CV]  criterion=gini, max_depth=10, max_features=log2, n_estimators=200, total=   1.4s\n",
      "[CV] criterion=gini, max_depth=10, max_features=log2, n_estimators=200 \n",
      "[CV]  criterion=gini, max_depth=10, max_features=log2, n_estimators=200, total=   1.3s\n",
      "[CV] criterion=gini, max_depth=10, max_features=log2, n_estimators=200 \n",
      "[CV]  criterion=gini, max_depth=10, max_features=log2, n_estimators=200, total=   1.5s\n",
      "[CV] criterion=gini, max_depth=10, max_features=log2, n_estimators=200 \n",
      "[CV]  criterion=gini, max_depth=10, max_features=log2, n_estimators=200, total=   1.6s\n",
      "[CV] criterion=gini, max_depth=10, max_features=auto, n_estimators=100 \n",
      "[CV]  criterion=gini, max_depth=10, max_features=auto, n_estimators=100, total=   0.7s\n",
      "[CV] criterion=gini, max_depth=10, max_features=auto, n_estimators=100 \n",
      "[CV]  criterion=gini, max_depth=10, max_features=auto, n_estimators=100, total=   0.9s\n",
      "[CV] criterion=gini, max_depth=10, max_features=auto, n_estimators=100 \n",
      "[CV]  criterion=gini, max_depth=10, max_features=auto, n_estimators=100, total=   0.6s\n",
      "[CV] criterion=gini, max_depth=10, max_features=auto, n_estimators=100 \n",
      "[CV]  criterion=gini, max_depth=10, max_features=auto, n_estimators=100, total=   0.7s\n",
      "[CV] criterion=gini, max_depth=10, max_features=auto, n_estimators=100 \n",
      "[CV]  criterion=gini, max_depth=10, max_features=auto, n_estimators=100, total=   0.6s\n",
      "[CV] criterion=gini, max_depth=10, max_features=auto, n_estimators=200 \n",
      "[CV]  criterion=gini, max_depth=10, max_features=auto, n_estimators=200, total=   1.4s\n",
      "[CV] criterion=gini, max_depth=10, max_features=auto, n_estimators=200 \n",
      "[CV]  criterion=gini, max_depth=10, max_features=auto, n_estimators=200, total=   1.6s\n",
      "[CV] criterion=gini, max_depth=10, max_features=auto, n_estimators=200 \n",
      "[CV]  criterion=gini, max_depth=10, max_features=auto, n_estimators=200, total=   1.4s\n",
      "[CV] criterion=gini, max_depth=10, max_features=auto, n_estimators=200 \n",
      "[CV]  criterion=gini, max_depth=10, max_features=auto, n_estimators=200, total=   1.4s\n",
      "[CV] criterion=gini, max_depth=10, max_features=auto, n_estimators=200 \n",
      "[CV]  criterion=gini, max_depth=10, max_features=auto, n_estimators=200, total=   1.5s\n",
      "[CV] criterion=gini, max_depth=None, max_features=log2, n_estimators=100 \n",
      "[CV]  criterion=gini, max_depth=None, max_features=log2, n_estimators=100, total=   0.7s\n",
      "[CV] criterion=gini, max_depth=None, max_features=log2, n_estimators=100 \n",
      "[CV]  criterion=gini, max_depth=None, max_features=log2, n_estimators=100, total=   0.8s\n",
      "[CV] criterion=gini, max_depth=None, max_features=log2, n_estimators=100 \n",
      "[CV]  criterion=gini, max_depth=None, max_features=log2, n_estimators=100, total=   0.8s\n",
      "[CV] criterion=gini, max_depth=None, max_features=log2, n_estimators=100 \n",
      "[CV]  criterion=gini, max_depth=None, max_features=log2, n_estimators=100, total=   0.8s\n",
      "[CV] criterion=gini, max_depth=None, max_features=log2, n_estimators=100 \n",
      "[CV]  criterion=gini, max_depth=None, max_features=log2, n_estimators=100, total=   0.8s\n",
      "[CV] criterion=gini, max_depth=None, max_features=log2, n_estimators=200 \n",
      "[CV]  criterion=gini, max_depth=None, max_features=log2, n_estimators=200, total=   1.6s\n",
      "[CV] criterion=gini, max_depth=None, max_features=log2, n_estimators=200 \n",
      "[CV]  criterion=gini, max_depth=None, max_features=log2, n_estimators=200, total=   1.4s\n",
      "[CV] criterion=gini, max_depth=None, max_features=log2, n_estimators=200 \n",
      "[CV]  criterion=gini, max_depth=None, max_features=log2, n_estimators=200, total=   1.5s\n",
      "[CV] criterion=gini, max_depth=None, max_features=log2, n_estimators=200 \n",
      "[CV]  criterion=gini, max_depth=None, max_features=log2, n_estimators=200, total=   1.5s\n",
      "[CV] criterion=gini, max_depth=None, max_features=log2, n_estimators=200 \n",
      "[CV]  criterion=gini, max_depth=None, max_features=log2, n_estimators=200, total=   1.5s\n",
      "[CV] criterion=gini, max_depth=None, max_features=auto, n_estimators=100 \n",
      "[CV]  criterion=gini, max_depth=None, max_features=auto, n_estimators=100, total=   0.9s\n",
      "[CV] criterion=gini, max_depth=None, max_features=auto, n_estimators=100 \n",
      "[CV]  criterion=gini, max_depth=None, max_features=auto, n_estimators=100, total=   0.9s\n",
      "[CV] criterion=gini, max_depth=None, max_features=auto, n_estimators=100 \n",
      "[CV]  criterion=gini, max_depth=None, max_features=auto, n_estimators=100, total=   0.9s\n",
      "[CV] criterion=gini, max_depth=None, max_features=auto, n_estimators=100 \n",
      "[CV]  criterion=gini, max_depth=None, max_features=auto, n_estimators=100, total=   0.8s\n",
      "[CV] criterion=gini, max_depth=None, max_features=auto, n_estimators=100 \n",
      "[CV]  criterion=gini, max_depth=None, max_features=auto, n_estimators=100, total=   0.7s\n",
      "[CV] criterion=gini, max_depth=None, max_features=auto, n_estimators=200 \n",
      "[CV]  criterion=gini, max_depth=None, max_features=auto, n_estimators=200, total=   1.6s\n",
      "[CV] criterion=gini, max_depth=None, max_features=auto, n_estimators=200 \n",
      "[CV]  criterion=gini, max_depth=None, max_features=auto, n_estimators=200, total=   1.8s\n",
      "[CV] criterion=gini, max_depth=None, max_features=auto, n_estimators=200 \n",
      "[CV]  criterion=gini, max_depth=None, max_features=auto, n_estimators=200, total=   1.5s\n",
      "[CV] criterion=gini, max_depth=None, max_features=auto, n_estimators=200 \n",
      "[CV]  criterion=gini, max_depth=None, max_features=auto, n_estimators=200, total=   1.6s\n",
      "[CV] criterion=gini, max_depth=None, max_features=auto, n_estimators=200 \n",
      "[CV]  criterion=gini, max_depth=None, max_features=auto, n_estimators=200, total=   1.4s\n",
      "[CV] criterion=entropy, max_depth=10, max_features=log2, n_estimators=100 \n",
      "[CV]  criterion=entropy, max_depth=10, max_features=log2, n_estimators=100, total=   0.7s\n",
      "[CV] criterion=entropy, max_depth=10, max_features=log2, n_estimators=100 \n",
      "[CV]  criterion=entropy, max_depth=10, max_features=log2, n_estimators=100, total=   0.6s\n",
      "[CV] criterion=entropy, max_depth=10, max_features=log2, n_estimators=100 \n",
      "[CV]  criterion=entropy, max_depth=10, max_features=log2, n_estimators=100, total=   0.7s\n",
      "[CV] criterion=entropy, max_depth=10, max_features=log2, n_estimators=100 \n",
      "[CV]  criterion=entropy, max_depth=10, max_features=log2, n_estimators=100, total=   0.8s\n",
      "[CV] criterion=entropy, max_depth=10, max_features=log2, n_estimators=100 \n",
      "[CV]  criterion=entropy, max_depth=10, max_features=log2, n_estimators=100, total=   0.8s\n",
      "[CV] criterion=entropy, max_depth=10, max_features=log2, n_estimators=200 \n",
      "[CV]  criterion=entropy, max_depth=10, max_features=log2, n_estimators=200, total=   1.6s\n",
      "[CV] criterion=entropy, max_depth=10, max_features=log2, n_estimators=200 \n",
      "[CV]  criterion=entropy, max_depth=10, max_features=log2, n_estimators=200, total=   1.4s\n",
      "[CV] criterion=entropy, max_depth=10, max_features=log2, n_estimators=200 \n",
      "[CV]  criterion=entropy, max_depth=10, max_features=log2, n_estimators=200, total=   1.3s\n",
      "[CV] criterion=entropy, max_depth=10, max_features=log2, n_estimators=200 \n",
      "[CV]  criterion=entropy, max_depth=10, max_features=log2, n_estimators=200, total=   1.4s\n",
      "[CV] criterion=entropy, max_depth=10, max_features=log2, n_estimators=200 \n",
      "[CV]  criterion=entropy, max_depth=10, max_features=log2, n_estimators=200, total=   1.3s\n",
      "[CV] criterion=entropy, max_depth=10, max_features=auto, n_estimators=100 \n",
      "[CV]  criterion=entropy, max_depth=10, max_features=auto, n_estimators=100, total=   0.7s\n",
      "[CV] criterion=entropy, max_depth=10, max_features=auto, n_estimators=100 \n",
      "[CV]  criterion=entropy, max_depth=10, max_features=auto, n_estimators=100, total=   0.8s\n",
      "[CV] criterion=entropy, max_depth=10, max_features=auto, n_estimators=100 \n",
      "[CV]  criterion=entropy, max_depth=10, max_features=auto, n_estimators=100, total=   0.7s\n",
      "[CV] criterion=entropy, max_depth=10, max_features=auto, n_estimators=100 \n",
      "[CV]  criterion=entropy, max_depth=10, max_features=auto, n_estimators=100, total=   0.7s\n",
      "[CV] criterion=entropy, max_depth=10, max_features=auto, n_estimators=100 \n",
      "[CV]  criterion=entropy, max_depth=10, max_features=auto, n_estimators=100, total=   0.8s\n",
      "[CV] criterion=entropy, max_depth=10, max_features=auto, n_estimators=200 \n",
      "[CV]  criterion=entropy, max_depth=10, max_features=auto, n_estimators=200, total=   1.3s\n",
      "[CV] criterion=entropy, max_depth=10, max_features=auto, n_estimators=200 \n",
      "[CV]  criterion=entropy, max_depth=10, max_features=auto, n_estimators=200, total=   1.5s\n",
      "[CV] criterion=entropy, max_depth=10, max_features=auto, n_estimators=200 \n",
      "[CV]  criterion=entropy, max_depth=10, max_features=auto, n_estimators=200, total=   2.0s\n",
      "[CV] criterion=entropy, max_depth=10, max_features=auto, n_estimators=200 \n",
      "[CV]  criterion=entropy, max_depth=10, max_features=auto, n_estimators=200, total=   1.6s\n",
      "[CV] criterion=entropy, max_depth=10, max_features=auto, n_estimators=200 \n",
      "[CV]  criterion=entropy, max_depth=10, max_features=auto, n_estimators=200, total=   2.0s\n",
      "[CV] criterion=entropy, max_depth=None, max_features=log2, n_estimators=100 \n",
      "[CV]  criterion=entropy, max_depth=None, max_features=log2, n_estimators=100, total=   1.0s\n",
      "[CV] criterion=entropy, max_depth=None, max_features=log2, n_estimators=100 \n",
      "[CV]  criterion=entropy, max_depth=None, max_features=log2, n_estimators=100, total=   1.1s\n",
      "[CV] criterion=entropy, max_depth=None, max_features=log2, n_estimators=100 \n",
      "[CV]  criterion=entropy, max_depth=None, max_features=log2, n_estimators=100, total=   1.2s\n",
      "[CV] criterion=entropy, max_depth=None, max_features=log2, n_estimators=100 \n",
      "[CV]  criterion=entropy, max_depth=None, max_features=log2, n_estimators=100, total=   0.9s\n",
      "[CV] criterion=entropy, max_depth=None, max_features=log2, n_estimators=100 \n",
      "[CV]  criterion=entropy, max_depth=None, max_features=log2, n_estimators=100, total=   0.9s\n",
      "[CV] criterion=entropy, max_depth=None, max_features=log2, n_estimators=200 \n",
      "[CV]  criterion=entropy, max_depth=None, max_features=log2, n_estimators=200, total=   2.0s\n",
      "[CV] criterion=entropy, max_depth=None, max_features=log2, n_estimators=200 \n",
      "[CV]  criterion=entropy, max_depth=None, max_features=log2, n_estimators=200, total=   1.5s\n",
      "[CV] criterion=entropy, max_depth=None, max_features=log2, n_estimators=200 \n",
      "[CV]  criterion=entropy, max_depth=None, max_features=log2, n_estimators=200, total=   1.7s\n",
      "[CV] criterion=entropy, max_depth=None, max_features=log2, n_estimators=200 \n",
      "[CV]  criterion=entropy, max_depth=None, max_features=log2, n_estimators=200, total=   1.6s\n",
      "[CV] criterion=entropy, max_depth=None, max_features=log2, n_estimators=200 \n",
      "[CV]  criterion=entropy, max_depth=None, max_features=log2, n_estimators=200, total=   1.7s\n",
      "[CV] criterion=entropy, max_depth=None, max_features=auto, n_estimators=100 \n",
      "[CV]  criterion=entropy, max_depth=None, max_features=auto, n_estimators=100, total=   1.0s\n",
      "[CV] criterion=entropy, max_depth=None, max_features=auto, n_estimators=100 \n",
      "[CV]  criterion=entropy, max_depth=None, max_features=auto, n_estimators=100, total=   0.9s\n",
      "[CV] criterion=entropy, max_depth=None, max_features=auto, n_estimators=100 \n",
      "[CV]  criterion=entropy, max_depth=None, max_features=auto, n_estimators=100, total=   0.8s\n",
      "[CV] criterion=entropy, max_depth=None, max_features=auto, n_estimators=100 \n",
      "[CV]  criterion=entropy, max_depth=None, max_features=auto, n_estimators=100, total=   0.9s\n",
      "[CV] criterion=entropy, max_depth=None, max_features=auto, n_estimators=100 \n",
      "[CV]  criterion=entropy, max_depth=None, max_features=auto, n_estimators=100, total=   0.7s\n",
      "[CV] criterion=entropy, max_depth=None, max_features=auto, n_estimators=200 \n",
      "[CV]  criterion=entropy, max_depth=None, max_features=auto, n_estimators=200, total=   1.7s\n",
      "[CV] criterion=entropy, max_depth=None, max_features=auto, n_estimators=200 \n",
      "[CV]  criterion=entropy, max_depth=None, max_features=auto, n_estimators=200, total=   1.8s\n",
      "[CV] criterion=entropy, max_depth=None, max_features=auto, n_estimators=200 \n",
      "[CV]  criterion=entropy, max_depth=None, max_features=auto, n_estimators=200, total=   1.7s\n",
      "[CV] criterion=entropy, max_depth=None, max_features=auto, n_estimators=200 \n",
      "[CV]  criterion=entropy, max_depth=None, max_features=auto, n_estimators=200, total=   1.6s\n",
      "[CV] criterion=entropy, max_depth=None, max_features=auto, n_estimators=200 \n",
      "[CV]  criterion=entropy, max_depth=None, max_features=auto, n_estimators=200, total=   1.8s\n"
     ]
    },
    {
     "name": "stderr",
     "output_type": "stream",
     "text": [
      "[Parallel(n_jobs=1)]: Done  80 out of  80 | elapsed:  1.6min finished\n"
     ]
    },
    {
     "data": {
      "text/plain": [
       "GridSearchCV(cv=5, estimator=RandomForestClassifier(random_state=1000),\n",
       "             param_grid={'criterion': ['gini', 'entropy'],\n",
       "                         'max_depth': [10, None],\n",
       "                         'max_features': ['log2', 'auto'],\n",
       "                         'n_estimators': [100, 200]},\n",
       "             verbose=2)"
      ]
     },
     "execution_count": 59,
     "metadata": {},
     "output_type": "execute_result"
    }
   ],
   "source": [
    "# May take a while!\n",
    "grid.fit(X_train,y_train)"
   ]
  },
  {
   "cell_type": "code",
   "execution_count": 60,
   "metadata": {},
   "outputs": [
    {
     "data": {
      "text/plain": [
       "{'criterion': 'entropy',\n",
       " 'max_depth': None,\n",
       " 'max_features': 'log2',\n",
       " 'n_estimators': 100}"
      ]
     },
     "execution_count": 60,
     "metadata": {},
     "output_type": "execute_result"
    }
   ],
   "source": [
    "grid.best_params_"
   ]
  },
  {
   "cell_type": "code",
   "execution_count": 65,
   "metadata": {},
   "outputs": [
    {
     "data": {
      "text/plain": [
       "RandomForestClassifier(criterion='entropy', max_features='log2',\n",
       "                       random_state=1000)"
      ]
     },
     "execution_count": 65,
     "metadata": {},
     "output_type": "execute_result"
    }
   ],
   "source": [
    "grid.best_estimator_"
   ]
  },
  {
   "cell_type": "code",
   "execution_count": 66,
   "metadata": {},
   "outputs": [],
   "source": [
    "y_hat_optimized = grid.predict(X_test)"
   ]
  },
  {
   "cell_type": "markdown",
   "metadata": {},
   "source": [
    "#### Confusion matrix"
   ]
  },
  {
   "cell_type": "code",
   "execution_count": 67,
   "metadata": {},
   "outputs": [
    {
     "name": "stdout",
     "output_type": "stream",
     "text": [
      "[[4782   37]\n",
      " [ 100  295]]\n"
     ]
    }
   ],
   "source": [
    "print(confusion_matrix(y_test, y_hat_optimized))"
   ]
  },
  {
   "cell_type": "markdown",
   "metadata": {},
   "source": [
    "#### Built-in classification report"
   ]
  },
  {
   "cell_type": "code",
   "execution_count": 68,
   "metadata": {},
   "outputs": [
    {
     "name": "stdout",
     "output_type": "stream",
     "text": [
      "              precision    recall  f1-score   support\n",
      "\n",
      "           0       0.98      0.99      0.99      4819\n",
      "           1       0.89      0.75      0.81       395\n",
      "\n",
      "    accuracy                           0.97      5214\n",
      "   macro avg       0.93      0.87      0.90      5214\n",
      "weighted avg       0.97      0.97      0.97      5214\n",
      "\n"
     ]
    }
   ],
   "source": [
    "print(classification_report(y_test, y_hat_optimized))"
   ]
  },
  {
   "cell_type": "code",
   "execution_count": 69,
   "metadata": {},
   "outputs": [
    {
     "data": {
      "image/png": "[encoded data removed]",
      "text/plain": [
       "<Figure size 432x288 with 1 Axes>"
      ]
     },
     "metadata": {},
     "output_type": "display_data"
    }
   ],
   "source": [
    "plt.hist(y_hat_optimized)\n",
    "plt.show()"
   ]
  },
  {
   "cell_type": "markdown",
   "metadata": {},
   "source": [
    "It looks like we are doing better now - accuracy is the same at 97%, but our F1 score is slightly better at 81%. Our positive predictions are much better with a precision of 89% and our recall has also improved to 75% so we're capturing true postives better. \n",
    "\n",
    "Best_params_ shows max_depth = none so our improved RF model is using a very bushy tree."
   ]
  },
  {
   "cell_type": "code",
   "execution_count": 70,
   "metadata": {},
   "outputs": [],
   "source": [
    "R2 = cross_val_score(estimator = RandomForestClassifier(max_depth=20, max_features='sqrt', n_estimators=500), X = X_train, y = y_train, cv = 5 , scoring=\"r2\" )"
   ]
  },
  {
   "cell_type": "code",
   "execution_count": 71,
   "metadata": {},
   "outputs": [
    {
     "data": {
      "text/plain": [
       "0.5987"
      ]
     },
     "execution_count": 71,
     "metadata": {},
     "output_type": "execute_result"
    }
   ],
   "source": [
    "R2_CV = round(np.mean(R2),4)\n",
    "R2_CV"
   ]
  },
  {
   "cell_type": "code",
   "execution_count": 72,
   "metadata": {},
   "outputs": [
    {
     "data": {
      "text/plain": [
       "array([75, 80,  1, 15, 95, 16, 74, 38, 26, 98, 50, 30, 20, 74, 25, 72, 65,\n",
       "       42, 42, 63, 24, 29, 60,  7, 11, 50, 63, 67, 11, 92, 40, 31, 69, 52,\n",
       "       94,  6, 40, 95, 44, 89, 84, 91, 74, 14, 43, 63, 79, 70,  3, 92,  1,\n",
       "       28, 36, 84, 34, 78, 44, 48, 38, 44,  4, 20, 37, 91, 57, 87, 71, 55,\n",
       "       98, 76,  7, 89, 73, 92, 63, 31, 55, 98, 45, 28, 42,  9, 83, 82, 16,\n",
       "       80, 28, 74, 36, 15, 39, 64, 67,  0, 36, 91,  7, 80,  9, 61])"
      ]
     },
     "execution_count": 72,
     "metadata": {},
     "output_type": "execute_result"
    }
   ],
   "source": [
    "np.random.choice (100,size=100)"
   ]
  },
  {
   "cell_type": "code",
   "execution_count": 73,
   "metadata": {},
   "outputs": [
    {
     "data": {
      "text/plain": [
       "69"
      ]
     },
     "execution_count": 73,
     "metadata": {},
     "output_type": "execute_result"
    }
   ],
   "source": [
    "np.unique(np.random.choice (100,size=100)).size"
   ]
  },
  {
   "cell_type": "code",
   "execution_count": 74,
   "metadata": {},
   "outputs": [
    {
     "data": {
      "text/plain": [
       "RandomForestClassifier(max_depth=20, max_features='sqrt', n_estimators=500,\n",
       "                       oob_score=True)"
      ]
     },
     "execution_count": 74,
     "metadata": {},
     "output_type": "execute_result"
    }
   ],
   "source": [
    "RF_oob = RandomForestClassifier(max_depth=20, max_features='sqrt', n_estimators=500, oob_score=True)\n",
    "RF_oob.fit(X_train, y_train)"
   ]
  },
  {
   "cell_type": "code",
   "execution_count": 75,
   "metadata": {},
   "outputs": [
    {
     "data": {
      "text/plain": [
       "0.9738594327990135"
      ]
     },
     "execution_count": 75,
     "metadata": {},
     "output_type": "execute_result"
    }
   ],
   "source": [
    "RF_oob.oob_score_"
   ]
  },
  {
   "cell_type": "markdown",
   "metadata": {},
   "source": [
    "OOB is giving us a higher estimate of the R^2 in the test set compared to CV, but both the OOB and CV results are lower than we'd like."
   ]
  },
  {
   "cell_type": "code",
   "execution_count": 81,
   "metadata": {},
   "outputs": [],
   "source": [
    "RF_balanced = RandomForestClassifier(random_state=rand_state, criterion='entropy', max_features='log2', max_depth=None, class_weight='balanced_subsample')"
   ]
  },
  {
   "cell_type": "code",
   "execution_count": 82,
   "metadata": {},
   "outputs": [],
   "source": [
    "y_hat_balanced = RF_balanced.fit(X_train, y_train).predict(X_test)"
   ]
  },
  {
   "cell_type": "code",
   "execution_count": 83,
   "metadata": {},
   "outputs": [
    {
     "name": "stdout",
     "output_type": "stream",
     "text": [
      "[[4788   31]\n",
      " [ 103  292]]\n"
     ]
    }
   ],
   "source": [
    "print(confusion_matrix(y_test, y_hat_balanced))"
   ]
  },
  {
   "cell_type": "code",
   "execution_count": 84,
   "metadata": {},
   "outputs": [
    {
     "name": "stdout",
     "output_type": "stream",
     "text": [
      "              precision    recall  f1-score   support\n",
      "\n",
      "           0       0.98      0.99      0.99      4819\n",
      "           1       0.90      0.74      0.81       395\n",
      "\n",
      "    accuracy                           0.97      5214\n",
      "   macro avg       0.94      0.87      0.90      5214\n",
      "weighted avg       0.97      0.97      0.97      5214\n",
      "\n"
     ]
    }
   ],
   "source": [
    "print(classification_report(y_test, y_hat_balanced))"
   ]
  },
  {
   "cell_type": "markdown",
   "metadata": {},
   "source": [
    "Accuracy is still great at 97%, and our F1 has also not changed (still at 81%). Our positive predictions are doing slightly better - precision is now at 90%. Recall, however, decreased slightly to 74%. This doesn't make sense though - when we used the balanced version of RF, the threshold at which we predict overload = 0 has been lowered, so the model is should be predicting more overload = 1 than before. Theoretically this allows us to capture true positives better, but we take on more false positives. In this case, the recall decreased though - we are not sure what happened."
   ]
  },
  {
   "cell_type": "code",
   "execution_count": 85,
   "metadata": {},
   "outputs": [],
   "source": [
    "from sklearn.metrics import roc_curve, roc_auc_score"
   ]
  },
  {
   "cell_type": "code",
   "execution_count": 86,
   "metadata": {},
   "outputs": [
    {
     "name": "stdout",
     "output_type": "stream",
     "text": [
      "No Skill     : ROC AUC=0.500\n",
      "Random Forest: ROC AUC=0.985\n"
     ]
    },
    {
     "data": {
      "image/png": "[encoded data removed]",
      "text/plain": [
       "<Figure size 432x288 with 1 Axes>"
      ]
     },
     "metadata": {},
     "output_type": "display_data"
    }
   ],
   "source": [
    "# generate a no skill (ns) prediction and logistic regression (lr) predictions.\n",
    "ns_probs = [0 for i in range(len(y_test))]\n",
    "lr_probs = RF_balanced.predict_proba(X_test)[:,1]\n",
    "# calculating scores for no skill and logistic regression\n",
    "ns_auc = roc_auc_score(y_test, ns_probs)\n",
    "lr_auc = roc_auc_score(y_test, lr_probs)\n",
    "print('No Skill     : ROC AUC=%.3f' % (ns_auc))\n",
    "print('Random Forest: ROC AUC=%.3f' % (lr_auc))\n",
    "\n",
    "# calculate roc curves\n",
    "ns_fpr, ns_tpr, _ = roc_curve(y_test, ns_probs)\n",
    "lr_fpr, lr_tpr, _ = roc_curve(y_test, lr_probs)\n",
    "# plot the roc curve for the model\n",
    "plt.plot(ns_fpr, ns_tpr, linestyle='--', label='No Skill')\n",
    "plt.plot(lr_fpr, lr_tpr, marker='.', label='Random Forest (balanced)')\n",
    "# axis labels\n",
    "plt.xlabel('False Positive Rate')\n",
    "plt.ylabel('True Positive Rate')\n",
    "# show the legend\n",
    "plt.legend()\n",
    "# show the plot\n",
    "plt.show()"
   ]
  },
  {
   "cell_type": "markdown",
   "metadata": {},
   "source": [
    "This ROC curve is looking great, and we can't be unhappy with an AUC of .985. Our model is definitely doing better than no skill. We do trust this number because we're using the balanced RF."
   ]
  },
  {
   "cell_type": "code",
   "execution_count": 87,
   "metadata": {},
   "outputs": [
    {
     "data": {
      "text/plain": [
       "['season',\n",
       " 'yr',\n",
       " 'mnth',\n",
       " 'hr',\n",
       " 'holiday',\n",
       " 'weekday',\n",
       " 'notbizday',\n",
       " 'weathersit',\n",
       " 'temp',\n",
       " 'hum',\n",
       " 'windspeed']"
      ]
     },
     "execution_count": 87,
     "metadata": {},
     "output_type": "execute_result"
    }
   ],
   "source": [
    "features = list(X_train.columns)\n",
    "features"
   ]
  },
  {
   "cell_type": "code",
   "execution_count": 88,
   "metadata": {},
   "outputs": [
    {
     "data": {
      "text/plain": [
       "array([0.03241689, 0.12167405, 0.05412284, 0.41955584, 0.0048067 ,\n",
       "       0.04424252, 0.04410568, 0.01615674, 0.12550181, 0.09232921,\n",
       "       0.04508771])"
      ]
     },
     "execution_count": 88,
     "metadata": {},
     "output_type": "execute_result"
    }
   ],
   "source": [
    "importance = RF_balanced.feature_importances_\n",
    "importance"
   ]
  },
  {
   "cell_type": "code",
   "execution_count": 89,
   "metadata": {},
   "outputs": [
    {
     "data": {
      "text/html": [
       "<div>\n",
       "<style scoped>\n",
       "    .dataframe tbody tr th:only-of-type {\n",
       "        vertical-align: middle;\n",
       "    }\n",
       "\n",
       "    .dataframe tbody tr th {\n",
       "        vertical-align: top;\n",
       "    }\n",
       "\n",
       "    .dataframe thead th {\n",
       "        text-align: right;\n",
       "    }\n",
       "</style>\n",
       "<table border=\"1\" class=\"dataframe\">\n",
       "  <thead>\n",
       "    <tr style=\"text-align: right;\">\n",
       "      <th></th>\n",
       "      <th>Features</th>\n",
       "      <th>Feature_importance</th>\n",
       "    </tr>\n",
       "  </thead>\n",
       "  <tbody>\n",
       "    <tr>\n",
       "      <th>4</th>\n",
       "      <td>holiday</td>\n",
       "      <td>0.004807</td>\n",
       "    </tr>\n",
       "    <tr>\n",
       "      <th>7</th>\n",
       "      <td>weathersit</td>\n",
       "      <td>0.016157</td>\n",
       "    </tr>\n",
       "    <tr>\n",
       "      <th>0</th>\n",
       "      <td>season</td>\n",
       "      <td>0.032417</td>\n",
       "    </tr>\n",
       "    <tr>\n",
       "      <th>6</th>\n",
       "      <td>notbizday</td>\n",
       "      <td>0.044106</td>\n",
       "    </tr>\n",
       "    <tr>\n",
       "      <th>5</th>\n",
       "      <td>weekday</td>\n",
       "      <td>0.044243</td>\n",
       "    </tr>\n",
       "    <tr>\n",
       "      <th>10</th>\n",
       "      <td>windspeed</td>\n",
       "      <td>0.045088</td>\n",
       "    </tr>\n",
       "    <tr>\n",
       "      <th>2</th>\n",
       "      <td>mnth</td>\n",
       "      <td>0.054123</td>\n",
       "    </tr>\n",
       "    <tr>\n",
       "      <th>9</th>\n",
       "      <td>hum</td>\n",
       "      <td>0.092329</td>\n",
       "    </tr>\n",
       "    <tr>\n",
       "      <th>1</th>\n",
       "      <td>yr</td>\n",
       "      <td>0.121674</td>\n",
       "    </tr>\n",
       "    <tr>\n",
       "      <th>8</th>\n",
       "      <td>temp</td>\n",
       "      <td>0.125502</td>\n",
       "    </tr>\n",
       "    <tr>\n",
       "      <th>3</th>\n",
       "      <td>hr</td>\n",
       "      <td>0.419556</td>\n",
       "    </tr>\n",
       "  </tbody>\n",
       "</table>\n",
       "</div>"
      ],
      "text/plain": [
       "      Features  Feature_importance\n",
       "4      holiday            0.004807\n",
       "7   weathersit            0.016157\n",
       "0       season            0.032417\n",
       "6    notbizday            0.044106\n",
       "5      weekday            0.044243\n",
       "10   windspeed            0.045088\n",
       "2         mnth            0.054123\n",
       "9          hum            0.092329\n",
       "1           yr            0.121674\n",
       "8         temp            0.125502\n",
       "3           hr            0.419556"
      ]
     },
     "execution_count": 89,
     "metadata": {},
     "output_type": "execute_result"
    }
   ],
   "source": [
    "FIM = pd.DataFrame({'Features': X_train.columns , 'Feature_importance':importance})\n",
    "FIM = FIM.sort_values(by=['Feature_importance'])\n",
    "FIM"
   ]
  },
  {
   "cell_type": "code",
   "execution_count": 90,
   "metadata": {},
   "outputs": [
    {
     "data": {
      "image/png": "[encoded data removed]",
      "text/plain": [
       "<Figure size 720x432 with 1 Axes>"
      ]
     },
     "metadata": {},
     "output_type": "display_data"
    }
   ],
   "source": [
    "plt.figure(figsize=(10,6))\n",
    "plt.title('Feature Importance')\n",
    "sns.barplot(y='Features', x='Feature_importance', data=FIM)\n",
    "plt.show()"
   ]
  },
  {
   "cell_type": "markdown",
   "metadata": {},
   "source": [
    "Top 5 features: Hour, Temperature, Year, Humidity, and Month\n",
    "\n",
    "These are absolutely consistent with common sense. The number of bikes rented is likely to be higher when the weather is comfortable (temps and humidity not too high or too low) and when the time is right (peak tourist season, times when people are not at work)."
   ]
  }
 ],
 "metadata": {
  "kernelspec": {
   "display_name": "Python 3",
   "language": "python",
   "name": "python3"
  },
  "language_info": {
   "codemirror_mode": {
    "name": "ipython",
    "version": 3
   },
   "file_extension": ".py",
   "mimetype": "text/x-python",
   "name": "python",
   "nbconvert_exporter": "python",
   "pygments_lexer": "ipython3",
   "version": "3.8.5"
  }
 },
 "nbformat": 4,
 "nbformat_minor": 4
}
