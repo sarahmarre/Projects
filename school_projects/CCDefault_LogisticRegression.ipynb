{
 "cells": [
  {
   "cell_type": "code",
   "execution_count": 532,
   "metadata": {},
   "outputs": [],
   "source": [
    "import numpy as np\n",
    "import pandas as pd\n",
    "import matplotlib.pyplot as plt\n",
    "import seaborn as sns\n",
    "from sklearn.metrics import roc_auc_score\n",
    "from sklearn.linear_model import LogisticRegression\n",
    "from sklearn.model_selection import train_test_split\n",
    "from sklearn.metrics import roc_curve\n",
    "from sklearn.linear_model import LogisticRegression\n",
    "from sklearn.model_selection import cross_val_score\n",
    "from sklearn.model_selection import KFold\n",
    "sns.set() \n",
    "import warnings\n",
    "warnings.filterwarnings('ignore')\n",
    "rand_state= 1000"
   ]
  },
  {
   "cell_type": "code",
   "execution_count": null,
   "metadata": {},
   "outputs": [],
   "source": [
    "#import data and look at what we're working with"
   ]
  },
  {
   "cell_type": "code",
   "execution_count": 533,
   "metadata": {},
   "outputs": [
    {
     "data": {
      "text/html": [
       "<div>\n",
       "<style scoped>\n",
       "    .dataframe tbody tr th:only-of-type {\n",
       "        vertical-align: middle;\n",
       "    }\n",
       "\n",
       "    .dataframe tbody tr th {\n",
       "        vertical-align: top;\n",
       "    }\n",
       "\n",
       "    .dataframe thead th {\n",
       "        text-align: right;\n",
       "    }\n",
       "</style>\n",
       "<table border=\"1\" class=\"dataframe\">\n",
       "  <thead>\n",
       "    <tr style=\"text-align: right;\">\n",
       "      <th></th>\n",
       "      <th>ID</th>\n",
       "      <th>LIMIT_BAL</th>\n",
       "      <th>SEX</th>\n",
       "      <th>EDUCATION</th>\n",
       "      <th>MARRIAGE</th>\n",
       "      <th>AGE</th>\n",
       "      <th>PAY_1</th>\n",
       "      <th>PAY_2</th>\n",
       "      <th>PAY_3</th>\n",
       "      <th>PAY_4</th>\n",
       "      <th>PAY_5</th>\n",
       "      <th>PAY_6</th>\n",
       "      <th>BILL_AMT1</th>\n",
       "      <th>BILL_AMT2</th>\n",
       "      <th>BILL_AMT3</th>\n",
       "      <th>BILL_AMT4</th>\n",
       "      <th>BILL_AMT5</th>\n",
       "      <th>BILL_AMT6</th>\n",
       "      <th>PAY_AMT1</th>\n",
       "      <th>PAY_AMT2</th>\n",
       "      <th>PAY_AMT3</th>\n",
       "      <th>PAY_AMT4</th>\n",
       "      <th>PAY_AMT5</th>\n",
       "      <th>PAY_AMT6</th>\n",
       "      <th>DEFAULT</th>\n",
       "    </tr>\n",
       "  </thead>\n",
       "  <tbody>\n",
       "    <tr>\n",
       "      <th>0</th>\n",
       "      <td>1</td>\n",
       "      <td>20000.0</td>\n",
       "      <td>female</td>\n",
       "      <td>university</td>\n",
       "      <td>married</td>\n",
       "      <td>24</td>\n",
       "      <td>2</td>\n",
       "      <td>2</td>\n",
       "      <td>-1</td>\n",
       "      <td>-1</td>\n",
       "      <td>-2</td>\n",
       "      <td>-2</td>\n",
       "      <td>3913.0</td>\n",
       "      <td>3102.0</td>\n",
       "      <td>689.0</td>\n",
       "      <td>0.0</td>\n",
       "      <td>0.0</td>\n",
       "      <td>0.0</td>\n",
       "      <td>0.0</td>\n",
       "      <td>689.0</td>\n",
       "      <td>0.0</td>\n",
       "      <td>0.0</td>\n",
       "      <td>0.0</td>\n",
       "      <td>0.0</td>\n",
       "      <td>1</td>\n",
       "    </tr>\n",
       "    <tr>\n",
       "      <th>1</th>\n",
       "      <td>2</td>\n",
       "      <td>120000.0</td>\n",
       "      <td>female</td>\n",
       "      <td>university</td>\n",
       "      <td>single</td>\n",
       "      <td>26</td>\n",
       "      <td>-1</td>\n",
       "      <td>2</td>\n",
       "      <td>0</td>\n",
       "      <td>0</td>\n",
       "      <td>0</td>\n",
       "      <td>2</td>\n",
       "      <td>2682.0</td>\n",
       "      <td>1725.0</td>\n",
       "      <td>2682.0</td>\n",
       "      <td>3272.0</td>\n",
       "      <td>3455.0</td>\n",
       "      <td>3261.0</td>\n",
       "      <td>0.0</td>\n",
       "      <td>1000.0</td>\n",
       "      <td>1000.0</td>\n",
       "      <td>1000.0</td>\n",
       "      <td>0.0</td>\n",
       "      <td>2000.0</td>\n",
       "      <td>1</td>\n",
       "    </tr>\n",
       "    <tr>\n",
       "      <th>2</th>\n",
       "      <td>3</td>\n",
       "      <td>90000.0</td>\n",
       "      <td>female</td>\n",
       "      <td>university</td>\n",
       "      <td>single</td>\n",
       "      <td>34</td>\n",
       "      <td>0</td>\n",
       "      <td>0</td>\n",
       "      <td>0</td>\n",
       "      <td>0</td>\n",
       "      <td>0</td>\n",
       "      <td>0</td>\n",
       "      <td>29239.0</td>\n",
       "      <td>14027.0</td>\n",
       "      <td>13559.0</td>\n",
       "      <td>14331.0</td>\n",
       "      <td>14948.0</td>\n",
       "      <td>15549.0</td>\n",
       "      <td>1518.0</td>\n",
       "      <td>1500.0</td>\n",
       "      <td>1000.0</td>\n",
       "      <td>1000.0</td>\n",
       "      <td>1000.0</td>\n",
       "      <td>5000.0</td>\n",
       "      <td>0</td>\n",
       "    </tr>\n",
       "    <tr>\n",
       "      <th>3</th>\n",
       "      <td>4</td>\n",
       "      <td>50000.0</td>\n",
       "      <td>female</td>\n",
       "      <td>university</td>\n",
       "      <td>married</td>\n",
       "      <td>37</td>\n",
       "      <td>0</td>\n",
       "      <td>0</td>\n",
       "      <td>0</td>\n",
       "      <td>0</td>\n",
       "      <td>0</td>\n",
       "      <td>0</td>\n",
       "      <td>46990.0</td>\n",
       "      <td>48233.0</td>\n",
       "      <td>49291.0</td>\n",
       "      <td>28314.0</td>\n",
       "      <td>28959.0</td>\n",
       "      <td>29547.0</td>\n",
       "      <td>2000.0</td>\n",
       "      <td>2019.0</td>\n",
       "      <td>1200.0</td>\n",
       "      <td>1100.0</td>\n",
       "      <td>1069.0</td>\n",
       "      <td>1000.0</td>\n",
       "      <td>0</td>\n",
       "    </tr>\n",
       "    <tr>\n",
       "      <th>4</th>\n",
       "      <td>5</td>\n",
       "      <td>50000.0</td>\n",
       "      <td>male</td>\n",
       "      <td>university</td>\n",
       "      <td>married</td>\n",
       "      <td>57</td>\n",
       "      <td>-1</td>\n",
       "      <td>0</td>\n",
       "      <td>-1</td>\n",
       "      <td>0</td>\n",
       "      <td>0</td>\n",
       "      <td>0</td>\n",
       "      <td>8617.0</td>\n",
       "      <td>5670.0</td>\n",
       "      <td>35835.0</td>\n",
       "      <td>20940.0</td>\n",
       "      <td>19146.0</td>\n",
       "      <td>19131.0</td>\n",
       "      <td>2000.0</td>\n",
       "      <td>36681.0</td>\n",
       "      <td>10000.0</td>\n",
       "      <td>9000.0</td>\n",
       "      <td>689.0</td>\n",
       "      <td>679.0</td>\n",
       "      <td>0</td>\n",
       "    </tr>\n",
       "  </tbody>\n",
       "</table>\n",
       "</div>"
      ],
      "text/plain": [
       "   ID  LIMIT_BAL     SEX   EDUCATION MARRIAGE  AGE  PAY_1  PAY_2  PAY_3  \\\n",
       "0   1    20000.0  female  university  married   24      2      2     -1   \n",
       "1   2   120000.0  female  university   single   26     -1      2      0   \n",
       "2   3    90000.0  female  university   single   34      0      0      0   \n",
       "3   4    50000.0  female  university  married   37      0      0      0   \n",
       "4   5    50000.0    male  university  married   57     -1      0     -1   \n",
       "\n",
       "   PAY_4  PAY_5  PAY_6  BILL_AMT1  BILL_AMT2  BILL_AMT3  BILL_AMT4  BILL_AMT5  \\\n",
       "0     -1     -2     -2     3913.0     3102.0      689.0        0.0        0.0   \n",
       "1      0      0      2     2682.0     1725.0     2682.0     3272.0     3455.0   \n",
       "2      0      0      0    29239.0    14027.0    13559.0    14331.0    14948.0   \n",
       "3      0      0      0    46990.0    48233.0    49291.0    28314.0    28959.0   \n",
       "4      0      0      0     8617.0     5670.0    35835.0    20940.0    19146.0   \n",
       "\n",
       "   BILL_AMT6  PAY_AMT1  PAY_AMT2  PAY_AMT3  PAY_AMT4  PAY_AMT5  PAY_AMT6  \\\n",
       "0        0.0       0.0     689.0       0.0       0.0       0.0       0.0   \n",
       "1     3261.0       0.0    1000.0    1000.0    1000.0       0.0    2000.0   \n",
       "2    15549.0    1518.0    1500.0    1000.0    1000.0    1000.0    5000.0   \n",
       "3    29547.0    2000.0    2019.0    1200.0    1100.0    1069.0    1000.0   \n",
       "4    19131.0    2000.0   36681.0   10000.0    9000.0     689.0     679.0   \n",
       "\n",
       "   DEFAULT  \n",
       "0        1  \n",
       "1        1  \n",
       "2        0  \n",
       "3        0  \n",
       "4        0  "
      ]
     },
     "execution_count": 533,
     "metadata": {},
     "output_type": "execute_result"
    }
   ],
   "source": [
    "df = pd.read_csv(\"credit_card_clean.csv\")\n",
    "df_raw = df\n",
    "df.head()"
   ]
  },
  {
   "cell_type": "code",
   "execution_count": null,
   "metadata": {},
   "outputs": [],
   "source": [
    "#checking for duplicates"
   ]
  },
  {
   "cell_type": "code",
   "execution_count": 534,
   "metadata": {},
   "outputs": [
    {
     "data": {
      "text/plain": [
       "ID           0.0\n",
       "LIMIT_BAL    0.0\n",
       "SEX          0.0\n",
       "EDUCATION    0.0\n",
       "MARRIAGE     0.0\n",
       "AGE          0.0\n",
       "PAY_1        0.0\n",
       "PAY_2        0.0\n",
       "PAY_3        0.0\n",
       "PAY_4        0.0\n",
       "PAY_5        0.0\n",
       "PAY_6        0.0\n",
       "BILL_AMT1    0.0\n",
       "BILL_AMT2    0.0\n",
       "BILL_AMT3    0.0\n",
       "BILL_AMT4    0.0\n",
       "BILL_AMT5    0.0\n",
       "BILL_AMT6    0.0\n",
       "PAY_AMT1     0.0\n",
       "PAY_AMT2     0.0\n",
       "PAY_AMT3     0.0\n",
       "PAY_AMT4     0.0\n",
       "PAY_AMT5     0.0\n",
       "PAY_AMT6     0.0\n",
       "DEFAULT      0.0\n",
       "dtype: float64"
      ]
     },
     "execution_count": 534,
     "metadata": {},
     "output_type": "execute_result"
    }
   ],
   "source": [
    "df.isna().sum()/len(df) *100"
   ]
  },
  {
   "cell_type": "code",
   "execution_count": 535,
   "metadata": {},
   "outputs": [
    {
     "data": {
      "text/plain": [
       "0"
      ]
     },
     "execution_count": 535,
     "metadata": {},
     "output_type": "execute_result"
    }
   ],
   "source": [
    "df.duplicated().sum()"
   ]
  },
  {
   "cell_type": "code",
   "execution_count": null,
   "metadata": {},
   "outputs": [],
   "source": [
    "#changing the feature variables that we see fit into categorical variables"
   ]
  },
  {
   "cell_type": "code",
   "execution_count": 536,
   "metadata": {},
   "outputs": [
    {
     "data": {
      "text/plain": [
       "Index(['ID', 'LIMIT_BAL', 'SEX', 'EDUCATION', 'MARRIAGE', 'AGE', 'PAY_1',\n",
       "       'PAY_2', 'PAY_3', 'PAY_4', 'PAY_5', 'PAY_6', 'BILL_AMT1', 'BILL_AMT2',\n",
       "       'BILL_AMT3', 'BILL_AMT4', 'BILL_AMT5', 'BILL_AMT6', 'PAY_AMT1',\n",
       "       'PAY_AMT2', 'PAY_AMT3', 'PAY_AMT4', 'PAY_AMT5', 'PAY_AMT6', 'DEFAULT'],\n",
       "      dtype='object')"
      ]
     },
     "execution_count": 536,
     "metadata": {},
     "output_type": "execute_result"
    }
   ],
   "source": [
    "df.columns"
   ]
  },
  {
   "cell_type": "code",
   "execution_count": 537,
   "metadata": {},
   "outputs": [
    {
     "name": "stdout",
     "output_type": "stream",
     "text": [
      "SEX ['female', 'male']\n",
      "EDUCATION ['grad', 'highschool', 'other', 'university']\n",
      "MARRIAGE ['married', 'other', 'single']\n",
      "PAY_1 [-2, -1, 0, 1, 2, 3, 4, 5, 6, 7, 8]\n",
      "PAY_2 [-2, -1, 0, 1, 2, 3, 4, 5, 6, 7, 8]\n",
      "PAY_3 [-2, -1, 0, 1, 2, 3, 4, 5, 6, 7, 8]\n",
      "PAY_4 [-2, -1, 0, 1, 2, 3, 4, 5, 6, 7, 8]\n",
      "PAY_5 [-2, -1, 0, 2, 3, 4, 5, 6, 7, 8]\n",
      "PAY_6 [-2, -1, 0, 2, 3, 4, 5, 6, 7, 8]\n",
      "DEFAULT [0, 1]\n"
     ]
    }
   ],
   "source": [
    "categoricals = ['SEX', 'EDUCATION', 'MARRIAGE', 'PAY_1','PAY_2', 'PAY_3', 'PAY_4', 'PAY_5', 'PAY_6', 'DEFAULT']\n",
    "for col in categoricals:\n",
    "    print (col, sorted(set(df[col])))"
   ]
  },
  {
   "cell_type": "code",
   "execution_count": null,
   "metadata": {},
   "outputs": [],
   "source": [
    "#looking at values for categorical variables that we set"
   ]
  },
  {
   "cell_type": "code",
   "execution_count": 538,
   "metadata": {},
   "outputs": [
    {
     "name": "stdout",
     "output_type": "stream",
     "text": [
      "female    0.603733\n",
      "male      0.396267\n",
      "Name: SEX, dtype: float64\n",
      "university    0.467667\n",
      "grad          0.352833\n",
      "highschool    0.163900\n",
      "other         0.015600\n",
      "Name: EDUCATION, dtype: float64\n",
      "single     0.532133\n",
      "married    0.455300\n",
      "other      0.012567\n",
      "Name: MARRIAGE, dtype: float64\n",
      " 0    0.491233\n",
      "-1    0.189533\n",
      " 1    0.122933\n",
      "-2    0.091967\n",
      " 2    0.088900\n",
      " 3    0.010733\n",
      " 4    0.002533\n",
      " 5    0.000867\n",
      " 8    0.000633\n",
      " 6    0.000367\n",
      " 7    0.000300\n",
      "Name: PAY_1, dtype: float64\n",
      " 0    0.524333\n",
      "-1    0.201667\n",
      " 2    0.130900\n",
      "-2    0.126067\n",
      " 3    0.010867\n",
      " 4    0.003300\n",
      " 1    0.000933\n",
      " 5    0.000833\n",
      " 7    0.000667\n",
      " 6    0.000400\n",
      " 8    0.000033\n",
      "Name: PAY_2, dtype: float64\n",
      " 0    0.525467\n",
      "-1    0.197933\n",
      "-2    0.136167\n",
      " 2    0.127300\n",
      " 3    0.008000\n",
      " 4    0.002533\n",
      " 7    0.000900\n",
      " 6    0.000767\n",
      " 5    0.000700\n",
      " 1    0.000133\n",
      " 8    0.000100\n",
      "Name: PAY_3, dtype: float64\n",
      " 0    0.548500\n",
      "-1    0.189567\n",
      "-2    0.144933\n",
      " 2    0.105300\n",
      " 3    0.006000\n",
      " 4    0.002300\n",
      " 7    0.001933\n",
      " 5    0.001167\n",
      " 6    0.000167\n",
      " 8    0.000067\n",
      " 1    0.000067\n",
      "Name: PAY_4, dtype: float64\n",
      " 0    0.564900\n",
      "-1    0.184633\n",
      "-2    0.151533\n",
      " 2    0.087533\n",
      " 3    0.005933\n",
      " 4    0.002800\n",
      " 7    0.001933\n",
      " 5    0.000567\n",
      " 6    0.000133\n",
      " 8    0.000033\n",
      "Name: PAY_5, dtype: float64\n",
      " 0    0.542867\n",
      "-1    0.191333\n",
      "-2    0.163167\n",
      " 2    0.092200\n",
      " 3    0.006133\n",
      " 4    0.001633\n",
      " 7    0.001533\n",
      " 6    0.000633\n",
      " 5    0.000433\n",
      " 8    0.000067\n",
      "Name: PAY_6, dtype: float64\n",
      "0    0.7788\n",
      "1    0.2212\n",
      "Name: DEFAULT, dtype: float64\n"
     ]
    }
   ],
   "source": [
    "for col in categoricals:\n",
    "    print(df[col].value_counts()/len(df[col]))"
   ]
  },
  {
   "cell_type": "code",
   "execution_count": 539,
   "metadata": {},
   "outputs": [
    {
     "data": {
      "text/plain": [
       "university    14030\n",
       "grad          10585\n",
       "highschool     4917\n",
       "other           468\n",
       "Name: EDUCATION, dtype: int64"
      ]
     },
     "execution_count": 539,
     "metadata": {},
     "output_type": "execute_result"
    }
   ],
   "source": [
    "df['EDUCATION'].value_counts()"
   ]
  },
  {
   "cell_type": "code",
   "execution_count": 540,
   "metadata": {},
   "outputs": [
    {
     "data": {
      "text/plain": [
       "single     15964\n",
       "married    13659\n",
       "other        377\n",
       "Name: MARRIAGE, dtype: int64"
      ]
     },
     "execution_count": 540,
     "metadata": {},
     "output_type": "execute_result"
    }
   ],
   "source": [
    "df['MARRIAGE'].value_counts()"
   ]
  },
  {
   "cell_type": "code",
   "execution_count": 541,
   "metadata": {},
   "outputs": [
    {
     "data": {
      "text/plain": [
       "female    18112\n",
       "male      11888\n",
       "Name: SEX, dtype: int64"
      ]
     },
     "execution_count": 541,
     "metadata": {},
     "output_type": "execute_result"
    }
   ],
   "source": [
    "df['SEX'].value_counts()"
   ]
  },
  {
   "cell_type": "code",
   "execution_count": null,
   "metadata": {},
   "outputs": [],
   "source": [
    "#checking for instances where there are data points that would throw off our regression with the variables education, marriage, and sex"
   ]
  },
  {
   "cell_type": "code",
   "execution_count": 542,
   "metadata": {},
   "outputs": [
    {
     "name": "stdout",
     "output_type": "stream",
     "text": [
      "<class 'pandas.core.frame.DataFrame'>\n",
      "RangeIndex: 30000 entries, 0 to 29999\n",
      "Data columns (total 25 columns):\n",
      " #   Column     Non-Null Count  Dtype   \n",
      "---  ------     --------------  -----   \n",
      " 0   ID         30000 non-null  int64   \n",
      " 1   LIMIT_BAL  30000 non-null  float64 \n",
      " 2   SEX        30000 non-null  category\n",
      " 3   EDUCATION  30000 non-null  category\n",
      " 4   MARRIAGE   30000 non-null  category\n",
      " 5   AGE        30000 non-null  int64   \n",
      " 6   PAY_1      30000 non-null  category\n",
      " 7   PAY_2      30000 non-null  category\n",
      " 8   PAY_3      30000 non-null  category\n",
      " 9   PAY_4      30000 non-null  category\n",
      " 10  PAY_5      30000 non-null  category\n",
      " 11  PAY_6      30000 non-null  category\n",
      " 12  BILL_AMT1  30000 non-null  float64 \n",
      " 13  BILL_AMT2  30000 non-null  float64 \n",
      " 14  BILL_AMT3  30000 non-null  float64 \n",
      " 15  BILL_AMT4  30000 non-null  float64 \n",
      " 16  BILL_AMT5  30000 non-null  float64 \n",
      " 17  BILL_AMT6  30000 non-null  float64 \n",
      " 18  PAY_AMT1   30000 non-null  float64 \n",
      " 19  PAY_AMT2   30000 non-null  float64 \n",
      " 20  PAY_AMT3   30000 non-null  float64 \n",
      " 21  PAY_AMT4   30000 non-null  float64 \n",
      " 22  PAY_AMT5   30000 non-null  float64 \n",
      " 23  PAY_AMT6   30000 non-null  float64 \n",
      " 24  DEFAULT    30000 non-null  category\n",
      "dtypes: category(10), float64(13), int64(2)\n",
      "memory usage: 3.7 MB\n"
     ]
    }
   ],
   "source": [
    "for col in ['SEX', 'EDUCATION', 'MARRIAGE','PAY_1','PAY_2','PAY_3','PAY_4','PAY_5','PAY_6', 'DEFAULT']:\n",
    "    df[col]= df[col].astype(\"category\")\n",
    "df.info()"
   ]
  },
  {
   "cell_type": "code",
   "execution_count": null,
   "metadata": {},
   "outputs": [],
   "source": [
    "#List of variables and variable type to make sure everything worked"
   ]
  },
  {
   "cell_type": "code",
   "execution_count": 543,
   "metadata": {},
   "outputs": [],
   "source": [
    "#our target variable will be default"
   ]
  },
  {
   "cell_type": "code",
   "execution_count": 544,
   "metadata": {},
   "outputs": [
    {
     "data": {
      "text/html": [
       "<div>\n",
       "<style scoped>\n",
       "    .dataframe tbody tr th:only-of-type {\n",
       "        vertical-align: middle;\n",
       "    }\n",
       "\n",
       "    .dataframe tbody tr th {\n",
       "        vertical-align: top;\n",
       "    }\n",
       "\n",
       "    .dataframe thead th {\n",
       "        text-align: right;\n",
       "    }\n",
       "</style>\n",
       "<table border=\"1\" class=\"dataframe\">\n",
       "  <thead>\n",
       "    <tr style=\"text-align: right;\">\n",
       "      <th>DEFAULT</th>\n",
       "      <th>0</th>\n",
       "      <th>1</th>\n",
       "    </tr>\n",
       "    <tr>\n",
       "      <th>DEFAULT</th>\n",
       "      <th></th>\n",
       "      <th></th>\n",
       "    </tr>\n",
       "  </thead>\n",
       "  <tbody>\n",
       "    <tr>\n",
       "      <th>0</th>\n",
       "      <td>77.88</td>\n",
       "      <td>0.00</td>\n",
       "    </tr>\n",
       "    <tr>\n",
       "      <th>1</th>\n",
       "      <td>0.00</td>\n",
       "      <td>22.12</td>\n",
       "    </tr>\n",
       "  </tbody>\n",
       "</table>\n",
       "</div>"
      ],
      "text/plain": [
       "DEFAULT      0      1\n",
       "DEFAULT              \n",
       "0        77.88   0.00\n",
       "1         0.00  22.12"
      ]
     },
     "execution_count": 544,
     "metadata": {},
     "output_type": "execute_result"
    }
   ],
   "source": [
    "pd.crosstab(df['DEFAULT'],df['DEFAULT'], normalize='all')*100"
   ]
  },
  {
   "cell_type": "code",
   "execution_count": 545,
   "metadata": {},
   "outputs": [],
   "source": [
    "#this 78/22 split is pretty well balanced. There will be enough default=1 and default=0 observations to train the model"
   ]
  },
  {
   "cell_type": "code",
   "execution_count": null,
   "metadata": {},
   "outputs": [],
   "source": [
    "#changing our categorical variables into dummy variables"
   ]
  },
  {
   "cell_type": "code",
   "execution_count": 546,
   "metadata": {},
   "outputs": [],
   "source": [
    "df = pd.get_dummies(df, drop_first=True)"
   ]
  },
  {
   "cell_type": "code",
   "execution_count": 547,
   "metadata": {},
   "outputs": [
    {
     "data": {
      "text/html": [
       "<div>\n",
       "<style scoped>\n",
       "    .dataframe tbody tr th:only-of-type {\n",
       "        vertical-align: middle;\n",
       "    }\n",
       "\n",
       "    .dataframe tbody tr th {\n",
       "        vertical-align: top;\n",
       "    }\n",
       "\n",
       "    .dataframe thead th {\n",
       "        text-align: right;\n",
       "    }\n",
       "</style>\n",
       "<table border=\"1\" class=\"dataframe\">\n",
       "  <thead>\n",
       "    <tr style=\"text-align: right;\">\n",
       "      <th></th>\n",
       "      <th>ID</th>\n",
       "      <th>LIMIT_BAL</th>\n",
       "      <th>AGE</th>\n",
       "      <th>BILL_AMT1</th>\n",
       "      <th>BILL_AMT2</th>\n",
       "      <th>BILL_AMT3</th>\n",
       "      <th>BILL_AMT4</th>\n",
       "      <th>BILL_AMT5</th>\n",
       "      <th>BILL_AMT6</th>\n",
       "      <th>PAY_AMT1</th>\n",
       "      <th>PAY_AMT2</th>\n",
       "      <th>PAY_AMT3</th>\n",
       "      <th>PAY_AMT4</th>\n",
       "      <th>PAY_AMT5</th>\n",
       "      <th>PAY_AMT6</th>\n",
       "      <th>SEX_male</th>\n",
       "      <th>EDUCATION_highschool</th>\n",
       "      <th>EDUCATION_other</th>\n",
       "      <th>EDUCATION_university</th>\n",
       "      <th>MARRIAGE_other</th>\n",
       "      <th>MARRIAGE_single</th>\n",
       "      <th>PAY_1_-1</th>\n",
       "      <th>PAY_1_0</th>\n",
       "      <th>PAY_1_1</th>\n",
       "      <th>PAY_1_2</th>\n",
       "      <th>PAY_1_3</th>\n",
       "      <th>PAY_1_4</th>\n",
       "      <th>PAY_1_5</th>\n",
       "      <th>PAY_1_6</th>\n",
       "      <th>PAY_1_7</th>\n",
       "      <th>PAY_1_8</th>\n",
       "      <th>PAY_2_-1</th>\n",
       "      <th>PAY_2_0</th>\n",
       "      <th>PAY_2_1</th>\n",
       "      <th>PAY_2_2</th>\n",
       "      <th>PAY_2_3</th>\n",
       "      <th>PAY_2_4</th>\n",
       "      <th>PAY_2_5</th>\n",
       "      <th>PAY_2_6</th>\n",
       "      <th>PAY_2_7</th>\n",
       "      <th>PAY_2_8</th>\n",
       "      <th>PAY_3_-1</th>\n",
       "      <th>PAY_3_0</th>\n",
       "      <th>PAY_3_1</th>\n",
       "      <th>PAY_3_2</th>\n",
       "      <th>PAY_3_3</th>\n",
       "      <th>PAY_3_4</th>\n",
       "      <th>PAY_3_5</th>\n",
       "      <th>PAY_3_6</th>\n",
       "      <th>PAY_3_7</th>\n",
       "      <th>PAY_3_8</th>\n",
       "      <th>PAY_4_-1</th>\n",
       "      <th>PAY_4_0</th>\n",
       "      <th>PAY_4_1</th>\n",
       "      <th>PAY_4_2</th>\n",
       "      <th>PAY_4_3</th>\n",
       "      <th>PAY_4_4</th>\n",
       "      <th>PAY_4_5</th>\n",
       "      <th>PAY_4_6</th>\n",
       "      <th>PAY_4_7</th>\n",
       "      <th>PAY_4_8</th>\n",
       "      <th>PAY_5_-1</th>\n",
       "      <th>PAY_5_0</th>\n",
       "      <th>PAY_5_2</th>\n",
       "      <th>PAY_5_3</th>\n",
       "      <th>PAY_5_4</th>\n",
       "      <th>PAY_5_5</th>\n",
       "      <th>PAY_5_6</th>\n",
       "      <th>PAY_5_7</th>\n",
       "      <th>PAY_5_8</th>\n",
       "      <th>PAY_6_-1</th>\n",
       "      <th>PAY_6_0</th>\n",
       "      <th>PAY_6_2</th>\n",
       "      <th>PAY_6_3</th>\n",
       "      <th>PAY_6_4</th>\n",
       "      <th>PAY_6_5</th>\n",
       "      <th>PAY_6_6</th>\n",
       "      <th>PAY_6_7</th>\n",
       "      <th>PAY_6_8</th>\n",
       "      <th>DEFAULT_1</th>\n",
       "    </tr>\n",
       "  </thead>\n",
       "  <tbody>\n",
       "    <tr>\n",
       "      <th>29995</th>\n",
       "      <td>29996</td>\n",
       "      <td>220000.0</td>\n",
       "      <td>39</td>\n",
       "      <td>188948.0</td>\n",
       "      <td>192815.0</td>\n",
       "      <td>208365.0</td>\n",
       "      <td>88004.0</td>\n",
       "      <td>31237.0</td>\n",
       "      <td>15980.0</td>\n",
       "      <td>8500.0</td>\n",
       "      <td>20000.0</td>\n",
       "      <td>5003.0</td>\n",
       "      <td>3047.0</td>\n",
       "      <td>5000.0</td>\n",
       "      <td>1000.0</td>\n",
       "      <td>1</td>\n",
       "      <td>1</td>\n",
       "      <td>0</td>\n",
       "      <td>0</td>\n",
       "      <td>0</td>\n",
       "      <td>0</td>\n",
       "      <td>0</td>\n",
       "      <td>1</td>\n",
       "      <td>0</td>\n",
       "      <td>0</td>\n",
       "      <td>0</td>\n",
       "      <td>0</td>\n",
       "      <td>0</td>\n",
       "      <td>0</td>\n",
       "      <td>0</td>\n",
       "      <td>0</td>\n",
       "      <td>0</td>\n",
       "      <td>1</td>\n",
       "      <td>0</td>\n",
       "      <td>0</td>\n",
       "      <td>0</td>\n",
       "      <td>0</td>\n",
       "      <td>0</td>\n",
       "      <td>0</td>\n",
       "      <td>0</td>\n",
       "      <td>0</td>\n",
       "      <td>0</td>\n",
       "      <td>1</td>\n",
       "      <td>0</td>\n",
       "      <td>0</td>\n",
       "      <td>0</td>\n",
       "      <td>0</td>\n",
       "      <td>0</td>\n",
       "      <td>0</td>\n",
       "      <td>0</td>\n",
       "      <td>0</td>\n",
       "      <td>0</td>\n",
       "      <td>1</td>\n",
       "      <td>0</td>\n",
       "      <td>0</td>\n",
       "      <td>0</td>\n",
       "      <td>0</td>\n",
       "      <td>0</td>\n",
       "      <td>0</td>\n",
       "      <td>0</td>\n",
       "      <td>0</td>\n",
       "      <td>0</td>\n",
       "      <td>1</td>\n",
       "      <td>0</td>\n",
       "      <td>0</td>\n",
       "      <td>0</td>\n",
       "      <td>0</td>\n",
       "      <td>0</td>\n",
       "      <td>0</td>\n",
       "      <td>0</td>\n",
       "      <td>0</td>\n",
       "      <td>1</td>\n",
       "      <td>0</td>\n",
       "      <td>0</td>\n",
       "      <td>0</td>\n",
       "      <td>0</td>\n",
       "      <td>0</td>\n",
       "      <td>0</td>\n",
       "      <td>0</td>\n",
       "      <td>0</td>\n",
       "    </tr>\n",
       "    <tr>\n",
       "      <th>29996</th>\n",
       "      <td>29997</td>\n",
       "      <td>150000.0</td>\n",
       "      <td>43</td>\n",
       "      <td>1683.0</td>\n",
       "      <td>1828.0</td>\n",
       "      <td>3502.0</td>\n",
       "      <td>8979.0</td>\n",
       "      <td>5190.0</td>\n",
       "      <td>0.0</td>\n",
       "      <td>1837.0</td>\n",
       "      <td>3526.0</td>\n",
       "      <td>8998.0</td>\n",
       "      <td>129.0</td>\n",
       "      <td>0.0</td>\n",
       "      <td>0.0</td>\n",
       "      <td>1</td>\n",
       "      <td>1</td>\n",
       "      <td>0</td>\n",
       "      <td>0</td>\n",
       "      <td>0</td>\n",
       "      <td>1</td>\n",
       "      <td>1</td>\n",
       "      <td>0</td>\n",
       "      <td>0</td>\n",
       "      <td>0</td>\n",
       "      <td>0</td>\n",
       "      <td>0</td>\n",
       "      <td>0</td>\n",
       "      <td>0</td>\n",
       "      <td>0</td>\n",
       "      <td>0</td>\n",
       "      <td>1</td>\n",
       "      <td>0</td>\n",
       "      <td>0</td>\n",
       "      <td>0</td>\n",
       "      <td>0</td>\n",
       "      <td>0</td>\n",
       "      <td>0</td>\n",
       "      <td>0</td>\n",
       "      <td>0</td>\n",
       "      <td>0</td>\n",
       "      <td>1</td>\n",
       "      <td>0</td>\n",
       "      <td>0</td>\n",
       "      <td>0</td>\n",
       "      <td>0</td>\n",
       "      <td>0</td>\n",
       "      <td>0</td>\n",
       "      <td>0</td>\n",
       "      <td>0</td>\n",
       "      <td>0</td>\n",
       "      <td>1</td>\n",
       "      <td>0</td>\n",
       "      <td>0</td>\n",
       "      <td>0</td>\n",
       "      <td>0</td>\n",
       "      <td>0</td>\n",
       "      <td>0</td>\n",
       "      <td>0</td>\n",
       "      <td>0</td>\n",
       "      <td>0</td>\n",
       "      <td>0</td>\n",
       "      <td>1</td>\n",
       "      <td>0</td>\n",
       "      <td>0</td>\n",
       "      <td>0</td>\n",
       "      <td>0</td>\n",
       "      <td>0</td>\n",
       "      <td>0</td>\n",
       "      <td>0</td>\n",
       "      <td>0</td>\n",
       "      <td>1</td>\n",
       "      <td>0</td>\n",
       "      <td>0</td>\n",
       "      <td>0</td>\n",
       "      <td>0</td>\n",
       "      <td>0</td>\n",
       "      <td>0</td>\n",
       "      <td>0</td>\n",
       "      <td>0</td>\n",
       "    </tr>\n",
       "    <tr>\n",
       "      <th>29997</th>\n",
       "      <td>29998</td>\n",
       "      <td>30000.0</td>\n",
       "      <td>37</td>\n",
       "      <td>3565.0</td>\n",
       "      <td>3356.0</td>\n",
       "      <td>2758.0</td>\n",
       "      <td>20878.0</td>\n",
       "      <td>20582.0</td>\n",
       "      <td>19357.0</td>\n",
       "      <td>0.0</td>\n",
       "      <td>0.0</td>\n",
       "      <td>22000.0</td>\n",
       "      <td>4200.0</td>\n",
       "      <td>2000.0</td>\n",
       "      <td>3100.0</td>\n",
       "      <td>1</td>\n",
       "      <td>0</td>\n",
       "      <td>0</td>\n",
       "      <td>1</td>\n",
       "      <td>0</td>\n",
       "      <td>1</td>\n",
       "      <td>0</td>\n",
       "      <td>0</td>\n",
       "      <td>0</td>\n",
       "      <td>0</td>\n",
       "      <td>0</td>\n",
       "      <td>1</td>\n",
       "      <td>0</td>\n",
       "      <td>0</td>\n",
       "      <td>0</td>\n",
       "      <td>0</td>\n",
       "      <td>0</td>\n",
       "      <td>0</td>\n",
       "      <td>0</td>\n",
       "      <td>0</td>\n",
       "      <td>1</td>\n",
       "      <td>0</td>\n",
       "      <td>0</td>\n",
       "      <td>0</td>\n",
       "      <td>0</td>\n",
       "      <td>0</td>\n",
       "      <td>0</td>\n",
       "      <td>0</td>\n",
       "      <td>0</td>\n",
       "      <td>1</td>\n",
       "      <td>0</td>\n",
       "      <td>0</td>\n",
       "      <td>0</td>\n",
       "      <td>0</td>\n",
       "      <td>0</td>\n",
       "      <td>0</td>\n",
       "      <td>1</td>\n",
       "      <td>0</td>\n",
       "      <td>0</td>\n",
       "      <td>0</td>\n",
       "      <td>0</td>\n",
       "      <td>0</td>\n",
       "      <td>0</td>\n",
       "      <td>0</td>\n",
       "      <td>0</td>\n",
       "      <td>0</td>\n",
       "      <td>0</td>\n",
       "      <td>1</td>\n",
       "      <td>0</td>\n",
       "      <td>0</td>\n",
       "      <td>0</td>\n",
       "      <td>0</td>\n",
       "      <td>0</td>\n",
       "      <td>0</td>\n",
       "      <td>0</td>\n",
       "      <td>0</td>\n",
       "      <td>1</td>\n",
       "      <td>0</td>\n",
       "      <td>0</td>\n",
       "      <td>0</td>\n",
       "      <td>0</td>\n",
       "      <td>0</td>\n",
       "      <td>0</td>\n",
       "      <td>0</td>\n",
       "      <td>1</td>\n",
       "    </tr>\n",
       "    <tr>\n",
       "      <th>29998</th>\n",
       "      <td>29999</td>\n",
       "      <td>80000.0</td>\n",
       "      <td>41</td>\n",
       "      <td>-1645.0</td>\n",
       "      <td>78379.0</td>\n",
       "      <td>76304.0</td>\n",
       "      <td>52774.0</td>\n",
       "      <td>11855.0</td>\n",
       "      <td>48944.0</td>\n",
       "      <td>85900.0</td>\n",
       "      <td>3409.0</td>\n",
       "      <td>1178.0</td>\n",
       "      <td>1926.0</td>\n",
       "      <td>52964.0</td>\n",
       "      <td>1804.0</td>\n",
       "      <td>1</td>\n",
       "      <td>1</td>\n",
       "      <td>0</td>\n",
       "      <td>0</td>\n",
       "      <td>0</td>\n",
       "      <td>0</td>\n",
       "      <td>0</td>\n",
       "      <td>0</td>\n",
       "      <td>1</td>\n",
       "      <td>0</td>\n",
       "      <td>0</td>\n",
       "      <td>0</td>\n",
       "      <td>0</td>\n",
       "      <td>0</td>\n",
       "      <td>0</td>\n",
       "      <td>0</td>\n",
       "      <td>1</td>\n",
       "      <td>0</td>\n",
       "      <td>0</td>\n",
       "      <td>0</td>\n",
       "      <td>0</td>\n",
       "      <td>0</td>\n",
       "      <td>0</td>\n",
       "      <td>0</td>\n",
       "      <td>0</td>\n",
       "      <td>0</td>\n",
       "      <td>0</td>\n",
       "      <td>1</td>\n",
       "      <td>0</td>\n",
       "      <td>0</td>\n",
       "      <td>0</td>\n",
       "      <td>0</td>\n",
       "      <td>0</td>\n",
       "      <td>0</td>\n",
       "      <td>0</td>\n",
       "      <td>0</td>\n",
       "      <td>0</td>\n",
       "      <td>1</td>\n",
       "      <td>0</td>\n",
       "      <td>0</td>\n",
       "      <td>0</td>\n",
       "      <td>0</td>\n",
       "      <td>0</td>\n",
       "      <td>0</td>\n",
       "      <td>0</td>\n",
       "      <td>0</td>\n",
       "      <td>0</td>\n",
       "      <td>1</td>\n",
       "      <td>0</td>\n",
       "      <td>0</td>\n",
       "      <td>0</td>\n",
       "      <td>0</td>\n",
       "      <td>0</td>\n",
       "      <td>0</td>\n",
       "      <td>0</td>\n",
       "      <td>1</td>\n",
       "      <td>0</td>\n",
       "      <td>0</td>\n",
       "      <td>0</td>\n",
       "      <td>0</td>\n",
       "      <td>0</td>\n",
       "      <td>0</td>\n",
       "      <td>0</td>\n",
       "      <td>0</td>\n",
       "      <td>1</td>\n",
       "    </tr>\n",
       "    <tr>\n",
       "      <th>29999</th>\n",
       "      <td>30000</td>\n",
       "      <td>50000.0</td>\n",
       "      <td>46</td>\n",
       "      <td>47929.0</td>\n",
       "      <td>48905.0</td>\n",
       "      <td>49764.0</td>\n",
       "      <td>36535.0</td>\n",
       "      <td>32428.0</td>\n",
       "      <td>15313.0</td>\n",
       "      <td>2078.0</td>\n",
       "      <td>1800.0</td>\n",
       "      <td>1430.0</td>\n",
       "      <td>1000.0</td>\n",
       "      <td>1000.0</td>\n",
       "      <td>1000.0</td>\n",
       "      <td>1</td>\n",
       "      <td>0</td>\n",
       "      <td>0</td>\n",
       "      <td>1</td>\n",
       "      <td>0</td>\n",
       "      <td>0</td>\n",
       "      <td>0</td>\n",
       "      <td>1</td>\n",
       "      <td>0</td>\n",
       "      <td>0</td>\n",
       "      <td>0</td>\n",
       "      <td>0</td>\n",
       "      <td>0</td>\n",
       "      <td>0</td>\n",
       "      <td>0</td>\n",
       "      <td>0</td>\n",
       "      <td>0</td>\n",
       "      <td>1</td>\n",
       "      <td>0</td>\n",
       "      <td>0</td>\n",
       "      <td>0</td>\n",
       "      <td>0</td>\n",
       "      <td>0</td>\n",
       "      <td>0</td>\n",
       "      <td>0</td>\n",
       "      <td>0</td>\n",
       "      <td>0</td>\n",
       "      <td>1</td>\n",
       "      <td>0</td>\n",
       "      <td>0</td>\n",
       "      <td>0</td>\n",
       "      <td>0</td>\n",
       "      <td>0</td>\n",
       "      <td>0</td>\n",
       "      <td>0</td>\n",
       "      <td>0</td>\n",
       "      <td>0</td>\n",
       "      <td>1</td>\n",
       "      <td>0</td>\n",
       "      <td>0</td>\n",
       "      <td>0</td>\n",
       "      <td>0</td>\n",
       "      <td>0</td>\n",
       "      <td>0</td>\n",
       "      <td>0</td>\n",
       "      <td>0</td>\n",
       "      <td>0</td>\n",
       "      <td>1</td>\n",
       "      <td>0</td>\n",
       "      <td>0</td>\n",
       "      <td>0</td>\n",
       "      <td>0</td>\n",
       "      <td>0</td>\n",
       "      <td>0</td>\n",
       "      <td>0</td>\n",
       "      <td>0</td>\n",
       "      <td>1</td>\n",
       "      <td>0</td>\n",
       "      <td>0</td>\n",
       "      <td>0</td>\n",
       "      <td>0</td>\n",
       "      <td>0</td>\n",
       "      <td>0</td>\n",
       "      <td>0</td>\n",
       "      <td>1</td>\n",
       "    </tr>\n",
       "  </tbody>\n",
       "</table>\n",
       "</div>"
      ],
      "text/plain": [
       "          ID  LIMIT_BAL  AGE  BILL_AMT1  BILL_AMT2  BILL_AMT3  BILL_AMT4  \\\n",
       "29995  29996   220000.0   39   188948.0   192815.0   208365.0    88004.0   \n",
       "29996  29997   150000.0   43     1683.0     1828.0     3502.0     8979.0   \n",
       "29997  29998    30000.0   37     3565.0     3356.0     2758.0    20878.0   \n",
       "29998  29999    80000.0   41    -1645.0    78379.0    76304.0    52774.0   \n",
       "29999  30000    50000.0   46    47929.0    48905.0    49764.0    36535.0   \n",
       "\n",
       "       BILL_AMT5  BILL_AMT6  PAY_AMT1  PAY_AMT2  PAY_AMT3  PAY_AMT4  PAY_AMT5  \\\n",
       "29995    31237.0    15980.0    8500.0   20000.0    5003.0    3047.0    5000.0   \n",
       "29996     5190.0        0.0    1837.0    3526.0    8998.0     129.0       0.0   \n",
       "29997    20582.0    19357.0       0.0       0.0   22000.0    4200.0    2000.0   \n",
       "29998    11855.0    48944.0   85900.0    3409.0    1178.0    1926.0   52964.0   \n",
       "29999    32428.0    15313.0    2078.0    1800.0    1430.0    1000.0    1000.0   \n",
       "\n",
       "       PAY_AMT6  SEX_male  EDUCATION_highschool  EDUCATION_other  \\\n",
       "29995    1000.0         1                     1                0   \n",
       "29996       0.0         1                     1                0   \n",
       "29997    3100.0         1                     0                0   \n",
       "29998    1804.0         1                     1                0   \n",
       "29999    1000.0         1                     0                0   \n",
       "\n",
       "       EDUCATION_university  MARRIAGE_other  MARRIAGE_single  PAY_1_-1  \\\n",
       "29995                     0               0                0         0   \n",
       "29996                     0               0                1         1   \n",
       "29997                     1               0                1         0   \n",
       "29998                     0               0                0         0   \n",
       "29999                     1               0                0         0   \n",
       "\n",
       "       PAY_1_0  PAY_1_1  PAY_1_2  PAY_1_3  PAY_1_4  PAY_1_5  PAY_1_6  PAY_1_7  \\\n",
       "29995        1        0        0        0        0        0        0        0   \n",
       "29996        0        0        0        0        0        0        0        0   \n",
       "29997        0        0        0        0        1        0        0        0   \n",
       "29998        0        1        0        0        0        0        0        0   \n",
       "29999        1        0        0        0        0        0        0        0   \n",
       "\n",
       "       PAY_1_8  PAY_2_-1  PAY_2_0  PAY_2_1  PAY_2_2  PAY_2_3  PAY_2_4  \\\n",
       "29995        0         0        1        0        0        0        0   \n",
       "29996        0         1        0        0        0        0        0   \n",
       "29997        0         0        0        0        0        1        0   \n",
       "29998        0         1        0        0        0        0        0   \n",
       "29999        0         0        1        0        0        0        0   \n",
       "\n",
       "       PAY_2_5  PAY_2_6  PAY_2_7  PAY_2_8  PAY_3_-1  PAY_3_0  PAY_3_1  \\\n",
       "29995        0        0        0        0         0        1        0   \n",
       "29996        0        0        0        0         1        0        0   \n",
       "29997        0        0        0        0         0        0        0   \n",
       "29998        0        0        0        0         0        1        0   \n",
       "29999        0        0        0        0         0        1        0   \n",
       "\n",
       "       PAY_3_2  PAY_3_3  PAY_3_4  PAY_3_5  PAY_3_6  PAY_3_7  PAY_3_8  \\\n",
       "29995        0        0        0        0        0        0        0   \n",
       "29996        0        0        0        0        0        0        0   \n",
       "29997        1        0        0        0        0        0        0   \n",
       "29998        0        0        0        0        0        0        0   \n",
       "29999        0        0        0        0        0        0        0   \n",
       "\n",
       "       PAY_4_-1  PAY_4_0  PAY_4_1  PAY_4_2  PAY_4_3  PAY_4_4  PAY_4_5  \\\n",
       "29995         0        1        0        0        0        0        0   \n",
       "29996         1        0        0        0        0        0        0   \n",
       "29997         1        0        0        0        0        0        0   \n",
       "29998         0        1        0        0        0        0        0   \n",
       "29999         0        1        0        0        0        0        0   \n",
       "\n",
       "       PAY_4_6  PAY_4_7  PAY_4_8  PAY_5_-1  PAY_5_0  PAY_5_2  PAY_5_3  \\\n",
       "29995        0        0        0         0        1        0        0   \n",
       "29996        0        0        0         0        1        0        0   \n",
       "29997        0        0        0         0        1        0        0   \n",
       "29998        0        0        0         0        1        0        0   \n",
       "29999        0        0        0         0        1        0        0   \n",
       "\n",
       "       PAY_5_4  PAY_5_5  PAY_5_6  PAY_5_7  PAY_5_8  PAY_6_-1  PAY_6_0  \\\n",
       "29995        0        0        0        0        0         0        1   \n",
       "29996        0        0        0        0        0         0        1   \n",
       "29997        0        0        0        0        0         0        1   \n",
       "29998        0        0        0        0        0         1        0   \n",
       "29999        0        0        0        0        0         0        1   \n",
       "\n",
       "       PAY_6_2  PAY_6_3  PAY_6_4  PAY_6_5  PAY_6_6  PAY_6_7  PAY_6_8  \\\n",
       "29995        0        0        0        0        0        0        0   \n",
       "29996        0        0        0        0        0        0        0   \n",
       "29997        0        0        0        0        0        0        0   \n",
       "29998        0        0        0        0        0        0        0   \n",
       "29999        0        0        0        0        0        0        0   \n",
       "\n",
       "       DEFAULT_1  \n",
       "29995          0  \n",
       "29996          0  \n",
       "29997          1  \n",
       "29998          1  \n",
       "29999          1  "
      ]
     },
     "execution_count": 547,
     "metadata": {},
     "output_type": "execute_result"
    }
   ],
   "source": [
    "pd.set_option(\"display.max.columns\", None)\n",
    "df.tail()"
   ]
  },
  {
   "cell_type": "code",
   "execution_count": 548,
   "metadata": {},
   "outputs": [
    {
     "data": {
      "text/plain": [
       "80"
      ]
     },
     "execution_count": 548,
     "metadata": {},
     "output_type": "execute_result"
    }
   ],
   "source": [
    "len(df.columns)"
   ]
  },
  {
   "cell_type": "code",
   "execution_count": 549,
   "metadata": {},
   "outputs": [],
   "source": [
    "#we now have 80 features"
   ]
  },
  {
   "cell_type": "code",
   "execution_count": null,
   "metadata": {},
   "outputs": [],
   "source": [
    "#defining feature space and splitting data set into 30% testing and 70% training"
   ]
  },
  {
   "cell_type": "code",
   "execution_count": 550,
   "metadata": {},
   "outputs": [],
   "source": [
    "y = df['DEFAULT_1']\n",
    "X = df.drop('DEFAULT_1', axis=1)"
   ]
  },
  {
   "cell_type": "code",
   "execution_count": 551,
   "metadata": {},
   "outputs": [],
   "source": [
    "from sklearn.model_selection import train_test_split\n",
    "X_train, X_test, y_train, y_test = train_test_split(X, y, test_size=0.3, random_state=rand_state)"
   ]
  },
  {
   "cell_type": "code",
   "execution_count": null,
   "metadata": {},
   "outputs": [],
   "source": [
    "#training logistic regression and saving predicted probabilities"
   ]
  },
  {
   "cell_type": "code",
   "execution_count": 552,
   "metadata": {},
   "outputs": [],
   "source": [
    "from sklearn.linear_model import LogisticRegression"
   ]
  },
  {
   "cell_type": "code",
   "execution_count": 553,
   "metadata": {},
   "outputs": [
    {
     "data": {
      "text/plain": [
       "LogisticRegression()"
      ]
     },
     "execution_count": 553,
     "metadata": {},
     "output_type": "execute_result"
    }
   ],
   "source": [
    "logistic = LogisticRegression()\n",
    "logistic.fit(X_train, y_train)"
   ]
  },
  {
   "cell_type": "code",
   "execution_count": 554,
   "metadata": {},
   "outputs": [],
   "source": [
    "y_hat      = logistic.predict(X_test)\n",
    "y_hat_probs = logistic.predict_proba(X_test)[:,1] "
   ]
  },
  {
   "cell_type": "code",
   "execution_count": null,
   "metadata": {},
   "outputs": [],
   "source": [
    "#plotting histogram "
   ]
  },
  {
   "cell_type": "code",
   "execution_count": 555,
   "metadata": {},
   "outputs": [
    {
     "data": {
      "image/png": "[encoded data removed]",
      "text/plain": [
       "<Figure size 432x288 with 1 Axes>"
      ]
     },
     "metadata": {},
     "output_type": "display_data"
    }
   ],
   "source": [
    "plt.hist(y_hat_probs)\n",
    "plt.show()"
   ]
  },
  {
   "cell_type": "code",
   "execution_count": null,
   "metadata": {},
   "outputs": [],
   "source": [
    "#fairly normal distribution, slight right skew\n",
    "#what if the threshold is 80%?"
   ]
  },
  {
   "cell_type": "code",
   "execution_count": 556,
   "metadata": {},
   "outputs": [],
   "source": [
    "y_hat_80 = np.where(y_hat_probs>0.80,1,0)"
   ]
  },
  {
   "cell_type": "code",
   "execution_count": null,
   "metadata": {},
   "outputs": [],
   "source": [
    "#plotting histogram with threshold set to .8"
   ]
  },
  {
   "cell_type": "code",
   "execution_count": 557,
   "metadata": {},
   "outputs": [
    {
     "data": {
      "image/png": "[encoded data removed]",
      "text/plain": [
       "<Figure size 432x288 with 1 Axes>"
      ]
     },
     "metadata": {},
     "output_type": "display_data"
    }
   ],
   "source": [
    "plt.hist(y_hat_80)\n",
    "plt.show()"
   ]
  },
  {
   "cell_type": "code",
   "execution_count": null,
   "metadata": {},
   "outputs": [],
   "source": [
    "#At a threshold of .8, the model always predicts 0\n",
    "#The implication on recall is that it should decrease with the higher threshold"
   ]
  },
  {
   "cell_type": "code",
   "execution_count": null,
   "metadata": {},
   "outputs": [],
   "source": [
    "#generating predicted classifications .3 and .6 threshold"
   ]
  },
  {
   "cell_type": "code",
   "execution_count": 558,
   "metadata": {},
   "outputs": [],
   "source": [
    "y_hat_30 = np.where(y_hat_probs>0.30,1,0)\n",
    "y_hat_60 = np.where(y_hat_probs>0.60,1,0)"
   ]
  },
  {
   "cell_type": "code",
   "execution_count": null,
   "metadata": {},
   "outputs": [],
   "source": [
    "#You should use the lower threshold (.3) to avoid false negatives becaause if a threshold is higher, specificity is higher causing more false negatives\n",
    "#constructing a dataframe to show the y_test and y_hat values for the different thresholds"
   ]
  },
  {
   "cell_type": "code",
   "execution_count": 559,
   "metadata": {},
   "outputs": [
    {
     "data": {
      "text/html": [
       "<div>\n",
       "<style scoped>\n",
       "    .dataframe tbody tr th:only-of-type {\n",
       "        vertical-align: middle;\n",
       "    }\n",
       "\n",
       "    .dataframe tbody tr th {\n",
       "        vertical-align: top;\n",
       "    }\n",
       "\n",
       "    .dataframe thead th {\n",
       "        text-align: right;\n",
       "    }\n",
       "</style>\n",
       "<table border=\"1\" class=\"dataframe\">\n",
       "  <thead>\n",
       "    <tr style=\"text-align: right;\">\n",
       "      <th></th>\n",
       "      <th>y_test</th>\n",
       "      <th>y_hat_probs</th>\n",
       "      <th>y_hat_30</th>\n",
       "      <th>y_hat_60</th>\n",
       "      <th>y_hat_80</th>\n",
       "    </tr>\n",
       "  </thead>\n",
       "  <tbody>\n",
       "    <tr>\n",
       "      <th>28559</th>\n",
       "      <td>1</td>\n",
       "      <td>0.078646</td>\n",
       "      <td>0</td>\n",
       "      <td>0</td>\n",
       "      <td>0</td>\n",
       "    </tr>\n",
       "    <tr>\n",
       "      <th>14547</th>\n",
       "      <td>0</td>\n",
       "      <td>0.203391</td>\n",
       "      <td>0</td>\n",
       "      <td>0</td>\n",
       "      <td>0</td>\n",
       "    </tr>\n",
       "    <tr>\n",
       "      <th>7338</th>\n",
       "      <td>1</td>\n",
       "      <td>0.428401</td>\n",
       "      <td>1</td>\n",
       "      <td>0</td>\n",
       "      <td>0</td>\n",
       "    </tr>\n",
       "    <tr>\n",
       "      <th>23470</th>\n",
       "      <td>0</td>\n",
       "      <td>0.237897</td>\n",
       "      <td>0</td>\n",
       "      <td>0</td>\n",
       "      <td>0</td>\n",
       "    </tr>\n",
       "    <tr>\n",
       "      <th>1515</th>\n",
       "      <td>0</td>\n",
       "      <td>0.288448</td>\n",
       "      <td>0</td>\n",
       "      <td>0</td>\n",
       "      <td>0</td>\n",
       "    </tr>\n",
       "  </tbody>\n",
       "</table>\n",
       "</div>"
      ],
      "text/plain": [
       "       y_test  y_hat_probs  y_hat_30  y_hat_60  y_hat_80\n",
       "28559       1     0.078646         0         0         0\n",
       "14547       0     0.203391         0         0         0\n",
       "7338        1     0.428401         1         0         0\n",
       "23470       0     0.237897         0         0         0\n",
       "1515        0     0.288448         0         0         0"
      ]
     },
     "execution_count": 559,
     "metadata": {},
     "output_type": "execute_result"
    }
   ],
   "source": [
    "df_predictions = pd.DataFrame({'y_test':y_test, 'y_hat_probs':y_hat_probs, 'y_hat_30':y_hat_30, 'y_hat_60':y_hat_60, 'y_hat_80':y_hat_80,})\n",
    "df_predictions.head()"
   ]
  },
  {
   "cell_type": "code",
   "execution_count": 560,
   "metadata": {},
   "outputs": [],
   "source": [
    "from sklearn.metrics import confusion_matrix\n",
    "from sklearn.metrics import accuracy_score, recall_score, precision_score, f1_score\n",
    "\n",
    "\n",
    "\n",
    "def my_logistic_report(X_train, y_train, X_test,y_test, threshold=0.5): # you could make it even more general!\n",
    "    logistic= LogisticRegression()\n",
    "    logistic.fit(X_train, y_train)\n",
    "    probs = logistic.predict_proba(X_test)[:,1]\n",
    "    y_hat = np.where(probs>=threshold,1,0)\n",
    "    \n",
    "    cm = confusion_matrix(y_test, y_hat)\n",
    "    accuracy = round(accuracy_score(y_test,y_hat) ,2)\n",
    "    precision = round(precision_score(y_test,y_hat),2)\n",
    "    recall = round(recall_score(y_test,y_hat),2)\n",
    "    f1score = round(f1_score(y_test,y_hat),2)\n",
    "    cm_labled = pd.DataFrame(cm, index=['Actual : negative ','Actual : positive'], columns=['Predict : negative','Predict :positive '])\n",
    "    \n",
    "    print(\"-----------------------------------------\")\n",
    "    print('Accuracy  = {}'.format(accuracy))\n",
    "    print('Precision = {}'.format(precision))\n",
    "    print('Recall    = {}'.format(recall))\n",
    "    print('f1_score  = {}'.format(f1score))\n",
    "    print(\"-----------------------------------------\")\n",
    "    return cm_labled\n",
    " "
   ]
  },
  {
   "cell_type": "code",
   "execution_count": null,
   "metadata": {},
   "outputs": [],
   "source": [
    "#borrowing logistic report"
   ]
  },
  {
   "cell_type": "code",
   "execution_count": 561,
   "metadata": {},
   "outputs": [
    {
     "name": "stdout",
     "output_type": "stream",
     "text": [
      "-----------------------------------------\n",
      "Accuracy  = 0.78\n",
      "Precision = 0.0\n",
      "Recall    = 0.0\n",
      "f1_score  = 0.0\n",
      "-----------------------------------------\n"
     ]
    },
    {
     "data": {
      "text/html": [
       "<div>\n",
       "<style scoped>\n",
       "    .dataframe tbody tr th:only-of-type {\n",
       "        vertical-align: middle;\n",
       "    }\n",
       "\n",
       "    .dataframe tbody tr th {\n",
       "        vertical-align: top;\n",
       "    }\n",
       "\n",
       "    .dataframe thead th {\n",
       "        text-align: right;\n",
       "    }\n",
       "</style>\n",
       "<table border=\"1\" class=\"dataframe\">\n",
       "  <thead>\n",
       "    <tr style=\"text-align: right;\">\n",
       "      <th></th>\n",
       "      <th>Predict : negative</th>\n",
       "      <th>Predict :positive</th>\n",
       "    </tr>\n",
       "  </thead>\n",
       "  <tbody>\n",
       "    <tr>\n",
       "      <th>Actual : negative</th>\n",
       "      <td>7008</td>\n",
       "      <td>3</td>\n",
       "    </tr>\n",
       "    <tr>\n",
       "      <th>Actual : positive</th>\n",
       "      <td>1989</td>\n",
       "      <td>0</td>\n",
       "    </tr>\n",
       "  </tbody>\n",
       "</table>\n",
       "</div>"
      ],
      "text/plain": [
       "                    Predict : negative  Predict :positive \n",
       "Actual : negative                 7008                   3\n",
       "Actual : positive                 1989                   0"
      ]
     },
     "execution_count": 561,
     "metadata": {},
     "output_type": "execute_result"
    }
   ],
   "source": [
    "my_logistic_report(X_train, y_train, X_test,y_test, threshold=0.5)"
   ]
  },
  {
   "cell_type": "code",
   "execution_count": null,
   "metadata": {},
   "outputs": [],
   "source": [
    "#Accuracy is .78 meaning our model can predict with 78% accuracy\n",
    "#Recall is 0 because we do not have very many false positives, our data is accurate\n",
    "#Precision is 0 because we do not have any strong groupings in the dataset\n",
    "#f1 score is 0 because precision and recall are 0.\n",
    "\n",
    "#We trust the accuracy of this model at the .5 threshold because we have high accuracy and low recall"
   ]
  },
  {
   "cell_type": "code",
   "execution_count": 562,
   "metadata": {},
   "outputs": [
    {
     "name": "stdout",
     "output_type": "stream",
     "text": [
      "-----------------------------------------\n",
      "Accuracy  = 0.66\n",
      "Precision = 0.32\n",
      "Recall    = 0.51\n",
      "f1_score  = 0.39\n",
      "-----------------------------------------\n"
     ]
    },
    {
     "data": {
      "text/html": [
       "<div>\n",
       "<style scoped>\n",
       "    .dataframe tbody tr th:only-of-type {\n",
       "        vertical-align: middle;\n",
       "    }\n",
       "\n",
       "    .dataframe tbody tr th {\n",
       "        vertical-align: top;\n",
       "    }\n",
       "\n",
       "    .dataframe thead th {\n",
       "        text-align: right;\n",
       "    }\n",
       "</style>\n",
       "<table border=\"1\" class=\"dataframe\">\n",
       "  <thead>\n",
       "    <tr style=\"text-align: right;\">\n",
       "      <th></th>\n",
       "      <th>Predict : negative</th>\n",
       "      <th>Predict :positive</th>\n",
       "    </tr>\n",
       "  </thead>\n",
       "  <tbody>\n",
       "    <tr>\n",
       "      <th>Actual : negative</th>\n",
       "      <td>4896</td>\n",
       "      <td>2115</td>\n",
       "    </tr>\n",
       "    <tr>\n",
       "      <th>Actual : positive</th>\n",
       "      <td>984</td>\n",
       "      <td>1005</td>\n",
       "    </tr>\n",
       "  </tbody>\n",
       "</table>\n",
       "</div>"
      ],
      "text/plain": [
       "                    Predict : negative  Predict :positive \n",
       "Actual : negative                 4896                2115\n",
       "Actual : positive                  984                1005"
      ]
     },
     "execution_count": 562,
     "metadata": {},
     "output_type": "execute_result"
    }
   ],
   "source": [
    "my_logistic_report(X_train, y_train, X_test,y_test, threshold=0.3)"
   ]
  },
  {
   "cell_type": "code",
   "execution_count": null,
   "metadata": {},
   "outputs": [],
   "source": [
    "#setting threshold to .3"
   ]
  },
  {
   "cell_type": "code",
   "execution_count": null,
   "metadata": {},
   "outputs": [],
   "source": [
    "#changing the threshold decreases accuracy from .78 to .66 and increase precision to .32, recall to .51, and fl_score to .39\n",
    "#the amount of false negatives decreased from 1989 to 984\n",
    "#This is consistent with our answer to question 5.4 because the lower threshold has less false negatives"
   ]
  },
  {
   "cell_type": "code",
   "execution_count": 563,
   "metadata": {
    "scrolled": true
   },
   "outputs": [
    {
     "name": "stdout",
     "output_type": "stream",
     "text": [
      "No Skill: ROC AUC=0.500\n",
      "Logistic: ROC AUC=0.653\n"
     ]
    },
    {
     "data": {
      "image/png": "[encoded data removed]",
      "text/plain": [
       "<Figure size 432x288 with 1 Axes>"
      ]
     },
     "metadata": {},
     "output_type": "display_data"
    }
   ],
   "source": [
    "# generate a no skill (ns) prediction and logistic regression (lr) predictions.\n",
    "ns_probs = [0.5 for i in range(len(y_test))]\n",
    "lr_probs = logistic.predict_proba(X_test)[:,1]\n",
    "# calculating scores for no skill and logistic regression\n",
    "ns_auc = roc_auc_score(y_test, ns_probs)\n",
    "lr_auc = roc_auc_score(y_test, lr_probs)\n",
    "print('No Skill: ROC AUC=%.3f' % (ns_auc))\n",
    "print('Logistic: ROC AUC=%.3f' % (lr_auc))\n",
    "\n",
    "# calculate roc curves\n",
    "ns_fpr, ns_tpr, _ = roc_curve(y_test, ns_probs)\n",
    "lr_fpr, lr_tpr, _ = roc_curve(y_test, lr_probs)\n",
    "# plot the roc curve for the model\n",
    "plt.plot(ns_fpr, ns_tpr, linestyle='--', label='No Skill')\n",
    "plt.plot(lr_fpr, lr_tpr, marker='.', label='Logistic')\n",
    "# axis labels\n",
    "plt.xlabel('False Positive Rate')\n",
    "plt.ylabel('True Positive Rate')\n",
    "# show the legend\n",
    "plt.legend()\n",
    "# show the plot\n",
    "plt.show()"
   ]
  },
  {
   "cell_type": "code",
   "execution_count": null,
   "metadata": {},
   "outputs": [],
   "source": [
    "#our model is doing a better job than random prediction; it expliains about 15% more than just no skill"
   ]
  },
  {
   "cell_type": "code",
   "execution_count": 566,
   "metadata": {},
   "outputs": [],
   "source": [
    "from sklearn.model_selection import cross_val_score\n",
    "import sklearn.metrics"
   ]
  },
  {
   "cell_type": "code",
   "execution_count": 573,
   "metadata": {},
   "outputs": [],
   "source": [
    "#First let's bring back the report from part 6.1 for easy reference"
   ]
  },
  {
   "cell_type": "code",
   "execution_count": 573,
   "metadata": {},
   "outputs": [
    {
     "name": "stdout",
     "output_type": "stream",
     "text": [
      "-----------------------------------------\n",
      "Accuracy  = 0.78\n",
      "Precision = 0.0\n",
      "Recall    = 0.0\n",
      "f1_score  = 0.0\n",
      "-----------------------------------------\n"
     ]
    },
    {
     "data": {
      "text/html": [
       "<div>\n",
       "<style scoped>\n",
       "    .dataframe tbody tr th:only-of-type {\n",
       "        vertical-align: middle;\n",
       "    }\n",
       "\n",
       "    .dataframe tbody tr th {\n",
       "        vertical-align: top;\n",
       "    }\n",
       "\n",
       "    .dataframe thead th {\n",
       "        text-align: right;\n",
       "    }\n",
       "</style>\n",
       "<table border=\"1\" class=\"dataframe\">\n",
       "  <thead>\n",
       "    <tr style=\"text-align: right;\">\n",
       "      <th></th>\n",
       "      <th>Predict : negative</th>\n",
       "      <th>Predict :positive</th>\n",
       "    </tr>\n",
       "  </thead>\n",
       "  <tbody>\n",
       "    <tr>\n",
       "      <th>Actual : negative</th>\n",
       "      <td>7008</td>\n",
       "      <td>3</td>\n",
       "    </tr>\n",
       "    <tr>\n",
       "      <th>Actual : positive</th>\n",
       "      <td>1989</td>\n",
       "      <td>0</td>\n",
       "    </tr>\n",
       "  </tbody>\n",
       "</table>\n",
       "</div>"
      ],
      "text/plain": [
       "                    Predict : negative  Predict :positive \n",
       "Actual : negative                 7008                   3\n",
       "Actual : positive                 1989                   0"
      ]
     },
     "execution_count": 573,
     "metadata": {},
     "output_type": "execute_result"
    }
   ],
   "source": [
    "my_logistic_report(X_train, y_train, X_test,y_test, threshold=0.5)"
   ]
  },
  {
   "cell_type": "code",
   "execution_count": null,
   "metadata": {},
   "outputs": [],
   "source": [
    "#estimating accuracy test with cross validation technique"
   ]
  },
  {
   "cell_type": "code",
   "execution_count": 571,
   "metadata": {},
   "outputs": [
    {
     "name": "stdout",
     "output_type": "stream",
     "text": [
      "Cross-Validation Accuracy Scores [0.77952381 0.77904762 0.77904762 0.77857143 0.77857143 0.77857143\n",
      " 0.77857143 0.77857143 0.77857143 0.77857143]\n"
     ]
    }
   ],
   "source": [
    "accuracy_CV5 = cross_val_score(logistic, X_train, y_train, cv=5)\n",
    "print('Cross-Validation Accuracy Scores', scores)"
   ]
  },
  {
   "cell_type": "code",
   "execution_count": 572,
   "metadata": {},
   "outputs": [
    {
     "name": "stdout",
     "output_type": "stream",
     "text": [
      "Cross-Validation Accuracy Scores [0.77952381 0.77904762 0.77904762 0.77857143 0.77857143 0.77857143\n",
      " 0.77857143 0.77857143 0.77857143 0.77857143]\n"
     ]
    }
   ],
   "source": [
    "accuracy_CV10 = cross_val_score(logistic, X_train, y_train, cv=10)\n",
    "print('Cross-Validation Accuracy Scores', scores)"
   ]
  },
  {
   "cell_type": "code",
   "execution_count": null,
   "metadata": {},
   "outputs": [],
   "source": [
    "#these numbers are all very close because our model is useful for predicting new data"
   ]
  }
 ],
 "metadata": {
  "kernelspec": {
   "display_name": "Python 3",
   "language": "python",
   "name": "python3"
  },
  "language_info": {
   "codemirror_mode": {
    "name": "ipython",
    "version": 3
   },
   "file_extension": ".py",
   "mimetype": "text/x-python",
   "name": "python",
   "nbconvert_exporter": "python",
   "pygments_lexer": "ipython3",
   "version": "3.8.5"
  }
 },
 "nbformat": 4,
 "nbformat_minor": 4
}
