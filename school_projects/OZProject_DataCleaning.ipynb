{
 "cells": [
  {
   "cell_type": "code",
   "execution_count": 1,
   "metadata": {},
   "outputs": [],
   "source": [
    "import numpy as np\n",
    "import pandas as pd\n",
    "import matplotlib.pyplot as plt\n",
    "import seaborn as sns\n",
    "sns.set()  #if you want to use seaborn themes with matplotlib functions\n",
    "import warnings\n",
    "warnings.filterwarnings('ignore')\n",
    "rand_state = 1000"
   ]
  },
  {
   "cell_type": "code",
   "execution_count": 2,
   "metadata": {},
   "outputs": [],
   "source": [
    "df = pd.read_csv('gubernatorial_data_semiraw.csv')"
   ]
  },
  {
   "cell_type": "code",
   "execution_count": 3,
   "metadata": {},
   "outputs": [
    {
     "name": "stdout",
     "output_type": "stream",
     "text": [
      "<class 'pandas.core.frame.DataFrame'>\n",
      "RangeIndex: 41101 entries, 0 to 41100\n",
      "Data columns (total 27 columns):\n",
      " #   Column            Non-Null Count  Dtype  \n",
      "---  ------            --------------  -----  \n",
      " 0   geoid             41101 non-null  int64  \n",
      " 1   state             41101 non-null  object \n",
      " 2   DesignatedOZ      7801 non-null   float64\n",
      " 3   county            41101 non-null  object \n",
      " 4   Type              41101 non-null  object \n",
      " 5   dec_score         40825 non-null  float64\n",
      " 6   SE_Flag           1012 non-null   float64\n",
      " 7   Population        41068 non-null  float64\n",
      " 8   medhhincome       40954 non-null  float64\n",
      " 9   PovertyRate       41058 non-null  float64\n",
      " 10  unemprate         41058 non-null  float64\n",
      " 11  medvalue          40106 non-null  float64\n",
      " 12  medrent           40844 non-null  float64\n",
      " 13  pctown            41027 non-null  float64\n",
      " 14  severerentburden  41012 non-null  float64\n",
      " 15  vacancyrate       41032 non-null  float64\n",
      " 16  pctwhite          41068 non-null  float64\n",
      " 17  pctBlack          41068 non-null  float64\n",
      " 18  pctHispanic       41068 non-null  float64\n",
      " 19  pctAAPIalone      41068 non-null  float64\n",
      " 20  pctunder18        41068 non-null  float64\n",
      " 21  pctover64         41068 non-null  float64\n",
      " 22  HSorlower         41067 non-null  float64\n",
      " 23  BAorhigher        41067 non-null  float64\n",
      " 24  Metro             32126 non-null  float64\n",
      " 25  Micro             4698 non-null   float64\n",
      " 26  NoCBSAType        4277 non-null   float64\n",
      "dtypes: float64(23), int64(1), object(3)\n",
      "memory usage: 8.5+ MB\n"
     ]
    }
   ],
   "source": [
    "df.info()"
   ]
  },
  {
   "cell_type": "code",
   "execution_count": 4,
   "metadata": {},
   "outputs": [
    {
     "name": "stdout",
     "output_type": "stream",
     "text": [
      "geoid 41101\n",
      "state 50\n",
      "DesignatedOZ 1\n",
      "county 1769\n",
      "Type 2\n",
      "dec_score 10\n",
      "SE_Flag 1\n",
      "Population 8154\n",
      "medhhincome 24231\n",
      "PovertyRate 96\n",
      "unemprate 63\n",
      "medvalue 5403\n",
      "medrent 1818\n",
      "pctown 101\n",
      "severerentburden 85\n",
      "vacancyrate 93\n",
      "pctwhite 101\n",
      "pctBlack 101\n",
      "pctHispanic 101\n",
      "pctAAPIalone 88\n",
      "pctunder18 63\n",
      "pctover64 90\n",
      "HSorlower 97\n",
      "BAorhigher 97\n",
      "Metro 1\n",
      "Micro 1\n",
      "NoCBSAType 1\n"
     ]
    }
   ],
   "source": [
    "for col in df.columns:\n",
    "    print(col, df[col].nunique())"
   ]
  },
  {
   "cell_type": "code",
   "execution_count": 5,
   "metadata": {},
   "outputs": [
    {
     "data": {
      "text/plain": [
       "geoid                   0\n",
       "state                   0\n",
       "DesignatedOZ        33300\n",
       "county                  0\n",
       "Type                    0\n",
       "dec_score             276\n",
       "SE_Flag             40089\n",
       "Population             33\n",
       "medhhincome           147\n",
       "PovertyRate            43\n",
       "unemprate              43\n",
       "medvalue              995\n",
       "medrent               257\n",
       "pctown                 74\n",
       "severerentburden       89\n",
       "vacancyrate            69\n",
       "pctwhite               33\n",
       "pctBlack               33\n",
       "pctHispanic            33\n",
       "pctAAPIalone           33\n",
       "pctunder18             33\n",
       "pctover64              33\n",
       "HSorlower              34\n",
       "BAorhigher             34\n",
       "Metro                8975\n",
       "Micro               36403\n",
       "NoCBSAType          36824\n",
       "dtype: int64"
      ]
     },
     "execution_count": 5,
     "metadata": {},
     "output_type": "execute_result"
    }
   ],
   "source": [
    "df.isna().sum() "
   ]
  },
  {
   "cell_type": "code",
   "execution_count": 6,
   "metadata": {},
   "outputs": [],
   "source": [
    "df['repubstate'] = 0"
   ]
  },
  {
   "cell_type": "code",
   "execution_count": 7,
   "metadata": {},
   "outputs": [],
   "source": [
    "repubstates = ['Alabama', 'Arizona', 'Arkansas', 'Florida', 'Georgia', 'Idaho', 'Indiana', 'Illinois', 'Iowa', 'Kansas', 'Kentucky', 'Maine', 'Maryland', 'Massachusetts', 'Michigan', 'Mississippi', 'Missouri', 'Nebraska', 'Nevada', 'New Hampshire', 'New Mexico', 'North Dakota', 'Ohio', 'Oklahoma', 'South Carolina', 'South Dakota', 'Tennessee', 'Texas', 'Utah', 'Vermont', 'West Virginia', 'Wisconsin', 'Wyoming']"
   ]
  },
  {
   "cell_type": "code",
   "execution_count": 8,
   "metadata": {},
   "outputs": [],
   "source": [
    "for x in range(0, len(df['state'])):\n",
    "    if df['state'][x] in repubstates:\n",
    "        df['repubstate'][x] = 1 "
   ]
  },
  {
   "cell_type": "code",
   "execution_count": 9,
   "metadata": {},
   "outputs": [],
   "source": [
    "df['DesignatedOZ'] = df['DesignatedOZ'].fillna(0)"
   ]
  },
  {
   "cell_type": "code",
   "execution_count": 10,
   "metadata": {},
   "outputs": [],
   "source": [
    "df['Metro'] = df['Metro'].fillna(0)"
   ]
  },
  {
   "cell_type": "code",
   "execution_count": 11,
   "metadata": {},
   "outputs": [],
   "source": [
    "df['Micro'] = df['Micro'].fillna(0)"
   ]
  },
  {
   "cell_type": "code",
   "execution_count": 12,
   "metadata": {},
   "outputs": [],
   "source": [
    "df['NoCBSAType'] = df['NoCBSAType'].fillna(0)"
   ]
  },
  {
   "cell_type": "code",
   "execution_count": 13,
   "metadata": {},
   "outputs": [],
   "source": [
    "df['SE_Flag'] = df['SE_Flag'].fillna(0)"
   ]
  },
  {
   "cell_type": "code",
   "execution_count": 14,
   "metadata": {},
   "outputs": [
    {
     "name": "stdout",
     "output_type": "stream",
     "text": [
      "<class 'pandas.core.frame.DataFrame'>\n",
      "RangeIndex: 41101 entries, 0 to 41100\n",
      "Data columns (total 28 columns):\n",
      " #   Column            Non-Null Count  Dtype   \n",
      "---  ------            --------------  -----   \n",
      " 0   geoid             41101 non-null  int64   \n",
      " 1   state             41101 non-null  category\n",
      " 2   DesignatedOZ      41101 non-null  category\n",
      " 3   county            41101 non-null  category\n",
      " 4   Type              41101 non-null  category\n",
      " 5   dec_score         40825 non-null  category\n",
      " 6   SE_Flag           41101 non-null  category\n",
      " 7   Population        41068 non-null  float64 \n",
      " 8   medhhincome       40954 non-null  float64 \n",
      " 9   PovertyRate       41058 non-null  float64 \n",
      " 10  unemprate         41058 non-null  float64 \n",
      " 11  medvalue          40106 non-null  float64 \n",
      " 12  medrent           40844 non-null  float64 \n",
      " 13  pctown            41027 non-null  float64 \n",
      " 14  severerentburden  41012 non-null  float64 \n",
      " 15  vacancyrate       41032 non-null  float64 \n",
      " 16  pctwhite          41068 non-null  float64 \n",
      " 17  pctBlack          41068 non-null  float64 \n",
      " 18  pctHispanic       41068 non-null  float64 \n",
      " 19  pctAAPIalone      41068 non-null  float64 \n",
      " 20  pctunder18        41068 non-null  float64 \n",
      " 21  pctover64         41068 non-null  float64 \n",
      " 22  HSorlower         41067 non-null  float64 \n",
      " 23  BAorhigher        41067 non-null  float64 \n",
      " 24  Metro             41101 non-null  category\n",
      " 25  Micro             41101 non-null  category\n",
      " 26  NoCBSAType        41101 non-null  category\n",
      " 27  repubstate        41101 non-null  int64   \n",
      "dtypes: category(9), float64(17), int64(2)\n",
      "memory usage: 6.4 MB\n"
     ]
    }
   ],
   "source": [
    "for col in ['state', 'county', 'Type', 'DesignatedOZ', 'dec_score', 'SE_Flag', 'Metro', 'Micro', 'NoCBSAType']:\n",
    "    df[col]= df[col].astype('category')\n",
    "df.info()"
   ]
  },
  {
   "cell_type": "code",
   "execution_count": 15,
   "metadata": {},
   "outputs": [
    {
     "data": {
      "text/html": [
       "<div>\n",
       "<style scoped>\n",
       "    .dataframe tbody tr th:only-of-type {\n",
       "        vertical-align: middle;\n",
       "    }\n",
       "\n",
       "    .dataframe tbody tr th {\n",
       "        vertical-align: top;\n",
       "    }\n",
       "\n",
       "    .dataframe thead th {\n",
       "        text-align: right;\n",
       "    }\n",
       "</style>\n",
       "<table border=\"1\" class=\"dataframe\">\n",
       "  <thead>\n",
       "    <tr style=\"text-align: right;\">\n",
       "      <th></th>\n",
       "      <th>geoid</th>\n",
       "      <th>state</th>\n",
       "      <th>DesignatedOZ</th>\n",
       "      <th>county</th>\n",
       "      <th>Type</th>\n",
       "      <th>dec_score</th>\n",
       "      <th>SE_Flag</th>\n",
       "      <th>Population</th>\n",
       "      <th>medhhincome</th>\n",
       "      <th>PovertyRate</th>\n",
       "      <th>...</th>\n",
       "      <th>pctHispanic</th>\n",
       "      <th>pctAAPIalone</th>\n",
       "      <th>pctunder18</th>\n",
       "      <th>pctover64</th>\n",
       "      <th>HSorlower</th>\n",
       "      <th>BAorhigher</th>\n",
       "      <th>Metro</th>\n",
       "      <th>Micro</th>\n",
       "      <th>NoCBSAType</th>\n",
       "      <th>repubstate</th>\n",
       "    </tr>\n",
       "  </thead>\n",
       "  <tbody>\n",
       "    <tr>\n",
       "      <th>0</th>\n",
       "      <td>2198000300</td>\n",
       "      <td>Alaska</td>\n",
       "      <td>0.0</td>\n",
       "      <td>Prince of Wales-Hyder Census Area</td>\n",
       "      <td>Low-Income Community</td>\n",
       "      <td>NaN</td>\n",
       "      <td>0.0</td>\n",
       "      <td>NaN</td>\n",
       "      <td>NaN</td>\n",
       "      <td>NaN</td>\n",
       "      <td>...</td>\n",
       "      <td>NaN</td>\n",
       "      <td>NaN</td>\n",
       "      <td>NaN</td>\n",
       "      <td>NaN</td>\n",
       "      <td>NaN</td>\n",
       "      <td>NaN</td>\n",
       "      <td>0.0</td>\n",
       "      <td>0.0</td>\n",
       "      <td>1.0</td>\n",
       "      <td>0</td>\n",
       "    </tr>\n",
       "    <tr>\n",
       "      <th>1</th>\n",
       "      <td>6037980014</td>\n",
       "      <td>California</td>\n",
       "      <td>1.0</td>\n",
       "      <td>Los Angeles County</td>\n",
       "      <td>Low-Income Community</td>\n",
       "      <td>9.0</td>\n",
       "      <td>0.0</td>\n",
       "      <td>NaN</td>\n",
       "      <td>NaN</td>\n",
       "      <td>NaN</td>\n",
       "      <td>...</td>\n",
       "      <td>NaN</td>\n",
       "      <td>NaN</td>\n",
       "      <td>NaN</td>\n",
       "      <td>NaN</td>\n",
       "      <td>NaN</td>\n",
       "      <td>NaN</td>\n",
       "      <td>1.0</td>\n",
       "      <td>0.0</td>\n",
       "      <td>0.0</td>\n",
       "      <td>0</td>\n",
       "    </tr>\n",
       "    <tr>\n",
       "      <th>2</th>\n",
       "      <td>6037980004</td>\n",
       "      <td>California</td>\n",
       "      <td>0.0</td>\n",
       "      <td>Los Angeles County</td>\n",
       "      <td>Low-Income Community</td>\n",
       "      <td>1.0</td>\n",
       "      <td>0.0</td>\n",
       "      <td>NaN</td>\n",
       "      <td>NaN</td>\n",
       "      <td>NaN</td>\n",
       "      <td>...</td>\n",
       "      <td>NaN</td>\n",
       "      <td>NaN</td>\n",
       "      <td>NaN</td>\n",
       "      <td>NaN</td>\n",
       "      <td>NaN</td>\n",
       "      <td>NaN</td>\n",
       "      <td>1.0</td>\n",
       "      <td>0.0</td>\n",
       "      <td>0.0</td>\n",
       "      <td>0</td>\n",
       "    </tr>\n",
       "    <tr>\n",
       "      <th>3</th>\n",
       "      <td>6037980021</td>\n",
       "      <td>California</td>\n",
       "      <td>0.0</td>\n",
       "      <td>Los Angeles County</td>\n",
       "      <td>Low-Income Community</td>\n",
       "      <td>NaN</td>\n",
       "      <td>0.0</td>\n",
       "      <td>NaN</td>\n",
       "      <td>NaN</td>\n",
       "      <td>NaN</td>\n",
       "      <td>...</td>\n",
       "      <td>NaN</td>\n",
       "      <td>NaN</td>\n",
       "      <td>NaN</td>\n",
       "      <td>NaN</td>\n",
       "      <td>NaN</td>\n",
       "      <td>NaN</td>\n",
       "      <td>1.0</td>\n",
       "      <td>0.0</td>\n",
       "      <td>0.0</td>\n",
       "      <td>0</td>\n",
       "    </tr>\n",
       "    <tr>\n",
       "      <th>4</th>\n",
       "      <td>12086980800</td>\n",
       "      <td>Florida</td>\n",
       "      <td>1.0</td>\n",
       "      <td>Miami-Dade County</td>\n",
       "      <td>Low-Income Community</td>\n",
       "      <td>8.0</td>\n",
       "      <td>0.0</td>\n",
       "      <td>NaN</td>\n",
       "      <td>NaN</td>\n",
       "      <td>NaN</td>\n",
       "      <td>...</td>\n",
       "      <td>NaN</td>\n",
       "      <td>NaN</td>\n",
       "      <td>NaN</td>\n",
       "      <td>NaN</td>\n",
       "      <td>NaN</td>\n",
       "      <td>NaN</td>\n",
       "      <td>1.0</td>\n",
       "      <td>0.0</td>\n",
       "      <td>0.0</td>\n",
       "      <td>1</td>\n",
       "    </tr>\n",
       "  </tbody>\n",
       "</table>\n",
       "<p>5 rows × 28 columns</p>\n",
       "</div>"
      ],
      "text/plain": [
       "         geoid       state DesignatedOZ                             county  \\\n",
       "0   2198000300      Alaska          0.0  Prince of Wales-Hyder Census Area   \n",
       "1   6037980014  California          1.0                 Los Angeles County   \n",
       "2   6037980004  California          0.0                 Los Angeles County   \n",
       "3   6037980021  California          0.0                 Los Angeles County   \n",
       "4  12086980800     Florida          1.0                  Miami-Dade County   \n",
       "\n",
       "                   Type dec_score SE_Flag  Population  medhhincome  \\\n",
       "0  Low-Income Community       NaN     0.0         NaN          NaN   \n",
       "1  Low-Income Community       9.0     0.0         NaN          NaN   \n",
       "2  Low-Income Community       1.0     0.0         NaN          NaN   \n",
       "3  Low-Income Community       NaN     0.0         NaN          NaN   \n",
       "4  Low-Income Community       8.0     0.0         NaN          NaN   \n",
       "\n",
       "   PovertyRate  ...  pctHispanic  pctAAPIalone  pctunder18  pctover64  \\\n",
       "0          NaN  ...          NaN           NaN         NaN        NaN   \n",
       "1          NaN  ...          NaN           NaN         NaN        NaN   \n",
       "2          NaN  ...          NaN           NaN         NaN        NaN   \n",
       "3          NaN  ...          NaN           NaN         NaN        NaN   \n",
       "4          NaN  ...          NaN           NaN         NaN        NaN   \n",
       "\n",
       "   HSorlower  BAorhigher  Metro  Micro  NoCBSAType  repubstate  \n",
       "0        NaN         NaN    0.0    0.0         1.0           0  \n",
       "1        NaN         NaN    1.0    0.0         0.0           0  \n",
       "2        NaN         NaN    1.0    0.0         0.0           0  \n",
       "3        NaN         NaN    1.0    0.0         0.0           0  \n",
       "4        NaN         NaN    1.0    0.0         0.0           1  \n",
       "\n",
       "[5 rows x 28 columns]"
      ]
     },
     "execution_count": 15,
     "metadata": {},
     "output_type": "execute_result"
    }
   ],
   "source": [
    "df.head()"
   ]
  },
  {
   "cell_type": "code",
   "execution_count": 16,
   "metadata": {},
   "outputs": [
    {
     "data": {
      "text/plain": [
       "geoid                 0\n",
       "state                 0\n",
       "DesignatedOZ          0\n",
       "county                0\n",
       "Type                  0\n",
       "dec_score           276\n",
       "SE_Flag               0\n",
       "Population           33\n",
       "medhhincome         147\n",
       "PovertyRate          43\n",
       "unemprate            43\n",
       "medvalue            995\n",
       "medrent             257\n",
       "pctown               74\n",
       "severerentburden     89\n",
       "vacancyrate          69\n",
       "pctwhite             33\n",
       "pctBlack             33\n",
       "pctHispanic          33\n",
       "pctAAPIalone         33\n",
       "pctunder18           33\n",
       "pctover64            33\n",
       "HSorlower            34\n",
       "BAorhigher           34\n",
       "Metro                 0\n",
       "Micro                 0\n",
       "NoCBSAType            0\n",
       "repubstate            0\n",
       "dtype: int64"
      ]
     },
     "execution_count": 16,
     "metadata": {},
     "output_type": "execute_result"
    }
   ],
   "source": [
    "df.isna().sum() "
   ]
  },
  {
   "cell_type": "code",
   "execution_count": 17,
   "metadata": {},
   "outputs": [
    {
     "data": {
      "text/plain": [
       "(41101, 28)"
      ]
     },
     "execution_count": 17,
     "metadata": {},
     "output_type": "execute_result"
    }
   ],
   "source": [
    "df.shape"
   ]
  },
  {
   "cell_type": "code",
   "execution_count": 18,
   "metadata": {},
   "outputs": [],
   "source": [
    "df = df.dropna()"
   ]
  },
  {
   "cell_type": "code",
   "execution_count": 19,
   "metadata": {},
   "outputs": [
    {
     "data": {
      "text/plain": [
       "(39897, 28)"
      ]
     },
     "execution_count": 19,
     "metadata": {},
     "output_type": "execute_result"
    }
   ],
   "source": [
    "df.shape"
   ]
  },
  {
   "cell_type": "code",
   "execution_count": 20,
   "metadata": {},
   "outputs": [
    {
     "data": {
      "text/plain": [
       "geoid               0\n",
       "state               0\n",
       "DesignatedOZ        0\n",
       "county              0\n",
       "Type                0\n",
       "dec_score           0\n",
       "SE_Flag             0\n",
       "Population          0\n",
       "medhhincome         0\n",
       "PovertyRate         0\n",
       "unemprate           0\n",
       "medvalue            0\n",
       "medrent             0\n",
       "pctown              0\n",
       "severerentburden    0\n",
       "vacancyrate         0\n",
       "pctwhite            0\n",
       "pctBlack            0\n",
       "pctHispanic         0\n",
       "pctAAPIalone        0\n",
       "pctunder18          0\n",
       "pctover64           0\n",
       "HSorlower           0\n",
       "BAorhigher          0\n",
       "Metro               0\n",
       "Micro               0\n",
       "NoCBSAType          0\n",
       "repubstate          0\n",
       "dtype: int64"
      ]
     },
     "execution_count": 20,
     "metadata": {},
     "output_type": "execute_result"
    }
   ],
   "source": [
    "df.isna().sum() "
   ]
  },
  {
   "cell_type": "code",
   "execution_count": 22,
   "metadata": {},
   "outputs": [],
   "source": [
    "df = pd.get_dummies(drop_first=True, data=df, columns = ['state', 'dec_score'])"
   ]
  },
  {
   "cell_type": "code",
   "execution_count": 23,
   "metadata": {},
   "outputs": [
    {
     "name": "stdout",
     "output_type": "stream",
     "text": [
      "geoid 39897\n",
      "DesignatedOZ 2\n",
      "county 1764\n",
      "Type 2\n",
      "SE_Flag 2\n",
      "Population 7981\n",
      "medhhincome 23731\n",
      "PovertyRate 87\n",
      "unemprate 52\n",
      "medvalue 5393\n",
      "medrent 1749\n",
      "pctown 98\n",
      "severerentburden 81\n",
      "vacancyrate 89\n",
      "pctwhite 101\n",
      "pctBlack 101\n",
      "pctHispanic 101\n",
      "pctAAPIalone 87\n",
      "pctunder18 62\n",
      "pctover64 89\n",
      "HSorlower 96\n",
      "BAorhigher 95\n",
      "Metro 2\n",
      "Micro 2\n",
      "NoCBSAType 2\n",
      "repubstate 2\n",
      "state_Alaska 2\n",
      "state_Arizona 2\n",
      "state_Arkansas 2\n",
      "state_California 2\n",
      "state_Colorado 2\n",
      "state_Connecticut 2\n",
      "state_Delaware 2\n",
      "state_Florida 2\n",
      "state_Georgia 2\n",
      "state_Hawaii 2\n",
      "state_Idaho 2\n",
      "state_Illinois 2\n",
      "state_Indiana 2\n",
      "state_Iowa 2\n",
      "state_Kansas 2\n",
      "state_Kentucky 2\n",
      "state_Louisiana 2\n",
      "state_Maine 2\n",
      "state_Maryland 2\n",
      "state_Massachusetts 2\n",
      "state_Michigan 2\n",
      "state_Minnesota 2\n",
      "state_Mississippi 2\n",
      "state_Missouri 2\n",
      "state_Montana 2\n",
      "state_Nebraska 2\n",
      "state_Nevada 2\n",
      "state_New Hampshire 2\n",
      "state_New Jersey 2\n",
      "state_New Mexico 2\n",
      "state_New York 2\n",
      "state_North Carolina 2\n",
      "state_North Dakota 2\n",
      "state_Ohio 2\n",
      "state_Oklahoma 2\n",
      "state_Oregon 2\n",
      "state_Pennsylvania 2\n",
      "state_Rhode Island 2\n",
      "state_South Carolina 2\n",
      "state_South Dakota 2\n",
      "state_Tennessee 2\n",
      "state_Texas 2\n",
      "state_Utah 2\n",
      "state_Vermont 2\n",
      "state_Virginia 2\n",
      "state_Washington 2\n",
      "state_West Virginia 2\n",
      "state_Wisconsin 2\n",
      "state_Wyoming 2\n",
      "dec_score_2.0 2\n",
      "dec_score_3.0 2\n",
      "dec_score_4.0 2\n",
      "dec_score_5.0 2\n",
      "dec_score_6.0 2\n",
      "dec_score_7.0 2\n",
      "dec_score_8.0 2\n",
      "dec_score_9.0 2\n",
      "dec_score_10.0 2\n"
     ]
    }
   ],
   "source": [
    "for col in df.columns:\n",
    "    print(col, df[col].nunique())"
   ]
  },
  {
   "cell_type": "code",
   "execution_count": 24,
   "metadata": {},
   "outputs": [],
   "source": [
    "df.drop(df[df['Type'] == 'Non-LIC Contiguous'].index, inplace=True)"
   ]
  },
  {
   "cell_type": "code",
   "execution_count": 25,
   "metadata": {},
   "outputs": [
    {
     "data": {
      "text/plain": [
       "(29754, 84)"
      ]
     },
     "execution_count": 25,
     "metadata": {},
     "output_type": "execute_result"
    }
   ],
   "source": [
    "df.shape"
   ]
  },
  {
   "cell_type": "code",
   "execution_count": 26,
   "metadata": {},
   "outputs": [],
   "source": [
    "df = df.drop(['county'], axis=1)"
   ]
  },
  {
   "cell_type": "code",
   "execution_count": 27,
   "metadata": {},
   "outputs": [
    {
     "data": {
      "text/html": [
       "<div>\n",
       "<style scoped>\n",
       "    .dataframe tbody tr th:only-of-type {\n",
       "        vertical-align: middle;\n",
       "    }\n",
       "\n",
       "    .dataframe tbody tr th {\n",
       "        vertical-align: top;\n",
       "    }\n",
       "\n",
       "    .dataframe thead th {\n",
       "        text-align: right;\n",
       "    }\n",
       "</style>\n",
       "<table border=\"1\" class=\"dataframe\">\n",
       "  <thead>\n",
       "    <tr style=\"text-align: right;\">\n",
       "      <th></th>\n",
       "      <th>geoid</th>\n",
       "      <th>DesignatedOZ</th>\n",
       "      <th>Type</th>\n",
       "      <th>SE_Flag</th>\n",
       "      <th>Population</th>\n",
       "      <th>medhhincome</th>\n",
       "      <th>PovertyRate</th>\n",
       "      <th>unemprate</th>\n",
       "      <th>medvalue</th>\n",
       "      <th>medrent</th>\n",
       "      <th>...</th>\n",
       "      <th>state_Wyoming</th>\n",
       "      <th>dec_score_2.0</th>\n",
       "      <th>dec_score_3.0</th>\n",
       "      <th>dec_score_4.0</th>\n",
       "      <th>dec_score_5.0</th>\n",
       "      <th>dec_score_6.0</th>\n",
       "      <th>dec_score_7.0</th>\n",
       "      <th>dec_score_8.0</th>\n",
       "      <th>dec_score_9.0</th>\n",
       "      <th>dec_score_10.0</th>\n",
       "    </tr>\n",
       "  </thead>\n",
       "  <tbody>\n",
       "    <tr>\n",
       "      <th>22</th>\n",
       "      <td>36005046201</td>\n",
       "      <td>1.0</td>\n",
       "      <td>Low-Income Community</td>\n",
       "      <td>0.0</td>\n",
       "      <td>29256.0</td>\n",
       "      <td>45770.0</td>\n",
       "      <td>0.07</td>\n",
       "      <td>0.09</td>\n",
       "      <td>24900.0</td>\n",
       "      <td>937.0</td>\n",
       "      <td>...</td>\n",
       "      <td>0</td>\n",
       "      <td>1</td>\n",
       "      <td>0</td>\n",
       "      <td>0</td>\n",
       "      <td>0</td>\n",
       "      <td>0</td>\n",
       "      <td>0</td>\n",
       "      <td>0</td>\n",
       "      <td>0</td>\n",
       "      <td>0</td>\n",
       "    </tr>\n",
       "    <tr>\n",
       "      <th>25</th>\n",
       "      <td>6107001003</td>\n",
       "      <td>1.0</td>\n",
       "      <td>Low-Income Community</td>\n",
       "      <td>0.0</td>\n",
       "      <td>22748.0</td>\n",
       "      <td>80068.0</td>\n",
       "      <td>0.21</td>\n",
       "      <td>0.05</td>\n",
       "      <td>272800.0</td>\n",
       "      <td>1083.0</td>\n",
       "      <td>...</td>\n",
       "      <td>0</td>\n",
       "      <td>0</td>\n",
       "      <td>0</td>\n",
       "      <td>0</td>\n",
       "      <td>0</td>\n",
       "      <td>0</td>\n",
       "      <td>0</td>\n",
       "      <td>0</td>\n",
       "      <td>1</td>\n",
       "      <td>0</td>\n",
       "    </tr>\n",
       "    <tr>\n",
       "      <th>30</th>\n",
       "      <td>13089023418</td>\n",
       "      <td>0.0</td>\n",
       "      <td>Low-Income Community</td>\n",
       "      <td>0.0</td>\n",
       "      <td>20092.0</td>\n",
       "      <td>49930.0</td>\n",
       "      <td>0.17</td>\n",
       "      <td>0.12</td>\n",
       "      <td>125100.0</td>\n",
       "      <td>993.0</td>\n",
       "      <td>...</td>\n",
       "      <td>0</td>\n",
       "      <td>0</td>\n",
       "      <td>1</td>\n",
       "      <td>0</td>\n",
       "      <td>0</td>\n",
       "      <td>0</td>\n",
       "      <td>0</td>\n",
       "      <td>0</td>\n",
       "      <td>0</td>\n",
       "      <td>0</td>\n",
       "    </tr>\n",
       "    <tr>\n",
       "      <th>33</th>\n",
       "      <td>12097041100</td>\n",
       "      <td>1.0</td>\n",
       "      <td>Low-Income Community</td>\n",
       "      <td>0.0</td>\n",
       "      <td>19834.0</td>\n",
       "      <td>36756.0</td>\n",
       "      <td>0.24</td>\n",
       "      <td>0.15</td>\n",
       "      <td>115600.0</td>\n",
       "      <td>1118.0</td>\n",
       "      <td>...</td>\n",
       "      <td>0</td>\n",
       "      <td>0</td>\n",
       "      <td>0</td>\n",
       "      <td>0</td>\n",
       "      <td>0</td>\n",
       "      <td>0</td>\n",
       "      <td>0</td>\n",
       "      <td>0</td>\n",
       "      <td>0</td>\n",
       "      <td>0</td>\n",
       "    </tr>\n",
       "    <tr>\n",
       "      <th>34</th>\n",
       "      <td>12097042900</td>\n",
       "      <td>1.0</td>\n",
       "      <td>Low-Income Community</td>\n",
       "      <td>0.0</td>\n",
       "      <td>19187.0</td>\n",
       "      <td>43750.0</td>\n",
       "      <td>0.17</td>\n",
       "      <td>0.06</td>\n",
       "      <td>150600.0</td>\n",
       "      <td>1079.0</td>\n",
       "      <td>...</td>\n",
       "      <td>0</td>\n",
       "      <td>0</td>\n",
       "      <td>0</td>\n",
       "      <td>0</td>\n",
       "      <td>0</td>\n",
       "      <td>0</td>\n",
       "      <td>1</td>\n",
       "      <td>0</td>\n",
       "      <td>0</td>\n",
       "      <td>0</td>\n",
       "    </tr>\n",
       "  </tbody>\n",
       "</table>\n",
       "<p>5 rows × 83 columns</p>\n",
       "</div>"
      ],
      "text/plain": [
       "          geoid DesignatedOZ                  Type SE_Flag  Population  \\\n",
       "22  36005046201          1.0  Low-Income Community     0.0     29256.0   \n",
       "25   6107001003          1.0  Low-Income Community     0.0     22748.0   \n",
       "30  13089023418          0.0  Low-Income Community     0.0     20092.0   \n",
       "33  12097041100          1.0  Low-Income Community     0.0     19834.0   \n",
       "34  12097042900          1.0  Low-Income Community     0.0     19187.0   \n",
       "\n",
       "    medhhincome  PovertyRate  unemprate  medvalue  medrent  ...  \\\n",
       "22      45770.0         0.07       0.09   24900.0    937.0  ...   \n",
       "25      80068.0         0.21       0.05  272800.0   1083.0  ...   \n",
       "30      49930.0         0.17       0.12  125100.0    993.0  ...   \n",
       "33      36756.0         0.24       0.15  115600.0   1118.0  ...   \n",
       "34      43750.0         0.17       0.06  150600.0   1079.0  ...   \n",
       "\n",
       "    state_Wyoming  dec_score_2.0  dec_score_3.0  dec_score_4.0  dec_score_5.0  \\\n",
       "22              0              1              0              0              0   \n",
       "25              0              0              0              0              0   \n",
       "30              0              0              1              0              0   \n",
       "33              0              0              0              0              0   \n",
       "34              0              0              0              0              0   \n",
       "\n",
       "    dec_score_6.0  dec_score_7.0  dec_score_8.0  dec_score_9.0  dec_score_10.0  \n",
       "22              0              0              0              0               0  \n",
       "25              0              0              0              1               0  \n",
       "30              0              0              0              0               0  \n",
       "33              0              0              0              0               0  \n",
       "34              0              1              0              0               0  \n",
       "\n",
       "[5 rows x 83 columns]"
      ]
     },
     "execution_count": 27,
     "metadata": {},
     "output_type": "execute_result"
    }
   ],
   "source": [
    "df.head()"
   ]
  },
  {
   "cell_type": "code",
   "execution_count": 110,
   "metadata": {},
   "outputs": [],
   "source": [
    "###df.to_csv('thesis_clean.csv', index=False)"
   ]
  }
 ],
 "metadata": {
  "kernelspec": {
   "display_name": "Python 3",
   "language": "python",
   "name": "python3"
  },
  "language_info": {
   "codemirror_mode": {
    "name": "ipython",
    "version": 3
   },
   "file_extension": ".py",
   "mimetype": "text/x-python",
   "name": "python",
   "nbconvert_exporter": "python",
   "pygments_lexer": "ipython3",
   "version": "3.8.5"
  }
 },
 "nbformat": 4,
 "nbformat_minor": 4
}
