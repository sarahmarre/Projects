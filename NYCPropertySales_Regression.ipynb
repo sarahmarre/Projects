{
 "cells": [
  {
   "cell_type": "code",
   "execution_count": 174,
   "metadata": {},
   "outputs": [],
   "source": [
    "import numpy as np\n",
    "import pandas as pd\n",
    "import matplotlib.pyplot as plt\n",
    "import seaborn as sns\n",
    "from sklearn.linear_model import LinearRegression\n",
    "from sklearn.preprocessing import PolynomialFeatures\n",
    "from sklearn.model_selection import train_test_split\n",
    "\n",
    "sns.set()"
   ]
  },
  {
   "cell_type": "code",
   "execution_count": 175,
   "metadata": {},
   "outputs": [],
   "source": [
    "nyc = pd.read_csv('nyc-rolling-sales_clean.csv')"
   ]
  },
  {
   "cell_type": "code",
   "execution_count": 176,
   "metadata": {},
   "outputs": [],
   "source": [
    "#let's set the target variable as log price. Setting the target as log sale price rather than just sale price will normalize the skewed data and help work around the linear regression's sensitivity to outliers.\n",
    "y = np.log(df['SALE PRICE'])"
   ]
  },
  {
   "cell_type": "code",
   "execution_count": 260,
   "metadata": {},
   "outputs": [],
   "source": [
    "#set the features that we think are relevant; in this case: zip code, gross sq feet, year built, and sale month\n",
    "X = df.drop(['SALE PRICE', 'BUILDING CLASS CATEGORY', 'TAX CLASS AT PRESENT', 'BUILDING CLASS AT PRESENT', 'BOROUGH', 'NEIGHBORHOOD', 'RESIDENTIAL UNITS', 'COMMERCIAL UNITS', 'TOTAL UNITS', 'LAND SQUARE FEET', 'TAX CLASS AT TIME OF SALE', 'BUILDING CLASS AT TIME OF SALE', 'SALE DATE', 'sale_year'], axis=1)"
   ]
  },
  {
   "cell_type": "code",
   "execution_count": 261,
   "metadata": {},
   "outputs": [
    {
     "name": "stdout",
     "output_type": "stream",
     "text": [
      "<class 'pandas.core.frame.DataFrame'>\n",
      "RangeIndex: 30236 entries, 0 to 30235\n",
      "Data columns (total 19 columns):\n",
      " #   Column                          Non-Null Count  Dtype         \n",
      "---  ------                          --------------  -----         \n",
      " 0   BOROUGH                         30236 non-null  object        \n",
      " 1   NEIGHBORHOOD                    30236 non-null  object        \n",
      " 2   BUILDING CLASS CATEGORY         30236 non-null  object        \n",
      " 3   TAX CLASS AT PRESENT            30236 non-null  object        \n",
      " 4   BUILDING CLASS AT PRESENT       30236 non-null  object        \n",
      " 5   ZIP CODE                        30236 non-null  object        \n",
      " 6   RESIDENTIAL UNITS               30236 non-null  int64         \n",
      " 7   COMMERCIAL UNITS                30236 non-null  int64         \n",
      " 8   TOTAL UNITS                     30236 non-null  int64         \n",
      " 9   LAND SQUARE FEET                30236 non-null  float64       \n",
      " 10  GROSS SQUARE FEET               30236 non-null  float64       \n",
      " 11  YEAR BUILT                      30236 non-null  int64         \n",
      " 12  TAX CLASS AT TIME OF SALE       30236 non-null  int64         \n",
      " 13  BUILDING CLASS AT TIME OF SALE  30236 non-null  object        \n",
      " 14  SALE PRICE                      30236 non-null  float64       \n",
      " 15  SALE DATE                       30236 non-null  datetime64[ns]\n",
      " 16  sale_year                       30236 non-null  int64         \n",
      " 17  sale_month                      30236 non-null  object        \n",
      " 18  target                          30236 non-null  float64       \n",
      "dtypes: datetime64[ns](1), float64(4), int64(6), object(8)\n",
      "memory usage: 4.4+ MB\n"
     ]
    }
   ],
   "source": [
    "#we'll need to turn sale month and zip code into categorical variables if we're going to use them\n",
    "df['sale_month']=df['sale_month'].astype(\"object\")\n",
    "df['ZIP CODE']=df['ZIP CODE'].astype(\"object\")\n",
    "df.info()"
   ]
  },
  {
   "cell_type": "code",
   "execution_count": 262,
   "metadata": {},
   "outputs": [
    {
     "data": {
      "text/html": [
       "<div>\n",
       "<style scoped>\n",
       "    .dataframe tbody tr th:only-of-type {\n",
       "        vertical-align: middle;\n",
       "    }\n",
       "\n",
       "    .dataframe tbody tr th {\n",
       "        vertical-align: top;\n",
       "    }\n",
       "\n",
       "    .dataframe thead th {\n",
       "        text-align: right;\n",
       "    }\n",
       "</style>\n",
       "<table border=\"1\" class=\"dataframe\">\n",
       "  <thead>\n",
       "    <tr style=\"text-align: right;\">\n",
       "      <th></th>\n",
       "      <th>GROSS SQUARE FEET</th>\n",
       "      <th>YEAR BUILT</th>\n",
       "      <th>target</th>\n",
       "      <th>ZIP CODE_10001</th>\n",
       "      <th>ZIP CODE_10002</th>\n",
       "      <th>ZIP CODE_10003</th>\n",
       "      <th>ZIP CODE_10005</th>\n",
       "      <th>ZIP CODE_10009</th>\n",
       "      <th>ZIP CODE_10010</th>\n",
       "      <th>ZIP CODE_10011</th>\n",
       "      <th>...</th>\n",
       "      <th>sale_month_3</th>\n",
       "      <th>sale_month_4</th>\n",
       "      <th>sale_month_5</th>\n",
       "      <th>sale_month_6</th>\n",
       "      <th>sale_month_7</th>\n",
       "      <th>sale_month_8</th>\n",
       "      <th>sale_month_9</th>\n",
       "      <th>sale_month_10</th>\n",
       "      <th>sale_month_11</th>\n",
       "      <th>sale_month_12</th>\n",
       "    </tr>\n",
       "  </thead>\n",
       "  <tbody>\n",
       "    <tr>\n",
       "      <th>0</th>\n",
       "      <td>6794.0</td>\n",
       "      <td>1913</td>\n",
       "      <td>15.185745</td>\n",
       "      <td>0</td>\n",
       "      <td>0</td>\n",
       "      <td>0</td>\n",
       "      <td>0</td>\n",
       "      <td>1</td>\n",
       "      <td>0</td>\n",
       "      <td>0</td>\n",
       "      <td>...</td>\n",
       "      <td>0</td>\n",
       "      <td>0</td>\n",
       "      <td>0</td>\n",
       "      <td>0</td>\n",
       "      <td>0</td>\n",
       "      <td>0</td>\n",
       "      <td>1</td>\n",
       "      <td>0</td>\n",
       "      <td>0</td>\n",
       "      <td>0</td>\n",
       "    </tr>\n",
       "    <tr>\n",
       "      <th>1</th>\n",
       "      <td>4226.0</td>\n",
       "      <td>1920</td>\n",
       "      <td>14.976421</td>\n",
       "      <td>0</td>\n",
       "      <td>0</td>\n",
       "      <td>0</td>\n",
       "      <td>0</td>\n",
       "      <td>1</td>\n",
       "      <td>0</td>\n",
       "      <td>0</td>\n",
       "      <td>...</td>\n",
       "      <td>0</td>\n",
       "      <td>0</td>\n",
       "      <td>0</td>\n",
       "      <td>0</td>\n",
       "      <td>0</td>\n",
       "      <td>0</td>\n",
       "      <td>1</td>\n",
       "      <td>0</td>\n",
       "      <td>0</td>\n",
       "      <td>0</td>\n",
       "    </tr>\n",
       "    <tr>\n",
       "      <th>2</th>\n",
       "      <td>3360.0</td>\n",
       "      <td>1910</td>\n",
       "      <td>15.009433</td>\n",
       "      <td>0</td>\n",
       "      <td>0</td>\n",
       "      <td>0</td>\n",
       "      <td>0</td>\n",
       "      <td>1</td>\n",
       "      <td>0</td>\n",
       "      <td>0</td>\n",
       "      <td>...</td>\n",
       "      <td>0</td>\n",
       "      <td>0</td>\n",
       "      <td>0</td>\n",
       "      <td>0</td>\n",
       "      <td>0</td>\n",
       "      <td>0</td>\n",
       "      <td>0</td>\n",
       "      <td>0</td>\n",
       "      <td>1</td>\n",
       "      <td>0</td>\n",
       "    </tr>\n",
       "    <tr>\n",
       "      <th>3</th>\n",
       "      <td>3586.0</td>\n",
       "      <td>1899</td>\n",
       "      <td>15.123843</td>\n",
       "      <td>0</td>\n",
       "      <td>0</td>\n",
       "      <td>0</td>\n",
       "      <td>0</td>\n",
       "      <td>1</td>\n",
       "      <td>0</td>\n",
       "      <td>0</td>\n",
       "      <td>...</td>\n",
       "      <td>0</td>\n",
       "      <td>0</td>\n",
       "      <td>0</td>\n",
       "      <td>0</td>\n",
       "      <td>0</td>\n",
       "      <td>0</td>\n",
       "      <td>1</td>\n",
       "      <td>0</td>\n",
       "      <td>0</td>\n",
       "      <td>0</td>\n",
       "    </tr>\n",
       "    <tr>\n",
       "      <th>4</th>\n",
       "      <td>6330.0</td>\n",
       "      <td>1901</td>\n",
       "      <td>14.275363</td>\n",
       "      <td>0</td>\n",
       "      <td>0</td>\n",
       "      <td>0</td>\n",
       "      <td>0</td>\n",
       "      <td>0</td>\n",
       "      <td>0</td>\n",
       "      <td>1</td>\n",
       "      <td>...</td>\n",
       "      <td>0</td>\n",
       "      <td>0</td>\n",
       "      <td>0</td>\n",
       "      <td>0</td>\n",
       "      <td>0</td>\n",
       "      <td>1</td>\n",
       "      <td>0</td>\n",
       "      <td>0</td>\n",
       "      <td>0</td>\n",
       "      <td>0</td>\n",
       "    </tr>\n",
       "    <tr>\n",
       "      <th>...</th>\n",
       "      <td>...</td>\n",
       "      <td>...</td>\n",
       "      <td>...</td>\n",
       "      <td>...</td>\n",
       "      <td>...</td>\n",
       "      <td>...</td>\n",
       "      <td>...</td>\n",
       "      <td>...</td>\n",
       "      <td>...</td>\n",
       "      <td>...</td>\n",
       "      <td>...</td>\n",
       "      <td>...</td>\n",
       "      <td>...</td>\n",
       "      <td>...</td>\n",
       "      <td>...</td>\n",
       "      <td>...</td>\n",
       "      <td>...</td>\n",
       "      <td>...</td>\n",
       "      <td>...</td>\n",
       "      <td>...</td>\n",
       "      <td>...</td>\n",
       "    </tr>\n",
       "    <tr>\n",
       "      <th>30231</th>\n",
       "      <td>2160.0</td>\n",
       "      <td>1994</td>\n",
       "      <td>13.381646</td>\n",
       "      <td>0</td>\n",
       "      <td>0</td>\n",
       "      <td>0</td>\n",
       "      <td>0</td>\n",
       "      <td>0</td>\n",
       "      <td>0</td>\n",
       "      <td>0</td>\n",
       "      <td>...</td>\n",
       "      <td>0</td>\n",
       "      <td>0</td>\n",
       "      <td>0</td>\n",
       "      <td>0</td>\n",
       "      <td>0</td>\n",
       "      <td>0</td>\n",
       "      <td>0</td>\n",
       "      <td>0</td>\n",
       "      <td>0</td>\n",
       "      <td>1</td>\n",
       "    </tr>\n",
       "    <tr>\n",
       "      <th>30232</th>\n",
       "      <td>2575.0</td>\n",
       "      <td>1998</td>\n",
       "      <td>13.017003</td>\n",
       "      <td>0</td>\n",
       "      <td>0</td>\n",
       "      <td>0</td>\n",
       "      <td>0</td>\n",
       "      <td>0</td>\n",
       "      <td>0</td>\n",
       "      <td>0</td>\n",
       "      <td>...</td>\n",
       "      <td>0</td>\n",
       "      <td>0</td>\n",
       "      <td>0</td>\n",
       "      <td>0</td>\n",
       "      <td>0</td>\n",
       "      <td>0</td>\n",
       "      <td>0</td>\n",
       "      <td>0</td>\n",
       "      <td>1</td>\n",
       "      <td>0</td>\n",
       "    </tr>\n",
       "    <tr>\n",
       "      <th>30233</th>\n",
       "      <td>2377.0</td>\n",
       "      <td>1998</td>\n",
       "      <td>13.217674</td>\n",
       "      <td>0</td>\n",
       "      <td>0</td>\n",
       "      <td>0</td>\n",
       "      <td>0</td>\n",
       "      <td>0</td>\n",
       "      <td>0</td>\n",
       "      <td>0</td>\n",
       "      <td>...</td>\n",
       "      <td>0</td>\n",
       "      <td>1</td>\n",
       "      <td>0</td>\n",
       "      <td>0</td>\n",
       "      <td>0</td>\n",
       "      <td>0</td>\n",
       "      <td>0</td>\n",
       "      <td>0</td>\n",
       "      <td>0</td>\n",
       "      <td>0</td>\n",
       "    </tr>\n",
       "    <tr>\n",
       "      <th>30234</th>\n",
       "      <td>1496.0</td>\n",
       "      <td>1925</td>\n",
       "      <td>13.038982</td>\n",
       "      <td>0</td>\n",
       "      <td>0</td>\n",
       "      <td>0</td>\n",
       "      <td>0</td>\n",
       "      <td>0</td>\n",
       "      <td>0</td>\n",
       "      <td>0</td>\n",
       "      <td>...</td>\n",
       "      <td>0</td>\n",
       "      <td>0</td>\n",
       "      <td>0</td>\n",
       "      <td>0</td>\n",
       "      <td>1</td>\n",
       "      <td>0</td>\n",
       "      <td>0</td>\n",
       "      <td>0</td>\n",
       "      <td>0</td>\n",
       "      <td>0</td>\n",
       "    </tr>\n",
       "    <tr>\n",
       "      <th>30235</th>\n",
       "      <td>2400.0</td>\n",
       "      <td>2006</td>\n",
       "      <td>11.146200</td>\n",
       "      <td>0</td>\n",
       "      <td>0</td>\n",
       "      <td>0</td>\n",
       "      <td>0</td>\n",
       "      <td>0</td>\n",
       "      <td>0</td>\n",
       "      <td>0</td>\n",
       "      <td>...</td>\n",
       "      <td>0</td>\n",
       "      <td>0</td>\n",
       "      <td>0</td>\n",
       "      <td>0</td>\n",
       "      <td>0</td>\n",
       "      <td>0</td>\n",
       "      <td>0</td>\n",
       "      <td>1</td>\n",
       "      <td>0</td>\n",
       "      <td>0</td>\n",
       "    </tr>\n",
       "  </tbody>\n",
       "</table>\n",
       "<p>30236 rows × 184 columns</p>\n",
       "</div>"
      ],
      "text/plain": [
       "       GROSS SQUARE FEET  YEAR BUILT     target  ZIP CODE_10001  \\\n",
       "0                 6794.0        1913  15.185745               0   \n",
       "1                 4226.0        1920  14.976421               0   \n",
       "2                 3360.0        1910  15.009433               0   \n",
       "3                 3586.0        1899  15.123843               0   \n",
       "4                 6330.0        1901  14.275363               0   \n",
       "...                  ...         ...        ...             ...   \n",
       "30231             2160.0        1994  13.381646               0   \n",
       "30232             2575.0        1998  13.017003               0   \n",
       "30233             2377.0        1998  13.217674               0   \n",
       "30234             1496.0        1925  13.038982               0   \n",
       "30235             2400.0        2006  11.146200               0   \n",
       "\n",
       "       ZIP CODE_10002  ZIP CODE_10003  ZIP CODE_10005  ZIP CODE_10009  \\\n",
       "0                   0               0               0               1   \n",
       "1                   0               0               0               1   \n",
       "2                   0               0               0               1   \n",
       "3                   0               0               0               1   \n",
       "4                   0               0               0               0   \n",
       "...               ...             ...             ...             ...   \n",
       "30231               0               0               0               0   \n",
       "30232               0               0               0               0   \n",
       "30233               0               0               0               0   \n",
       "30234               0               0               0               0   \n",
       "30235               0               0               0               0   \n",
       "\n",
       "       ZIP CODE_10010  ZIP CODE_10011  ...  sale_month_3  sale_month_4  \\\n",
       "0                   0               0  ...             0             0   \n",
       "1                   0               0  ...             0             0   \n",
       "2                   0               0  ...             0             0   \n",
       "3                   0               0  ...             0             0   \n",
       "4                   0               1  ...             0             0   \n",
       "...               ...             ...  ...           ...           ...   \n",
       "30231               0               0  ...             0             0   \n",
       "30232               0               0  ...             0             0   \n",
       "30233               0               0  ...             0             1   \n",
       "30234               0               0  ...             0             0   \n",
       "30235               0               0  ...             0             0   \n",
       "\n",
       "       sale_month_5  sale_month_6  sale_month_7  sale_month_8  sale_month_9  \\\n",
       "0                 0             0             0             0             1   \n",
       "1                 0             0             0             0             1   \n",
       "2                 0             0             0             0             0   \n",
       "3                 0             0             0             0             1   \n",
       "4                 0             0             0             1             0   \n",
       "...             ...           ...           ...           ...           ...   \n",
       "30231             0             0             0             0             0   \n",
       "30232             0             0             0             0             0   \n",
       "30233             0             0             0             0             0   \n",
       "30234             0             0             1             0             0   \n",
       "30235             0             0             0             0             0   \n",
       "\n",
       "       sale_month_10  sale_month_11  sale_month_12  \n",
       "0                  0              0              0  \n",
       "1                  0              0              0  \n",
       "2                  0              1              0  \n",
       "3                  0              0              0  \n",
       "4                  0              0              0  \n",
       "...              ...            ...            ...  \n",
       "30231              0              0              1  \n",
       "30232              0              1              0  \n",
       "30233              0              0              0  \n",
       "30234              0              0              0  \n",
       "30235              1              0              0  \n",
       "\n",
       "[30236 rows x 184 columns]"
      ]
     },
     "execution_count": 262,
     "metadata": {},
     "output_type": "execute_result"
    }
   ],
   "source": [
    "#turn the categorical variables into dummy variables\n",
    "pd.get_dummies(drop_first=True, data=X)"
   ]
  },
  {
   "cell_type": "code",
   "execution_count": 263,
   "metadata": {},
   "outputs": [],
   "source": [
    "#we now have 184 features!\n",
    "#now we need to split the data into the training and test sets\n",
    "rand_state=1000\n",
    "X_train, X_test, y_train, y_test = train_test_split(X, y, test_size=0.3, random_state=rand_state)"
   ]
  },
  {
   "cell_type": "code",
   "execution_count": 264,
   "metadata": {},
   "outputs": [
    {
     "data": {
      "text/plain": [
       "0.7"
      ]
     },
     "execution_count": 264,
     "metadata": {},
     "output_type": "execute_result"
    }
   ],
   "source": [
    "#check to make sure that we have 70% in the training set\n",
    "np.round(len(X_train)/len(X),3)"
   ]
  },
  {
   "cell_type": "code",
   "execution_count": 265,
   "metadata": {},
   "outputs": [],
   "source": [
    "#Train the model\n",
    "reg_model = LinearRegression()"
   ]
  },
  {
   "cell_type": "code",
   "execution_count": 266,
   "metadata": {},
   "outputs": [
    {
     "data": {
      "text/plain": [
       "LinearRegression()"
      ]
     },
     "execution_count": 266,
     "metadata": {},
     "output_type": "execute_result"
    }
   ],
   "source": [
    "reg_model.fit(X_train, y_train)"
   ]
  },
  {
   "cell_type": "code",
   "execution_count": 267,
   "metadata": {},
   "outputs": [],
   "source": [
    "y_hat_test = reg_model.predict(X_test)"
   ]
  },
  {
   "cell_type": "code",
   "execution_count": 268,
   "metadata": {},
   "outputs": [
    {
     "data": {
      "text/html": [
       "<div>\n",
       "<style scoped>\n",
       "    .dataframe tbody tr th:only-of-type {\n",
       "        vertical-align: middle;\n",
       "    }\n",
       "\n",
       "    .dataframe tbody tr th {\n",
       "        vertical-align: top;\n",
       "    }\n",
       "\n",
       "    .dataframe thead th {\n",
       "        text-align: right;\n",
       "    }\n",
       "</style>\n",
       "<table border=\"1\" class=\"dataframe\">\n",
       "  <thead>\n",
       "    <tr style=\"text-align: right;\">\n",
       "      <th></th>\n",
       "      <th>y_test</th>\n",
       "      <th>y_hat_test</th>\n",
       "      <th>resid</th>\n",
       "    </tr>\n",
       "  </thead>\n",
       "  <tbody>\n",
       "    <tr>\n",
       "      <th>3767</th>\n",
       "      <td>14.077875</td>\n",
       "      <td>14.077875</td>\n",
       "      <td>0.000000e+00</td>\n",
       "    </tr>\n",
       "    <tr>\n",
       "      <th>24270</th>\n",
       "      <td>13.199324</td>\n",
       "      <td>13.199324</td>\n",
       "      <td>3.552714e-15</td>\n",
       "    </tr>\n",
       "    <tr>\n",
       "      <th>27718</th>\n",
       "      <td>13.384728</td>\n",
       "      <td>13.384728</td>\n",
       "      <td>1.776357e-15</td>\n",
       "    </tr>\n",
       "    <tr>\n",
       "      <th>6232</th>\n",
       "      <td>12.873902</td>\n",
       "      <td>12.873902</td>\n",
       "      <td>1.776357e-15</td>\n",
       "    </tr>\n",
       "    <tr>\n",
       "      <th>11161</th>\n",
       "      <td>13.710150</td>\n",
       "      <td>13.710150</td>\n",
       "      <td>1.776357e-15</td>\n",
       "    </tr>\n",
       "  </tbody>\n",
       "</table>\n",
       "</div>"
      ],
      "text/plain": [
       "          y_test  y_hat_test         resid\n",
       "3767   14.077875   14.077875  0.000000e+00\n",
       "24270  13.199324   13.199324  3.552714e-15\n",
       "27718  13.384728   13.384728  1.776357e-15\n",
       "6232   12.873902   12.873902  1.776357e-15\n",
       "11161  13.710150   13.710150  1.776357e-15"
      ]
     },
     "execution_count": 268,
     "metadata": {},
     "output_type": "execute_result"
    }
   ],
   "source": [
    "df_predictions = pd.DataFrame({'y_test':y_test, 'y_hat_test':y_hat_test, 'resid': y_test - y_hat_test})\n",
    "df_predictions.head()"
   ]
  },
  {
   "cell_type": "code",
   "execution_count": 269,
   "metadata": {},
   "outputs": [
    {
     "data": {
      "text/plain": [
       "0.0"
      ]
     },
     "execution_count": 269,
     "metadata": {},
     "output_type": "execute_result"
    }
   ],
   "source": [
    "#Run the MSE and RMSE tests\n",
    "MSE_test = np.mean(np.square(df_predictions['resid']))\n",
    "np.round(MSE_test,3)"
   ]
  },
  {
   "cell_type": "code",
   "execution_count": 270,
   "metadata": {},
   "outputs": [
    {
     "data": {
      "text/plain": [
       "0.0"
      ]
     },
     "execution_count": 270,
     "metadata": {},
     "output_type": "execute_result"
    }
   ],
   "source": [
    "RMSE_test = np.sqrt(MSE_test)\n",
    "np.round(RMSE_test,3)"
   ]
  },
  {
   "cell_type": "code",
   "execution_count": 271,
   "metadata": {},
   "outputs": [],
   "source": [
    "from sklearn.model_selection import cross_val_score\n",
    "import sklearn.metrics\n",
    "my_estimator = LinearRegression()"
   ]
  },
  {
   "cell_type": "code",
   "execution_count": 272,
   "metadata": {},
   "outputs": [
    {
     "data": {
      "text/plain": [
       "0.0"
      ]
     },
     "execution_count": 272,
     "metadata": {},
     "output_type": "execute_result"
    }
   ],
   "source": [
    "#Run the 5 fold cross validation\n",
    "NMSE = cross_val_score(estimator=my_estimator, X=X_train, y=y_train, cv=5, scoring=\"neg_mean_squared_error\")\n",
    "MSE= -NMSE\n",
    "MSE\n",
    "RMSE = np.sqrt(MSE)\n",
    "RMSE\n",
    "RMSE_CV5 = np.mean(RMSE)\n",
    "np.round(RMSE_CV,3)"
   ]
  },
  {
   "cell_type": "code",
   "execution_count": 273,
   "metadata": {},
   "outputs": [
    {
     "data": {
      "text/plain": [
       "0.0"
      ]
     },
     "execution_count": 273,
     "metadata": {},
     "output_type": "execute_result"
    }
   ],
   "source": [
    "#Run the 10 fold cross validation\n",
    "NMSE = cross_val_score(estimator=my_estimator, X=X_train, y=y_train, cv=10, scoring=\"neg_mean_squared_error\")\n",
    "MSE= -NMSE\n",
    "MSE\n",
    "RMSE = np.sqrt(MSE)\n",
    "RMSE\n",
    "RMSE_CV10 = np.mean(RMSE)\n",
    "np.round(RMSE_CV,3)"
   ]
  },
  {
   "cell_type": "code",
   "execution_count": 274,
   "metadata": {},
   "outputs": [
    {
     "data": {
      "text/plain": [
       "1.0771800702033546e-14"
      ]
     },
     "execution_count": 274,
     "metadata": {},
     "output_type": "execute_result"
    }
   ],
   "source": [
    "RMSE_test"
   ]
  },
  {
   "cell_type": "code",
   "execution_count": 275,
   "metadata": {},
   "outputs": [
    {
     "data": {
      "text/plain": [
       "6.8246258017403295e-15"
      ]
     },
     "execution_count": 275,
     "metadata": {},
     "output_type": "execute_result"
    }
   ],
   "source": [
    "RMSE_CV5"
   ]
  },
  {
   "cell_type": "code",
   "execution_count": 276,
   "metadata": {},
   "outputs": [
    {
     "data": {
      "text/plain": [
       "6.8471758435103325e-15"
      ]
     },
     "execution_count": 276,
     "metadata": {},
     "output_type": "execute_result"
    }
   ],
   "source": [
    "RMSE_CV10"
   ]
  },
  {
   "cell_type": "code",
   "execution_count": 277,
   "metadata": {},
   "outputs": [],
   "source": [
    "#the RMSE_CV5 is the smallest, but RMSE_CV10 is not much further behind since both are so close to zero."
   ]
  }
 ],
 "metadata": {
  "kernelspec": {
   "display_name": "Python 3",
   "language": "python",
   "name": "python3"
  },
  "language_info": {
   "codemirror_mode": {
    "name": "ipython",
    "version": 3
   },
   "file_extension": ".py",
   "mimetype": "text/x-python",
   "name": "python",
   "nbconvert_exporter": "python",
   "pygments_lexer": "ipython3",
   "version": "3.8.5"
  }
 },
 "nbformat": 4,
 "nbformat_minor": 4
}
