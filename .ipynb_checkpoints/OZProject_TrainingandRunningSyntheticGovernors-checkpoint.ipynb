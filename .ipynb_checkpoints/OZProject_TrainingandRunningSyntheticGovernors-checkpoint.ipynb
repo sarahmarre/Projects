{
 "cells": [
  {
   "cell_type": "markdown",
   "metadata": {},
   "source": [
    "## **<font color='pink'>Opportunity Zones Project - Running Synthetic Models against All Data</font>**"
   ]
  },
  {
   "cell_type": "code",
   "execution_count": 1,
   "metadata": {},
   "outputs": [],
   "source": [
    "import numpy as np\n",
    "import pandas as pd\n",
    "import matplotlib.pyplot as plt\n",
    "from sklearn.linear_model import LogisticRegression\n",
    "from sklearn.ensemble import RandomForestClassifier\n",
    "from sklearn.ensemble import AdaBoostClassifier, GradientBoostingClassifier\n",
    "from xgboost import XGBClassifier\n",
    "from sklearn.metrics import accuracy_score, recall_score, precision_score, f1_score\n",
    "from sklearn.metrics import confusion_matrix, classification_report, roc_curve, roc_auc_score\n",
    "from sklearn.preprocessing import StandardScaler\n",
    "from sklearn.svm import SVC\n",
    "import seaborn as sns\n",
    "sns.set()  #if you want to use seaborn themes with matplotlib functions\n",
    "import warnings\n",
    "warnings.filterwarnings('ignore')\n",
    "rand_state = 1000"
   ]
  },
  {
   "cell_type": "code",
   "execution_count": 2,
   "metadata": {},
   "outputs": [
    {
     "data": {
      "text/plain": [
       "(29754, 82)"
      ]
     },
     "execution_count": 2,
     "metadata": {},
     "output_type": "execute_result"
    }
   ],
   "source": [
    "df = pd.read_csv('thesis_clean.csv')\n",
    "df.shape"
   ]
  },
  {
   "cell_type": "code",
   "execution_count": 3,
   "metadata": {},
   "outputs": [
    {
     "data": {
      "text/html": [
       "<div>\n",
       "<style scoped>\n",
       "    .dataframe tbody tr th:only-of-type {\n",
       "        vertical-align: middle;\n",
       "    }\n",
       "\n",
       "    .dataframe tbody tr th {\n",
       "        vertical-align: top;\n",
       "    }\n",
       "\n",
       "    .dataframe thead th {\n",
       "        text-align: right;\n",
       "    }\n",
       "</style>\n",
       "<table border=\"1\" class=\"dataframe\">\n",
       "  <thead>\n",
       "    <tr style=\"text-align: right;\">\n",
       "      <th></th>\n",
       "      <th>DesignatedOZ</th>\n",
       "      <th>Type</th>\n",
       "      <th>SE_Flag</th>\n",
       "      <th>Population</th>\n",
       "      <th>medhhincome</th>\n",
       "      <th>PovertyRate</th>\n",
       "      <th>unemprate</th>\n",
       "      <th>medvalue</th>\n",
       "      <th>medrent</th>\n",
       "      <th>pctown</th>\n",
       "      <th>...</th>\n",
       "      <th>state_49.0</th>\n",
       "      <th>dec_score_2.0</th>\n",
       "      <th>dec_score_3.0</th>\n",
       "      <th>dec_score_4.0</th>\n",
       "      <th>dec_score_5.0</th>\n",
       "      <th>dec_score_6.0</th>\n",
       "      <th>dec_score_7.0</th>\n",
       "      <th>dec_score_8.0</th>\n",
       "      <th>dec_score_9.0</th>\n",
       "      <th>dec_score_10.0</th>\n",
       "    </tr>\n",
       "  </thead>\n",
       "  <tbody>\n",
       "    <tr>\n",
       "      <th>0</th>\n",
       "      <td>1</td>\n",
       "      <td>0</td>\n",
       "      <td>0</td>\n",
       "      <td>29256</td>\n",
       "      <td>45770</td>\n",
       "      <td>0.07</td>\n",
       "      <td>0.09</td>\n",
       "      <td>24900</td>\n",
       "      <td>937</td>\n",
       "      <td>0.41</td>\n",
       "      <td>...</td>\n",
       "      <td>0</td>\n",
       "      <td>1</td>\n",
       "      <td>0</td>\n",
       "      <td>0</td>\n",
       "      <td>0</td>\n",
       "      <td>0</td>\n",
       "      <td>0</td>\n",
       "      <td>0</td>\n",
       "      <td>0</td>\n",
       "      <td>0</td>\n",
       "    </tr>\n",
       "    <tr>\n",
       "      <th>1</th>\n",
       "      <td>1</td>\n",
       "      <td>0</td>\n",
       "      <td>0</td>\n",
       "      <td>22748</td>\n",
       "      <td>80068</td>\n",
       "      <td>0.21</td>\n",
       "      <td>0.05</td>\n",
       "      <td>272800</td>\n",
       "      <td>1083</td>\n",
       "      <td>0.74</td>\n",
       "      <td>...</td>\n",
       "      <td>0</td>\n",
       "      <td>0</td>\n",
       "      <td>0</td>\n",
       "      <td>0</td>\n",
       "      <td>0</td>\n",
       "      <td>0</td>\n",
       "      <td>0</td>\n",
       "      <td>0</td>\n",
       "      <td>1</td>\n",
       "      <td>0</td>\n",
       "    </tr>\n",
       "    <tr>\n",
       "      <th>2</th>\n",
       "      <td>0</td>\n",
       "      <td>0</td>\n",
       "      <td>0</td>\n",
       "      <td>20092</td>\n",
       "      <td>49930</td>\n",
       "      <td>0.17</td>\n",
       "      <td>0.12</td>\n",
       "      <td>125100</td>\n",
       "      <td>993</td>\n",
       "      <td>0.55</td>\n",
       "      <td>...</td>\n",
       "      <td>0</td>\n",
       "      <td>0</td>\n",
       "      <td>1</td>\n",
       "      <td>0</td>\n",
       "      <td>0</td>\n",
       "      <td>0</td>\n",
       "      <td>0</td>\n",
       "      <td>0</td>\n",
       "      <td>0</td>\n",
       "      <td>0</td>\n",
       "    </tr>\n",
       "    <tr>\n",
       "      <th>3</th>\n",
       "      <td>1</td>\n",
       "      <td>0</td>\n",
       "      <td>0</td>\n",
       "      <td>19834</td>\n",
       "      <td>36756</td>\n",
       "      <td>0.24</td>\n",
       "      <td>0.15</td>\n",
       "      <td>115600</td>\n",
       "      <td>1118</td>\n",
       "      <td>0.55</td>\n",
       "      <td>...</td>\n",
       "      <td>0</td>\n",
       "      <td>0</td>\n",
       "      <td>0</td>\n",
       "      <td>0</td>\n",
       "      <td>0</td>\n",
       "      <td>0</td>\n",
       "      <td>0</td>\n",
       "      <td>0</td>\n",
       "      <td>0</td>\n",
       "      <td>0</td>\n",
       "    </tr>\n",
       "    <tr>\n",
       "      <th>4</th>\n",
       "      <td>1</td>\n",
       "      <td>0</td>\n",
       "      <td>0</td>\n",
       "      <td>19187</td>\n",
       "      <td>43750</td>\n",
       "      <td>0.17</td>\n",
       "      <td>0.06</td>\n",
       "      <td>150600</td>\n",
       "      <td>1079</td>\n",
       "      <td>0.48</td>\n",
       "      <td>...</td>\n",
       "      <td>0</td>\n",
       "      <td>0</td>\n",
       "      <td>0</td>\n",
       "      <td>0</td>\n",
       "      <td>0</td>\n",
       "      <td>0</td>\n",
       "      <td>1</td>\n",
       "      <td>0</td>\n",
       "      <td>0</td>\n",
       "      <td>0</td>\n",
       "    </tr>\n",
       "  </tbody>\n",
       "</table>\n",
       "<p>5 rows × 82 columns</p>\n",
       "</div>"
      ],
      "text/plain": [
       "   DesignatedOZ  Type  SE_Flag  Population   medhhincome  PovertyRate  \\\n",
       "0             1     0        0        29256        45770         0.07   \n",
       "1             1     0        0        22748        80068         0.21   \n",
       "2             0     0        0        20092        49930         0.17   \n",
       "3             1     0        0        19834        36756         0.24   \n",
       "4             1     0        0        19187        43750         0.17   \n",
       "\n",
       "   unemprate  medvalue  medrent  pctown  ...  state_49.0  dec_score_2.0  \\\n",
       "0       0.09     24900      937    0.41  ...           0              1   \n",
       "1       0.05    272800     1083    0.74  ...           0              0   \n",
       "2       0.12    125100      993    0.55  ...           0              0   \n",
       "3       0.15    115600     1118    0.55  ...           0              0   \n",
       "4       0.06    150600     1079    0.48  ...           0              0   \n",
       "\n",
       "   dec_score_3.0  dec_score_4.0  dec_score_5.0  dec_score_6.0  dec_score_7.0  \\\n",
       "0              0              0              0              0              0   \n",
       "1              0              0              0              0              0   \n",
       "2              1              0              0              0              0   \n",
       "3              0              0              0              0              0   \n",
       "4              0              0              0              0              1   \n",
       "\n",
       "   dec_score_8.0  dec_score_9.0  dec_score_10.0  \n",
       "0              0              0               0  \n",
       "1              0              1               0  \n",
       "2              0              0               0  \n",
       "3              0              0               0  \n",
       "4              0              0               0  \n",
       "\n",
       "[5 rows x 82 columns]"
      ]
     },
     "execution_count": 3,
     "metadata": {},
     "output_type": "execute_result"
    }
   ],
   "source": [
    "df.head()"
   ]
  },
  {
   "cell_type": "code",
   "execution_count": 4,
   "metadata": {},
   "outputs": [
    {
     "data": {
      "text/html": [
       "<div>\n",
       "<style scoped>\n",
       "    .dataframe tbody tr th:only-of-type {\n",
       "        vertical-align: middle;\n",
       "    }\n",
       "\n",
       "    .dataframe tbody tr th {\n",
       "        vertical-align: top;\n",
       "    }\n",
       "\n",
       "    .dataframe thead th {\n",
       "        text-align: right;\n",
       "    }\n",
       "</style>\n",
       "<table border=\"1\" class=\"dataframe\">\n",
       "  <thead>\n",
       "    <tr style=\"text-align: right;\">\n",
       "      <th>DesignatedOZ</th>\n",
       "      <th>0</th>\n",
       "      <th>1</th>\n",
       "    </tr>\n",
       "    <tr>\n",
       "      <th>DesignatedOZ</th>\n",
       "      <th></th>\n",
       "      <th></th>\n",
       "    </tr>\n",
       "  </thead>\n",
       "  <tbody>\n",
       "    <tr>\n",
       "      <th>0</th>\n",
       "      <td>75.502453</td>\n",
       "      <td>0.000000</td>\n",
       "    </tr>\n",
       "    <tr>\n",
       "      <th>1</th>\n",
       "      <td>0.000000</td>\n",
       "      <td>24.497547</td>\n",
       "    </tr>\n",
       "  </tbody>\n",
       "</table>\n",
       "</div>"
      ],
      "text/plain": [
       "DesignatedOZ          0          1\n",
       "DesignatedOZ                      \n",
       "0             75.502453   0.000000\n",
       "1              0.000000  24.497547"
      ]
     },
     "execution_count": 4,
     "metadata": {},
     "output_type": "execute_result"
    }
   ],
   "source": [
    "pd.crosstab(df['DesignatedOZ'],df['DesignatedOZ'], normalize='all')*100"
   ]
  },
  {
   "cell_type": "markdown",
   "metadata": {},
   "source": [
    "After cleaning the data, it looks like almost 25% of the eligible tracts were designated as opportunity zones. In terms of training the models, this is a relatively balanced split between designated and non-designated."
   ]
  },
  {
   "cell_type": "markdown",
   "metadata": {},
   "source": [
    "## **<font color='pink'>Training the Republican Model</font>**"
   ]
  },
  {
   "cell_type": "markdown",
   "metadata": {},
   "source": [
    "Before training the model, we'll split the data into training and test."
   ]
  },
  {
   "cell_type": "code",
   "execution_count": 5,
   "metadata": {},
   "outputs": [],
   "source": [
    "df_repub = df.query('repubstate ==\"1\"')"
   ]
  },
  {
   "cell_type": "code",
   "execution_count": 6,
   "metadata": {},
   "outputs": [
    {
     "data": {
      "text/plain": [
       "(17809, 82)"
      ]
     },
     "execution_count": 6,
     "metadata": {},
     "output_type": "execute_result"
    }
   ],
   "source": [
    "df_repub.shape"
   ]
  },
  {
   "cell_type": "code",
   "execution_count": 7,
   "metadata": {},
   "outputs": [],
   "source": [
    "y_repub = df_repub['DesignatedOZ']\n",
    "X_repub = df_repub.drop(['DesignatedOZ'], axis=1) # becareful inplace= False\n",
    "\n",
    "from sklearn.model_selection import train_test_split\n",
    "X_repub_train, X_repub_test, y_repub_train, y_repub_test = train_test_split(X_repub, y_repub, test_size=0.3, random_state=rand_state)"
   ]
  },
  {
   "cell_type": "code",
   "execution_count": 9,
   "metadata": {},
   "outputs": [
    {
     "data": {
      "text/plain": [
       "(5343, 81)"
      ]
     },
     "execution_count": 9,
     "metadata": {},
     "output_type": "execute_result"
    }
   ],
   "source": [
    "X_repub_test.shape"
   ]
  },
  {
   "cell_type": "code",
   "execution_count": 10,
   "metadata": {},
   "outputs": [
    {
     "data": {
      "text/html": [
       "<div>\n",
       "<style scoped>\n",
       "    .dataframe tbody tr th:only-of-type {\n",
       "        vertical-align: middle;\n",
       "    }\n",
       "\n",
       "    .dataframe tbody tr th {\n",
       "        vertical-align: top;\n",
       "    }\n",
       "\n",
       "    .dataframe thead th {\n",
       "        text-align: right;\n",
       "    }\n",
       "</style>\n",
       "<table border=\"1\" class=\"dataframe\">\n",
       "  <thead>\n",
       "    <tr style=\"text-align: right;\">\n",
       "      <th>DesignatedOZ</th>\n",
       "      <th>0</th>\n",
       "      <th>1</th>\n",
       "    </tr>\n",
       "    <tr>\n",
       "      <th>DesignatedOZ</th>\n",
       "      <th></th>\n",
       "      <th></th>\n",
       "    </tr>\n",
       "  </thead>\n",
       "  <tbody>\n",
       "    <tr>\n",
       "      <th>0</th>\n",
       "      <td>75.400079</td>\n",
       "      <td>0.000000</td>\n",
       "    </tr>\n",
       "    <tr>\n",
       "      <th>1</th>\n",
       "      <td>0.000000</td>\n",
       "      <td>24.599921</td>\n",
       "    </tr>\n",
       "  </tbody>\n",
       "</table>\n",
       "</div>"
      ],
      "text/plain": [
       "DesignatedOZ          0          1\n",
       "DesignatedOZ                      \n",
       "0             75.400079   0.000000\n",
       "1              0.000000  24.599921"
      ]
     },
     "execution_count": 10,
     "metadata": {},
     "output_type": "execute_result"
    }
   ],
   "source": [
    "pd.crosstab(df_repub['DesignatedOZ'],df['DesignatedOZ'], normalize='all')*100"
   ]
  },
  {
   "cell_type": "markdown",
   "metadata": {},
   "source": [
    "Training/fitting the republican model:"
   ]
  },
  {
   "cell_type": "code",
   "execution_count": 11,
   "metadata": {},
   "outputs": [
    {
     "name": "stdout",
     "output_type": "stream",
     "text": [
      "[09:07:20] WARNING: C:/Users/Administrator/workspace/xgboost-win64_release_1.4.0/src/learner.cc:1095: Starting in XGBoost 1.3.0, the default evaluation metric used with the objective 'binary:logistic' was changed from 'error' to 'logloss'. Explicitly set eval_metric if you'd like to restore the old behavior.\n",
      "Wall time: 4.02 s\n"
     ]
    },
    {
     "data": {
      "text/plain": [
       "XGBClassifier(base_score=0.5, booster='gbtree', colsample_bylevel=1,\n",
       "              colsample_bynode=1, colsample_bytree=1, gamma=0, gpu_id=-1,\n",
       "              importance_type='gain', interaction_constraints='',\n",
       "              learning_rate=0.300000012, max_delta_step=0, max_depth=6,\n",
       "              min_child_weight=1, missing=nan, monotone_constraints='()',\n",
       "              n_estimators=100, n_jobs=4, num_parallel_tree=1,\n",
       "              random_state=1000, reg_alpha=0, reg_lambda=1, scale_pos_weight=1,\n",
       "              subsample=1, tree_method='exact', validate_parameters=1,\n",
       "              verbosity=None)"
      ]
     },
     "execution_count": 11,
     "metadata": {},
     "output_type": "execute_result"
    }
   ],
   "source": [
    "%%time\n",
    "# Fitting XGBoost classifier to the Training set\n",
    "XGB_classifier_repub = XGBClassifier(random_state=rand_state, use_label_encoder=True)\n",
    "XGB_classifier_repub.fit(X_repub_train, y_repub_train)"
   ]
  },
  {
   "cell_type": "markdown",
   "metadata": {},
   "source": [
    "Predicting the values of Y in the test data."
   ]
  },
  {
   "cell_type": "code",
   "execution_count": 12,
   "metadata": {},
   "outputs": [],
   "source": [
    "# Predicting the Test set probabilities and classes\n",
    "repub_y_hat_XGB = XGB_classifier_repub.predict(X_repub_test)"
   ]
  },
  {
   "cell_type": "markdown",
   "metadata": {},
   "source": [
    "Looking at those predictions against the true Y values in the test set to get our accuracy:"
   ]
  },
  {
   "cell_type": "code",
   "execution_count": 13,
   "metadata": {},
   "outputs": [
    {
     "data": {
      "text/plain": [
       "0.7672"
      ]
     },
     "execution_count": 13,
     "metadata": {},
     "output_type": "execute_result"
    }
   ],
   "source": [
    "np.round(XGB_classifier_repub.score(X_repub_test, y_repub_test),4)"
   ]
  },
  {
   "cell_type": "code",
   "execution_count": 14,
   "metadata": {},
   "outputs": [
    {
     "name": "stdout",
     "output_type": "stream",
     "text": [
      "XGB f1 = 0.3627049180327868\n"
     ]
    }
   ],
   "source": [
    "print('XGB f1 = {}'.format(f1_score(y_repub_test, repub_y_hat_XGB)))"
   ]
  },
  {
   "cell_type": "code",
   "execution_count": 15,
   "metadata": {},
   "outputs": [
    {
     "data": {
      "text/plain": [
       "array([[3745,  288],\n",
       "       [ 956,  354]], dtype=int64)"
      ]
     },
     "execution_count": 15,
     "metadata": {},
     "output_type": "execute_result"
    }
   ],
   "source": [
    "confusion_matrix(y_repub_test, repub_y_hat_XGB)"
   ]
  },
  {
   "cell_type": "code",
   "execution_count": 16,
   "metadata": {},
   "outputs": [],
   "source": [
    "#Getting the probability predictions:"
   ]
  },
  {
   "cell_type": "code",
   "execution_count": 17,
   "metadata": {},
   "outputs": [],
   "source": [
    "repub_y_hat_XGB_proba = XGB_classifier_repub.predict_proba(X_repub_test)"
   ]
  },
  {
   "cell_type": "code",
   "execution_count": 18,
   "metadata": {},
   "outputs": [
    {
     "name": "stdout",
     "output_type": "stream",
     "text": [
      "[[0.95535177 0.04464824]\n",
      " [0.46407247 0.53592753]\n",
      " [0.58513683 0.41486317]\n",
      " ...\n",
      " [0.96917063 0.03082938]\n",
      " [0.76228994 0.23771006]\n",
      " [0.8968053  0.10319471]]\n"
     ]
    }
   ],
   "source": [
    "print(repub_y_hat_XGB_proba)"
   ]
  },
  {
   "cell_type": "code",
   "execution_count": 19,
   "metadata": {},
   "outputs": [],
   "source": [
    "df_repub_test = pd.DataFrame(X_repub_test).copy()\n",
    "df_repub_test['Designated_OZ'] = y_repub_test\n",
    "df_repub_test['prob_0'] = repub_y_hat_XGB_proba[:,0] \n",
    "df_repub_test['prob_1'] = repub_y_hat_XGB_proba[:,1]\n",
    "df_repub_test['Model_Designated_OZ'] = repub_y_hat_XGB"
   ]
  },
  {
   "cell_type": "code",
   "execution_count": 20,
   "metadata": {},
   "outputs": [
    {
     "data": {
      "text/plain": [
       "(5343, 85)"
      ]
     },
     "execution_count": 20,
     "metadata": {},
     "output_type": "execute_result"
    }
   ],
   "source": [
    "df_repub_test.shape"
   ]
  },
  {
   "cell_type": "code",
   "execution_count": 21,
   "metadata": {},
   "outputs": [
    {
     "data": {
      "text/html": [
       "<div>\n",
       "<style scoped>\n",
       "    .dataframe tbody tr th:only-of-type {\n",
       "        vertical-align: middle;\n",
       "    }\n",
       "\n",
       "    .dataframe tbody tr th {\n",
       "        vertical-align: top;\n",
       "    }\n",
       "\n",
       "    .dataframe thead th {\n",
       "        text-align: right;\n",
       "    }\n",
       "</style>\n",
       "<table border=\"1\" class=\"dataframe\">\n",
       "  <thead>\n",
       "    <tr style=\"text-align: right;\">\n",
       "      <th></th>\n",
       "      <th>Type</th>\n",
       "      <th>SE_Flag</th>\n",
       "      <th>Population</th>\n",
       "      <th>medhhincome</th>\n",
       "      <th>PovertyRate</th>\n",
       "      <th>unemprate</th>\n",
       "      <th>medvalue</th>\n",
       "      <th>medrent</th>\n",
       "      <th>pctown</th>\n",
       "      <th>severerentburden</th>\n",
       "      <th>...</th>\n",
       "      <th>dec_score_5.0</th>\n",
       "      <th>dec_score_6.0</th>\n",
       "      <th>dec_score_7.0</th>\n",
       "      <th>dec_score_8.0</th>\n",
       "      <th>dec_score_9.0</th>\n",
       "      <th>dec_score_10.0</th>\n",
       "      <th>Designated_OZ</th>\n",
       "      <th>prob_0</th>\n",
       "      <th>prob_1</th>\n",
       "      <th>Model_Designated_OZ</th>\n",
       "    </tr>\n",
       "  </thead>\n",
       "  <tbody>\n",
       "    <tr>\n",
       "      <th>25814</th>\n",
       "      <td>0</td>\n",
       "      <td>0</td>\n",
       "      <td>2140</td>\n",
       "      <td>41042</td>\n",
       "      <td>0.10</td>\n",
       "      <td>0.11</td>\n",
       "      <td>81900</td>\n",
       "      <td>809</td>\n",
       "      <td>0.90</td>\n",
       "      <td>0.41</td>\n",
       "      <td>...</td>\n",
       "      <td>0</td>\n",
       "      <td>0</td>\n",
       "      <td>0</td>\n",
       "      <td>0</td>\n",
       "      <td>0</td>\n",
       "      <td>0</td>\n",
       "      <td>0</td>\n",
       "      <td>0.955352</td>\n",
       "      <td>0.044648</td>\n",
       "      <td>0</td>\n",
       "    </tr>\n",
       "    <tr>\n",
       "      <th>29149</th>\n",
       "      <td>0</td>\n",
       "      <td>0</td>\n",
       "      <td>1237</td>\n",
       "      <td>15750</td>\n",
       "      <td>0.65</td>\n",
       "      <td>0.14</td>\n",
       "      <td>94500</td>\n",
       "      <td>833</td>\n",
       "      <td>0.20</td>\n",
       "      <td>0.39</td>\n",
       "      <td>...</td>\n",
       "      <td>0</td>\n",
       "      <td>0</td>\n",
       "      <td>0</td>\n",
       "      <td>0</td>\n",
       "      <td>0</td>\n",
       "      <td>0</td>\n",
       "      <td>0</td>\n",
       "      <td>0.464072</td>\n",
       "      <td>0.535928</td>\n",
       "      <td>1</td>\n",
       "    </tr>\n",
       "    <tr>\n",
       "      <th>27267</th>\n",
       "      <td>0</td>\n",
       "      <td>0</td>\n",
       "      <td>1823</td>\n",
       "      <td>17425</td>\n",
       "      <td>0.45</td>\n",
       "      <td>0.18</td>\n",
       "      <td>78100</td>\n",
       "      <td>853</td>\n",
       "      <td>0.44</td>\n",
       "      <td>0.44</td>\n",
       "      <td>...</td>\n",
       "      <td>0</td>\n",
       "      <td>1</td>\n",
       "      <td>0</td>\n",
       "      <td>0</td>\n",
       "      <td>0</td>\n",
       "      <td>0</td>\n",
       "      <td>1</td>\n",
       "      <td>0.585137</td>\n",
       "      <td>0.414863</td>\n",
       "      <td>0</td>\n",
       "    </tr>\n",
       "    <tr>\n",
       "      <th>7883</th>\n",
       "      <td>0</td>\n",
       "      <td>0</td>\n",
       "      <td>5043</td>\n",
       "      <td>30670</td>\n",
       "      <td>0.64</td>\n",
       "      <td>0.16</td>\n",
       "      <td>139100</td>\n",
       "      <td>715</td>\n",
       "      <td>0.18</td>\n",
       "      <td>0.52</td>\n",
       "      <td>...</td>\n",
       "      <td>0</td>\n",
       "      <td>0</td>\n",
       "      <td>1</td>\n",
       "      <td>0</td>\n",
       "      <td>0</td>\n",
       "      <td>0</td>\n",
       "      <td>0</td>\n",
       "      <td>0.748705</td>\n",
       "      <td>0.251295</td>\n",
       "      <td>0</td>\n",
       "    </tr>\n",
       "    <tr>\n",
       "      <th>1320</th>\n",
       "      <td>0</td>\n",
       "      <td>0</td>\n",
       "      <td>7520</td>\n",
       "      <td>31408</td>\n",
       "      <td>0.37</td>\n",
       "      <td>0.10</td>\n",
       "      <td>75600</td>\n",
       "      <td>618</td>\n",
       "      <td>0.53</td>\n",
       "      <td>0.18</td>\n",
       "      <td>...</td>\n",
       "      <td>0</td>\n",
       "      <td>0</td>\n",
       "      <td>0</td>\n",
       "      <td>0</td>\n",
       "      <td>0</td>\n",
       "      <td>0</td>\n",
       "      <td>1</td>\n",
       "      <td>0.387674</td>\n",
       "      <td>0.612326</td>\n",
       "      <td>1</td>\n",
       "    </tr>\n",
       "  </tbody>\n",
       "</table>\n",
       "<p>5 rows × 85 columns</p>\n",
       "</div>"
      ],
      "text/plain": [
       "       Type  SE_Flag  Population   medhhincome  PovertyRate  unemprate  \\\n",
       "25814     0        0         2140        41042         0.10       0.11   \n",
       "29149     0        0         1237        15750         0.65       0.14   \n",
       "27267     0        0         1823        17425         0.45       0.18   \n",
       "7883      0        0         5043        30670         0.64       0.16   \n",
       "1320      0        0         7520        31408         0.37       0.10   \n",
       "\n",
       "       medvalue  medrent  pctown  severerentburden  ...  dec_score_5.0  \\\n",
       "25814     81900      809    0.90              0.41  ...              0   \n",
       "29149     94500      833    0.20              0.39  ...              0   \n",
       "27267     78100      853    0.44              0.44  ...              0   \n",
       "7883     139100      715    0.18              0.52  ...              0   \n",
       "1320      75600      618    0.53              0.18  ...              0   \n",
       "\n",
       "       dec_score_6.0  dec_score_7.0  dec_score_8.0  dec_score_9.0  \\\n",
       "25814              0              0              0              0   \n",
       "29149              0              0              0              0   \n",
       "27267              1              0              0              0   \n",
       "7883               0              1              0              0   \n",
       "1320               0              0              0              0   \n",
       "\n",
       "       dec_score_10.0  Designated_OZ    prob_0    prob_1  Model_Designated_OZ  \n",
       "25814               0              0  0.955352  0.044648                    0  \n",
       "29149               0              0  0.464072  0.535928                    1  \n",
       "27267               0              1  0.585137  0.414863                    0  \n",
       "7883                0              0  0.748705  0.251295                    0  \n",
       "1320                0              1  0.387674  0.612326                    1  \n",
       "\n",
       "[5 rows x 85 columns]"
      ]
     },
     "execution_count": 21,
     "metadata": {},
     "output_type": "execute_result"
    }
   ],
   "source": [
    "df_repub_test.head()"
   ]
  },
  {
   "cell_type": "code",
   "execution_count": 22,
   "metadata": {},
   "outputs": [],
   "source": [
    "df_repub_test.to_csv('Repub_Model_Test.csv')"
   ]
  },
  {
   "cell_type": "markdown",
   "metadata": {},
   "source": [
    "Let's take a look at the feature importance in the republican model."
   ]
  },
  {
   "cell_type": "code",
   "execution_count": 23,
   "metadata": {},
   "outputs": [],
   "source": [
    "import shap"
   ]
  },
  {
   "cell_type": "code",
   "execution_count": 24,
   "metadata": {},
   "outputs": [],
   "source": [
    "from xgboost import XGBClassifier, plot_importance"
   ]
  },
  {
   "cell_type": "code",
   "execution_count": 25,
   "metadata": {},
   "outputs": [],
   "source": [
    "sorted_idx = np.argsort(XGB_classifier_repub.feature_importances_)[::-1]"
   ]
  },
  {
   "cell_type": "code",
   "execution_count": 26,
   "metadata": {},
   "outputs": [
    {
     "name": "stdout",
     "output_type": "stream",
     "text": [
      "['state_8.0', 0.05575779]\n",
      "['Metro', 0.04583134]\n",
      "['state_42.0', 0.040626608]\n",
      "['state_9.0', 0.04019352]\n",
      "['state_12.0', 0.033720896]\n",
      "['state_23.0', 0.02150247]\n",
      "['dec_score_2.0', 0.021305693]\n",
      "['unemprate', 0.019954138]\n",
      "['state_24.0', 0.019946387]\n",
      "['pctown', 0.019907841]\n",
      "['state_30.0', 0.019563098]\n",
      "['medhhincome', 0.019208064]\n",
      "['dec_score_7.0', 0.017451633]\n",
      "['state_49.0', 0.017375603]\n",
      "['state_3.0', 0.016922152]\n",
      "['PovertyRate', 0.016870845]\n",
      "['dec_score_9.0', 0.016840022]\n",
      "['state_21.0', 0.01668859]\n",
      "['state_34.0', 0.016279168]\n",
      "['state_19.0', 0.015798168]\n",
      "['dec_score_5.0', 0.015507742]\n",
      "['dec_score_4.0', 0.015240388]\n",
      "['dec_score_8.0', 0.015198496]\n",
      "['state_16.0', 0.015105434]\n",
      "['state_33.0', 0.014910553]\n",
      "['pctwhite', 0.014897687]\n",
      "['vacancyrate', 0.0146820415]\n",
      "['pctAAPIalone', 0.014628904]\n",
      "['pctBlack', 0.0145737585]\n",
      "['pctHispanic', 0.014554235]\n",
      "['state_39.0', 0.0142137855]\n",
      "['Population ', 0.014118142]\n",
      "['state_40.0', 0.013891562]\n",
      "['pctunder18', 0.013871267]\n",
      "['BAorhigher', 0.013823506]\n",
      "['state_13.0', 0.01374755]\n",
      "['pctover64', 0.01360938]\n",
      "['medrent', 0.013532256]\n",
      "['state_2.0', 0.013515275]\n",
      "['state_47.0', 0.013319557]\n",
      "['state_14.0', 0.013310436]\n",
      "['dec_score_10.0', 0.012969809]\n",
      "['severerentburden', 0.012952225]\n",
      "['Micro', 0.012781362]\n",
      "['medvalue', 0.012514412]\n",
      "['HSorlower', 0.012487265]\n",
      "['dec_score_3.0', 0.0124852015]\n",
      "['state_20.0', 0.012395335]\n",
      "['state_43.0', 0.012389201]\n",
      "['NoCBSAType', 0.011943387]\n",
      "['dec_score_6.0', 0.011811916]\n",
      "['state_18.0', 0.011495477]\n",
      "['state_41.0', 0.011420818]\n",
      "['state_28.0', 0.011163071]\n",
      "['state_27.0', 0.011114751]\n",
      "['SE_Flag', 0.01108361]\n",
      "['state_44.0', 0.011073915]\n",
      "['state_15.0', 0.008697401]\n",
      "['state_35.0', 0.007224834]\n",
      "['state_31.0', 0.0]\n",
      "['state_48.0', 0.0]\n",
      "['state_46.0', 0.0]\n",
      "['state_45.0', 0.0]\n",
      "['state_38.0', 0.0]\n",
      "['state_37.0', 0.0]\n",
      "['state_36.0', 0.0]\n",
      "['state_32.0', 0.0]\n",
      "['state_6.0', 0.0]\n",
      "['state_29.0', 0.0]\n",
      "['state_5.0', 0.0]\n",
      "['state_26.0', 0.0]\n",
      "['state_25.0', 0.0]\n",
      "['state_22.0', 0.0]\n",
      "['state_17.0', 0.0]\n",
      "['state_11.0', 0.0]\n",
      "['repubstate', 0.0]\n",
      "['state_1.0', 0.0]\n",
      "['state_10.0', 0.0]\n",
      "['state_7.0', 0.0]\n",
      "['state_4.0', 0.0]\n",
      "['Type', 0.0]\n"
     ]
    }
   ],
   "source": [
    "for index in sorted_idx:\n",
    "    print([X_repub_train.columns[index], XGB_classifier_repub.feature_importances_[index]]) "
   ]
  },
  {
   "cell_type": "code",
   "execution_count": 27,
   "metadata": {},
   "outputs": [
    {
     "data": {
      "image/png": "[encoded data removed]",
      "text/plain": [
       "<Figure size 432x288 with 1 Axes>"
      ]
     },
     "metadata": {},
     "output_type": "display_data"
    }
   ],
   "source": [
    "plot_importance(XGB_classifier_repub, max_num_features = 10, title='Feature Importance - Republican Model')\n",
    "plt.show()"
   ]
  },
  {
   "cell_type": "markdown",
   "metadata": {},
   "source": [
    "It looks like the republican model is focusing primarily on population, medvalue, medhhincome, and medrent when making predictions."
   ]
  },
  {
   "cell_type": "markdown",
   "metadata": {},
   "source": [
    "## **<font color='pink'>Synthetic Republicans: Running the Republican Model on Democrat State's Data</font>**"
   ]
  },
  {
   "cell_type": "code",
   "execution_count": 28,
   "metadata": {},
   "outputs": [],
   "source": [
    "df_dem = df.query('repubstate ==\"0\"')"
   ]
  },
  {
   "cell_type": "code",
   "execution_count": 29,
   "metadata": {},
   "outputs": [
    {
     "data": {
      "text/plain": [
       "(11945, 82)"
      ]
     },
     "execution_count": 29,
     "metadata": {},
     "output_type": "execute_result"
    }
   ],
   "source": [
    "df_dem.shape"
   ]
  },
  {
   "cell_type": "code",
   "execution_count": 30,
   "metadata": {},
   "outputs": [],
   "source": [
    "y_dem = df_dem['DesignatedOZ']\n",
    "X_dem = df_dem.drop(['DesignatedOZ'], axis=1) # becareful inplace= False\n",
    "\n",
    "from sklearn.model_selection import train_test_split\n",
    "X_dem_train, X_dem_test, y_dem_train, y_dem_test = train_test_split(X_dem, y_dem, test_size=0.3, random_state=rand_state)"
   ]
  },
  {
   "cell_type": "code",
   "execution_count": 31,
   "metadata": {},
   "outputs": [],
   "source": [
    "synthrepub_y_hat_XGB = XGB_classifier_repub.predict(X_dem)"
   ]
  },
  {
   "cell_type": "code",
   "execution_count": 33,
   "metadata": {},
   "outputs": [
    {
     "data": {
      "text/plain": [
       "0.7518"
      ]
     },
     "execution_count": 33,
     "metadata": {},
     "output_type": "execute_result"
    }
   ],
   "source": [
    "np.round(XGB_classifier_repub.score(X_dem, y_dem),4)"
   ]
  },
  {
   "cell_type": "code",
   "execution_count": 35,
   "metadata": {},
   "outputs": [
    {
     "name": "stdout",
     "output_type": "stream",
     "text": [
      "XGB f1 = 0.19451236077152947\n"
     ]
    }
   ],
   "source": [
    "print('XGB f1 = {}'.format(f1_score(y_dem, synthrepub_y_hat_XGB)))"
   ]
  },
  {
   "cell_type": "code",
   "execution_count": 36,
   "metadata": {},
   "outputs": [],
   "source": [
    "#Getting the probability predictions:"
   ]
  },
  {
   "cell_type": "code",
   "execution_count": 38,
   "metadata": {},
   "outputs": [],
   "source": [
    "synth_repubXGB_proba = XGB_classifier_repub.predict_proba(X_dem)"
   ]
  },
  {
   "cell_type": "code",
   "execution_count": 39,
   "metadata": {},
   "outputs": [
    {
     "name": "stdout",
     "output_type": "stream",
     "text": [
      "[[0.7267715  0.27322856]\n",
      " [0.89819896 0.10180106]\n",
      " [0.61201364 0.38798636]\n",
      " ...\n",
      " [0.93362534 0.06637468]\n",
      " [0.56794524 0.4320548 ]\n",
      " [0.5285083  0.47149166]]\n"
     ]
    }
   ],
   "source": [
    "print(synth_repubXGB_proba)"
   ]
  },
  {
   "cell_type": "code",
   "execution_count": 40,
   "metadata": {},
   "outputs": [],
   "source": [
    "df_synth_repubXGB_test = pd.DataFrame(X_dem).copy()\n",
    "df_synth_repubXGB_test['Designated_OZ'] = y_dem\n",
    "df_synth_repubXGB_test['prob_0'] = synth_repubXGB_proba[:,0] \n",
    "df_synth_repubXGB_test['prob_1'] = synth_repubXGB_proba[:,1]\n",
    "df_synth_repubXGB_test['Model_Designated_OZ'] = synthrepub_y_hat_XGB"
   ]
  },
  {
   "cell_type": "code",
   "execution_count": 41,
   "metadata": {},
   "outputs": [
    {
     "data": {
      "text/plain": [
       "(11945, 85)"
      ]
     },
     "execution_count": 41,
     "metadata": {},
     "output_type": "execute_result"
    }
   ],
   "source": [
    "df_synth_repubXGB_test.shape"
   ]
  },
  {
   "cell_type": "code",
   "execution_count": 42,
   "metadata": {},
   "outputs": [
    {
     "data": {
      "text/html": [
       "<div>\n",
       "<style scoped>\n",
       "    .dataframe tbody tr th:only-of-type {\n",
       "        vertical-align: middle;\n",
       "    }\n",
       "\n",
       "    .dataframe tbody tr th {\n",
       "        vertical-align: top;\n",
       "    }\n",
       "\n",
       "    .dataframe thead th {\n",
       "        text-align: right;\n",
       "    }\n",
       "</style>\n",
       "<table border=\"1\" class=\"dataframe\">\n",
       "  <thead>\n",
       "    <tr style=\"text-align: right;\">\n",
       "      <th></th>\n",
       "      <th>Type</th>\n",
       "      <th>SE_Flag</th>\n",
       "      <th>Population</th>\n",
       "      <th>medhhincome</th>\n",
       "      <th>PovertyRate</th>\n",
       "      <th>unemprate</th>\n",
       "      <th>medvalue</th>\n",
       "      <th>medrent</th>\n",
       "      <th>pctown</th>\n",
       "      <th>severerentburden</th>\n",
       "      <th>...</th>\n",
       "      <th>dec_score_5.0</th>\n",
       "      <th>dec_score_6.0</th>\n",
       "      <th>dec_score_7.0</th>\n",
       "      <th>dec_score_8.0</th>\n",
       "      <th>dec_score_9.0</th>\n",
       "      <th>dec_score_10.0</th>\n",
       "      <th>Designated_OZ</th>\n",
       "      <th>prob_0</th>\n",
       "      <th>prob_1</th>\n",
       "      <th>Model_Designated_OZ</th>\n",
       "    </tr>\n",
       "  </thead>\n",
       "  <tbody>\n",
       "    <tr>\n",
       "      <th>0</th>\n",
       "      <td>0</td>\n",
       "      <td>0</td>\n",
       "      <td>29256</td>\n",
       "      <td>45770</td>\n",
       "      <td>0.07</td>\n",
       "      <td>0.09</td>\n",
       "      <td>24900</td>\n",
       "      <td>937</td>\n",
       "      <td>0.41</td>\n",
       "      <td>0.21</td>\n",
       "      <td>...</td>\n",
       "      <td>0</td>\n",
       "      <td>0</td>\n",
       "      <td>0</td>\n",
       "      <td>0</td>\n",
       "      <td>0</td>\n",
       "      <td>0</td>\n",
       "      <td>1</td>\n",
       "      <td>0.726771</td>\n",
       "      <td>0.273229</td>\n",
       "      <td>0</td>\n",
       "    </tr>\n",
       "    <tr>\n",
       "      <th>1</th>\n",
       "      <td>0</td>\n",
       "      <td>0</td>\n",
       "      <td>22748</td>\n",
       "      <td>80068</td>\n",
       "      <td>0.21</td>\n",
       "      <td>0.05</td>\n",
       "      <td>272800</td>\n",
       "      <td>1083</td>\n",
       "      <td>0.74</td>\n",
       "      <td>0.30</td>\n",
       "      <td>...</td>\n",
       "      <td>0</td>\n",
       "      <td>0</td>\n",
       "      <td>0</td>\n",
       "      <td>0</td>\n",
       "      <td>1</td>\n",
       "      <td>0</td>\n",
       "      <td>1</td>\n",
       "      <td>0.898199</td>\n",
       "      <td>0.101801</td>\n",
       "      <td>0</td>\n",
       "    </tr>\n",
       "    <tr>\n",
       "      <th>7</th>\n",
       "      <td>0</td>\n",
       "      <td>0</td>\n",
       "      <td>17400</td>\n",
       "      <td>49172</td>\n",
       "      <td>0.18</td>\n",
       "      <td>0.10</td>\n",
       "      <td>144000</td>\n",
       "      <td>1107</td>\n",
       "      <td>0.60</td>\n",
       "      <td>0.28</td>\n",
       "      <td>...</td>\n",
       "      <td>0</td>\n",
       "      <td>0</td>\n",
       "      <td>0</td>\n",
       "      <td>1</td>\n",
       "      <td>0</td>\n",
       "      <td>0</td>\n",
       "      <td>0</td>\n",
       "      <td>0.612014</td>\n",
       "      <td>0.387986</td>\n",
       "      <td>0</td>\n",
       "    </tr>\n",
       "    <tr>\n",
       "      <th>10</th>\n",
       "      <td>0</td>\n",
       "      <td>0</td>\n",
       "      <td>16942</td>\n",
       "      <td>40305</td>\n",
       "      <td>0.45</td>\n",
       "      <td>0.06</td>\n",
       "      <td>400500</td>\n",
       "      <td>1330</td>\n",
       "      <td>0.26</td>\n",
       "      <td>0.37</td>\n",
       "      <td>...</td>\n",
       "      <td>0</td>\n",
       "      <td>0</td>\n",
       "      <td>0</td>\n",
       "      <td>0</td>\n",
       "      <td>0</td>\n",
       "      <td>0</td>\n",
       "      <td>0</td>\n",
       "      <td>0.986986</td>\n",
       "      <td>0.013014</td>\n",
       "      <td>0</td>\n",
       "    </tr>\n",
       "    <tr>\n",
       "      <th>11</th>\n",
       "      <td>0</td>\n",
       "      <td>0</td>\n",
       "      <td>16589</td>\n",
       "      <td>56019</td>\n",
       "      <td>0.15</td>\n",
       "      <td>0.09</td>\n",
       "      <td>151900</td>\n",
       "      <td>1079</td>\n",
       "      <td>0.76</td>\n",
       "      <td>0.15</td>\n",
       "      <td>...</td>\n",
       "      <td>0</td>\n",
       "      <td>0</td>\n",
       "      <td>0</td>\n",
       "      <td>0</td>\n",
       "      <td>0</td>\n",
       "      <td>0</td>\n",
       "      <td>0</td>\n",
       "      <td>0.697667</td>\n",
       "      <td>0.302333</td>\n",
       "      <td>0</td>\n",
       "    </tr>\n",
       "  </tbody>\n",
       "</table>\n",
       "<p>5 rows × 85 columns</p>\n",
       "</div>"
      ],
      "text/plain": [
       "    Type  SE_Flag  Population   medhhincome  PovertyRate  unemprate  medvalue  \\\n",
       "0      0        0        29256        45770         0.07       0.09     24900   \n",
       "1      0        0        22748        80068         0.21       0.05    272800   \n",
       "7      0        0        17400        49172         0.18       0.10    144000   \n",
       "10     0        0        16942        40305         0.45       0.06    400500   \n",
       "11     0        0        16589        56019         0.15       0.09    151900   \n",
       "\n",
       "    medrent  pctown  severerentburden  ...  dec_score_5.0  dec_score_6.0  \\\n",
       "0       937    0.41              0.21  ...              0              0   \n",
       "1      1083    0.74              0.30  ...              0              0   \n",
       "7      1107    0.60              0.28  ...              0              0   \n",
       "10     1330    0.26              0.37  ...              0              0   \n",
       "11     1079    0.76              0.15  ...              0              0   \n",
       "\n",
       "    dec_score_7.0  dec_score_8.0  dec_score_9.0  dec_score_10.0  \\\n",
       "0               0              0              0               0   \n",
       "1               0              0              1               0   \n",
       "7               0              1              0               0   \n",
       "10              0              0              0               0   \n",
       "11              0              0              0               0   \n",
       "\n",
       "    Designated_OZ    prob_0    prob_1  Model_Designated_OZ  \n",
       "0               1  0.726771  0.273229                    0  \n",
       "1               1  0.898199  0.101801                    0  \n",
       "7               0  0.612014  0.387986                    0  \n",
       "10              0  0.986986  0.013014                    0  \n",
       "11              0  0.697667  0.302333                    0  \n",
       "\n",
       "[5 rows x 85 columns]"
      ]
     },
     "execution_count": 42,
     "metadata": {},
     "output_type": "execute_result"
    }
   ],
   "source": [
    "df_synth_repubXGB_test.head()"
   ]
  },
  {
   "cell_type": "code",
   "execution_count": 43,
   "metadata": {},
   "outputs": [],
   "source": [
    "df_synth_repubXGB_test.to_csv('Synth_Repub_Test_All_Dem_Data.csv')"
   ]
  },
  {
   "cell_type": "markdown",
   "metadata": {},
   "source": [
    "Let's train another model on the data from the democrat states and see how it differs."
   ]
  },
  {
   "cell_type": "markdown",
   "metadata": {},
   "source": [
    "## **<font color='pink'>Training the Democrat Model</font>**"
   ]
  },
  {
   "cell_type": "code",
   "execution_count": 44,
   "metadata": {},
   "outputs": [],
   "source": [
    "y_dem = df_dem['DesignatedOZ']\n",
    "X_dem = df_dem.drop(['DesignatedOZ'], axis=1) # becareful inplace= False\n",
    "\n",
    "from sklearn.model_selection import train_test_split\n",
    "X_dem_train, X_dem_test, y_dem_train, y_dem_test = train_test_split(X_dem, y_dem, test_size=0.3, random_state=rand_state)"
   ]
  },
  {
   "cell_type": "code",
   "execution_count": 45,
   "metadata": {},
   "outputs": [
    {
     "data": {
      "text/html": [
       "<div>\n",
       "<style scoped>\n",
       "    .dataframe tbody tr th:only-of-type {\n",
       "        vertical-align: middle;\n",
       "    }\n",
       "\n",
       "    .dataframe tbody tr th {\n",
       "        vertical-align: top;\n",
       "    }\n",
       "\n",
       "    .dataframe thead th {\n",
       "        text-align: right;\n",
       "    }\n",
       "</style>\n",
       "<table border=\"1\" class=\"dataframe\">\n",
       "  <thead>\n",
       "    <tr style=\"text-align: right;\">\n",
       "      <th>DesignatedOZ</th>\n",
       "      <th>0</th>\n",
       "      <th>1</th>\n",
       "    </tr>\n",
       "    <tr>\n",
       "      <th>DesignatedOZ</th>\n",
       "      <th></th>\n",
       "      <th></th>\n",
       "    </tr>\n",
       "  </thead>\n",
       "  <tbody>\n",
       "    <tr>\n",
       "      <th>0</th>\n",
       "      <td>75.655086</td>\n",
       "      <td>0.000000</td>\n",
       "    </tr>\n",
       "    <tr>\n",
       "      <th>1</th>\n",
       "      <td>0.000000</td>\n",
       "      <td>24.344914</td>\n",
       "    </tr>\n",
       "  </tbody>\n",
       "</table>\n",
       "</div>"
      ],
      "text/plain": [
       "DesignatedOZ          0          1\n",
       "DesignatedOZ                      \n",
       "0             75.655086   0.000000\n",
       "1              0.000000  24.344914"
      ]
     },
     "execution_count": 45,
     "metadata": {},
     "output_type": "execute_result"
    }
   ],
   "source": [
    "pd.crosstab(df_dem['DesignatedOZ'],df['DesignatedOZ'], normalize='all')*100"
   ]
  },
  {
   "cell_type": "markdown",
   "metadata": {},
   "source": [
    "Still a relatively balanced 75/25 split! Let's train the model."
   ]
  },
  {
   "cell_type": "code",
   "execution_count": 46,
   "metadata": {},
   "outputs": [
    {
     "name": "stdout",
     "output_type": "stream",
     "text": [
      "[09:10:07] WARNING: C:/Users/Administrator/workspace/xgboost-win64_release_1.4.0/src/learner.cc:1095: Starting in XGBoost 1.3.0, the default evaluation metric used with the objective 'binary:logistic' was changed from 'error' to 'logloss'. Explicitly set eval_metric if you'd like to restore the old behavior.\n",
      "Wall time: 2.85 s\n"
     ]
    },
    {
     "data": {
      "text/plain": [
       "XGBClassifier(base_score=0.5, booster='gbtree', colsample_bylevel=1,\n",
       "              colsample_bynode=1, colsample_bytree=1, gamma=0, gpu_id=-1,\n",
       "              importance_type='gain', interaction_constraints='',\n",
       "              learning_rate=0.300000012, max_delta_step=0, max_depth=6,\n",
       "              min_child_weight=1, missing=nan, monotone_constraints='()',\n",
       "              n_estimators=100, n_jobs=4, num_parallel_tree=1,\n",
       "              random_state=1000, reg_alpha=0, reg_lambda=1, scale_pos_weight=1,\n",
       "              subsample=1, tree_method='exact', validate_parameters=1,\n",
       "              verbosity=None)"
      ]
     },
     "execution_count": 46,
     "metadata": {},
     "output_type": "execute_result"
    }
   ],
   "source": [
    "%%time\n",
    "# Fitting XGBoost classifier to the Training set\n",
    "XGB_classifier_dem = XGBClassifier(random_state=rand_state, use_label_encoder=True)\n",
    "XGB_classifier_dem.fit(X_dem_train, y_dem_train)"
   ]
  },
  {
   "cell_type": "code",
   "execution_count": 47,
   "metadata": {},
   "outputs": [],
   "source": [
    "# Predicting the Test set probabilities and classes\n",
    "dem_y_hat_XGB = XGB_classifier_dem.predict(X_dem_test)"
   ]
  },
  {
   "cell_type": "code",
   "execution_count": 48,
   "metadata": {},
   "outputs": [
    {
     "data": {
      "text/plain": [
       "0.7478"
      ]
     },
     "execution_count": 48,
     "metadata": {},
     "output_type": "execute_result"
    }
   ],
   "source": [
    "np.round(XGB_classifier_dem.score(X_dem_test, y_dem_test),4)"
   ]
  },
  {
   "cell_type": "code",
   "execution_count": 49,
   "metadata": {},
   "outputs": [
    {
     "data": {
      "text/plain": [
       "array([[2461,  213],\n",
       "       [ 691,  219]], dtype=int64)"
      ]
     },
     "execution_count": 49,
     "metadata": {},
     "output_type": "execute_result"
    }
   ],
   "source": [
    "confusion_matrix(y_dem_test, dem_y_hat_XGB)"
   ]
  },
  {
   "cell_type": "code",
   "execution_count": 50,
   "metadata": {},
   "outputs": [
    {
     "name": "stdout",
     "output_type": "stream",
     "text": [
      "XGB_dem f1 = 0.3263785394932936\n"
     ]
    }
   ],
   "source": [
    "print('XGB_dem f1 = {}'.format(f1_score(y_dem_test, dem_y_hat_XGB)))"
   ]
  },
  {
   "cell_type": "markdown",
   "metadata": {},
   "source": [
    "The accuracy is very close to what we saw with the republican model. Let's see if the feature importance differs."
   ]
  },
  {
   "cell_type": "code",
   "execution_count": 51,
   "metadata": {},
   "outputs": [
    {
     "data": {
      "image/png": "[encoded data removed]",
      "text/plain": [
       "<Figure size 432x288 with 1 Axes>"
      ]
     },
     "metadata": {},
     "output_type": "display_data"
    }
   ],
   "source": [
    "plot_importance(XGB_classifier_dem, max_num_features = 10, title='Feature Importance - Democrat Model', grid='gain')\n",
    "plt.show()"
   ]
  },
  {
   "cell_type": "markdown",
   "metadata": {},
   "source": [
    "The order is a little different, but the top 4 features are the same as what we saw in the republican model, just in a different order."
   ]
  },
  {
   "cell_type": "code",
   "execution_count": 52,
   "metadata": {},
   "outputs": [],
   "source": [
    "#Getting the probability predictions:"
   ]
  },
  {
   "cell_type": "code",
   "execution_count": 53,
   "metadata": {},
   "outputs": [],
   "source": [
    "dem_y_hat_XGB_proba = XGB_classifier_dem.predict_proba(X_dem_test)"
   ]
  },
  {
   "cell_type": "code",
   "execution_count": 54,
   "metadata": {},
   "outputs": [
    {
     "name": "stdout",
     "output_type": "stream",
     "text": [
      "[[0.7886023  0.21139771]\n",
      " [0.8591049  0.14089511]\n",
      " [0.8153608  0.18463919]\n",
      " ...\n",
      " [0.7743144  0.2256856 ]\n",
      " [0.9627615  0.0372385 ]\n",
      " [0.93976784 0.06023215]]\n"
     ]
    }
   ],
   "source": [
    "print(dem_y_hat_XGB_proba)"
   ]
  },
  {
   "cell_type": "code",
   "execution_count": 55,
   "metadata": {},
   "outputs": [],
   "source": [
    "df_dem_test = pd.DataFrame(X_dem_test).copy()\n",
    "df_dem_test['Designated_OZ'] = y_dem_test\n",
    "df_dem_test['prob_0'] = dem_y_hat_XGB_proba[:,0] \n",
    "df_dem_test['prob_1'] = dem_y_hat_XGB_proba[:,1]\n",
    "df_dem_test['Model_Designated_OZ'] = dem_y_hat_XGB"
   ]
  },
  {
   "cell_type": "code",
   "execution_count": 56,
   "metadata": {},
   "outputs": [
    {
     "data": {
      "text/plain": [
       "(3584, 85)"
      ]
     },
     "execution_count": 56,
     "metadata": {},
     "output_type": "execute_result"
    }
   ],
   "source": [
    "df_dem_test.shape"
   ]
  },
  {
   "cell_type": "code",
   "execution_count": 57,
   "metadata": {},
   "outputs": [
    {
     "data": {
      "text/html": [
       "<div>\n",
       "<style scoped>\n",
       "    .dataframe tbody tr th:only-of-type {\n",
       "        vertical-align: middle;\n",
       "    }\n",
       "\n",
       "    .dataframe tbody tr th {\n",
       "        vertical-align: top;\n",
       "    }\n",
       "\n",
       "    .dataframe thead th {\n",
       "        text-align: right;\n",
       "    }\n",
       "</style>\n",
       "<table border=\"1\" class=\"dataframe\">\n",
       "  <thead>\n",
       "    <tr style=\"text-align: right;\">\n",
       "      <th></th>\n",
       "      <th>Type</th>\n",
       "      <th>SE_Flag</th>\n",
       "      <th>Population</th>\n",
       "      <th>medhhincome</th>\n",
       "      <th>PovertyRate</th>\n",
       "      <th>unemprate</th>\n",
       "      <th>medvalue</th>\n",
       "      <th>medrent</th>\n",
       "      <th>pctown</th>\n",
       "      <th>severerentburden</th>\n",
       "      <th>...</th>\n",
       "      <th>dec_score_5.0</th>\n",
       "      <th>dec_score_6.0</th>\n",
       "      <th>dec_score_7.0</th>\n",
       "      <th>dec_score_8.0</th>\n",
       "      <th>dec_score_9.0</th>\n",
       "      <th>dec_score_10.0</th>\n",
       "      <th>Designated_OZ</th>\n",
       "      <th>prob_0</th>\n",
       "      <th>prob_1</th>\n",
       "      <th>Model_Designated_OZ</th>\n",
       "    </tr>\n",
       "  </thead>\n",
       "  <tbody>\n",
       "    <tr>\n",
       "      <th>12573</th>\n",
       "      <td>0</td>\n",
       "      <td>0</td>\n",
       "      <td>4186</td>\n",
       "      <td>34669</td>\n",
       "      <td>0.26</td>\n",
       "      <td>0.18</td>\n",
       "      <td>164900</td>\n",
       "      <td>1068</td>\n",
       "      <td>0.42</td>\n",
       "      <td>0.45</td>\n",
       "      <td>...</td>\n",
       "      <td>1</td>\n",
       "      <td>0</td>\n",
       "      <td>0</td>\n",
       "      <td>0</td>\n",
       "      <td>0</td>\n",
       "      <td>0</td>\n",
       "      <td>0</td>\n",
       "      <td>0.788602</td>\n",
       "      <td>0.211398</td>\n",
       "      <td>0</td>\n",
       "    </tr>\n",
       "    <tr>\n",
       "      <th>11905</th>\n",
       "      <td>0</td>\n",
       "      <td>0</td>\n",
       "      <td>4294</td>\n",
       "      <td>50882</td>\n",
       "      <td>0.15</td>\n",
       "      <td>0.04</td>\n",
       "      <td>389800</td>\n",
       "      <td>1538</td>\n",
       "      <td>0.34</td>\n",
       "      <td>0.37</td>\n",
       "      <td>...</td>\n",
       "      <td>0</td>\n",
       "      <td>0</td>\n",
       "      <td>0</td>\n",
       "      <td>0</td>\n",
       "      <td>1</td>\n",
       "      <td>0</td>\n",
       "      <td>0</td>\n",
       "      <td>0.859105</td>\n",
       "      <td>0.140895</td>\n",
       "      <td>0</td>\n",
       "    </tr>\n",
       "    <tr>\n",
       "      <th>25222</th>\n",
       "      <td>0</td>\n",
       "      <td>0</td>\n",
       "      <td>2246</td>\n",
       "      <td>69063</td>\n",
       "      <td>0.09</td>\n",
       "      <td>0.11</td>\n",
       "      <td>583700</td>\n",
       "      <td>1378</td>\n",
       "      <td>0.42</td>\n",
       "      <td>0.27</td>\n",
       "      <td>...</td>\n",
       "      <td>0</td>\n",
       "      <td>0</td>\n",
       "      <td>1</td>\n",
       "      <td>0</td>\n",
       "      <td>0</td>\n",
       "      <td>0</td>\n",
       "      <td>0</td>\n",
       "      <td>0.815361</td>\n",
       "      <td>0.184639</td>\n",
       "      <td>0</td>\n",
       "    </tr>\n",
       "    <tr>\n",
       "      <th>10230</th>\n",
       "      <td>0</td>\n",
       "      <td>0</td>\n",
       "      <td>4581</td>\n",
       "      <td>30098</td>\n",
       "      <td>0.45</td>\n",
       "      <td>0.09</td>\n",
       "      <td>270800</td>\n",
       "      <td>1030</td>\n",
       "      <td>0.20</td>\n",
       "      <td>0.39</td>\n",
       "      <td>...</td>\n",
       "      <td>0</td>\n",
       "      <td>0</td>\n",
       "      <td>0</td>\n",
       "      <td>0</td>\n",
       "      <td>0</td>\n",
       "      <td>1</td>\n",
       "      <td>0</td>\n",
       "      <td>0.589083</td>\n",
       "      <td>0.410917</td>\n",
       "      <td>0</td>\n",
       "    </tr>\n",
       "    <tr>\n",
       "      <th>24808</th>\n",
       "      <td>0</td>\n",
       "      <td>0</td>\n",
       "      <td>2314</td>\n",
       "      <td>29896</td>\n",
       "      <td>0.38</td>\n",
       "      <td>0.15</td>\n",
       "      <td>57900</td>\n",
       "      <td>702</td>\n",
       "      <td>0.62</td>\n",
       "      <td>0.29</td>\n",
       "      <td>...</td>\n",
       "      <td>0</td>\n",
       "      <td>0</td>\n",
       "      <td>0</td>\n",
       "      <td>0</td>\n",
       "      <td>0</td>\n",
       "      <td>0</td>\n",
       "      <td>1</td>\n",
       "      <td>0.716808</td>\n",
       "      <td>0.283192</td>\n",
       "      <td>0</td>\n",
       "    </tr>\n",
       "  </tbody>\n",
       "</table>\n",
       "<p>5 rows × 85 columns</p>\n",
       "</div>"
      ],
      "text/plain": [
       "       Type  SE_Flag  Population   medhhincome  PovertyRate  unemprate  \\\n",
       "12573     0        0         4186        34669         0.26       0.18   \n",
       "11905     0        0         4294        50882         0.15       0.04   \n",
       "25222     0        0         2246        69063         0.09       0.11   \n",
       "10230     0        0         4581        30098         0.45       0.09   \n",
       "24808     0        0         2314        29896         0.38       0.15   \n",
       "\n",
       "       medvalue  medrent  pctown  severerentburden  ...  dec_score_5.0  \\\n",
       "12573    164900     1068    0.42              0.45  ...              1   \n",
       "11905    389800     1538    0.34              0.37  ...              0   \n",
       "25222    583700     1378    0.42              0.27  ...              0   \n",
       "10230    270800     1030    0.20              0.39  ...              0   \n",
       "24808     57900      702    0.62              0.29  ...              0   \n",
       "\n",
       "       dec_score_6.0  dec_score_7.0  dec_score_8.0  dec_score_9.0  \\\n",
       "12573              0              0              0              0   \n",
       "11905              0              0              0              1   \n",
       "25222              0              1              0              0   \n",
       "10230              0              0              0              0   \n",
       "24808              0              0              0              0   \n",
       "\n",
       "       dec_score_10.0  Designated_OZ    prob_0    prob_1  Model_Designated_OZ  \n",
       "12573               0              0  0.788602  0.211398                    0  \n",
       "11905               0              0  0.859105  0.140895                    0  \n",
       "25222               0              0  0.815361  0.184639                    0  \n",
       "10230               1              0  0.589083  0.410917                    0  \n",
       "24808               0              1  0.716808  0.283192                    0  \n",
       "\n",
       "[5 rows x 85 columns]"
      ]
     },
     "execution_count": 57,
     "metadata": {},
     "output_type": "execute_result"
    }
   ],
   "source": [
    "df_dem_test.head()"
   ]
  },
  {
   "cell_type": "code",
   "execution_count": 282,
   "metadata": {},
   "outputs": [],
   "source": [
    "df_dem_test.to_csv('Dem_Model_Test.csv')"
   ]
  },
  {
   "cell_type": "markdown",
   "metadata": {},
   "source": [
    "## **<font color='pink'>Synthetic Democrats: Running the Democrat Model on Republican State's Data</font>**"
   ]
  },
  {
   "cell_type": "code",
   "execution_count": 58,
   "metadata": {},
   "outputs": [],
   "source": [
    "synthdem_y_hat_XGB = XGB_classifier_dem.predict(X_repub)"
   ]
  },
  {
   "cell_type": "code",
   "execution_count": 59,
   "metadata": {},
   "outputs": [
    {
     "data": {
      "text/plain": [
       "0.7243"
      ]
     },
     "execution_count": 59,
     "metadata": {},
     "output_type": "execute_result"
    }
   ],
   "source": [
    "np.round(XGB_classifier_dem.score(X_repub, y_repub),4)"
   ]
  },
  {
   "cell_type": "code",
   "execution_count": 63,
   "metadata": {},
   "outputs": [
    {
     "name": "stdout",
     "output_type": "stream",
     "text": [
      "XGB f1 = 0.2802697156259162\n"
     ]
    }
   ],
   "source": [
    "print('XGB f1 = {}'.format(f1_score(y_repub, synthdem_y_hat_XGB)))"
   ]
  },
  {
   "cell_type": "code",
   "execution_count": 64,
   "metadata": {},
   "outputs": [],
   "source": [
    "#Getting the probability predictions:"
   ]
  },
  {
   "cell_type": "code",
   "execution_count": 65,
   "metadata": {},
   "outputs": [],
   "source": [
    "synth_demXGB_proba = XGB_classifier_dem.predict_proba(X_repub)"
   ]
  },
  {
   "cell_type": "code",
   "execution_count": 66,
   "metadata": {},
   "outputs": [
    {
     "name": "stdout",
     "output_type": "stream",
     "text": [
      "[[0.9280336  0.0719664 ]\n",
      " [0.753684   0.24631602]\n",
      " [0.8748722  0.1251278 ]\n",
      " ...\n",
      " [0.8164549  0.18354514]\n",
      " [0.31131178 0.6886882 ]\n",
      " [0.96865106 0.03134895]]\n"
     ]
    }
   ],
   "source": [
    "print(synth_demXGB_proba)"
   ]
  },
  {
   "cell_type": "code",
   "execution_count": 67,
   "metadata": {},
   "outputs": [],
   "source": [
    "df_synth_demXGB_test = pd.DataFrame(X_repub).copy()\n",
    "df_synth_demXGB_test['Designated_OZ'] = y_repub\n",
    "df_synth_demXGB_test['prob_0'] = synth_demXGB_proba[:,0] \n",
    "df_synth_demXGB_test['prob_1'] = synth_demXGB_proba[:,1]\n",
    "df_synth_demXGB_test['Model_Designated_OZ'] = synthdem_y_hat_XGB"
   ]
  },
  {
   "cell_type": "code",
   "execution_count": 68,
   "metadata": {},
   "outputs": [
    {
     "data": {
      "text/plain": [
       "(17809, 85)"
      ]
     },
     "execution_count": 68,
     "metadata": {},
     "output_type": "execute_result"
    }
   ],
   "source": [
    "df_synth_demXGB_test.shape"
   ]
  },
  {
   "cell_type": "code",
   "execution_count": 69,
   "metadata": {},
   "outputs": [
    {
     "data": {
      "text/html": [
       "<div>\n",
       "<style scoped>\n",
       "    .dataframe tbody tr th:only-of-type {\n",
       "        vertical-align: middle;\n",
       "    }\n",
       "\n",
       "    .dataframe tbody tr th {\n",
       "        vertical-align: top;\n",
       "    }\n",
       "\n",
       "    .dataframe thead th {\n",
       "        text-align: right;\n",
       "    }\n",
       "</style>\n",
       "<table border=\"1\" class=\"dataframe\">\n",
       "  <thead>\n",
       "    <tr style=\"text-align: right;\">\n",
       "      <th></th>\n",
       "      <th>Type</th>\n",
       "      <th>SE_Flag</th>\n",
       "      <th>Population</th>\n",
       "      <th>medhhincome</th>\n",
       "      <th>PovertyRate</th>\n",
       "      <th>unemprate</th>\n",
       "      <th>medvalue</th>\n",
       "      <th>medrent</th>\n",
       "      <th>pctown</th>\n",
       "      <th>severerentburden</th>\n",
       "      <th>...</th>\n",
       "      <th>dec_score_5.0</th>\n",
       "      <th>dec_score_6.0</th>\n",
       "      <th>dec_score_7.0</th>\n",
       "      <th>dec_score_8.0</th>\n",
       "      <th>dec_score_9.0</th>\n",
       "      <th>dec_score_10.0</th>\n",
       "      <th>Designated_OZ</th>\n",
       "      <th>prob_0</th>\n",
       "      <th>prob_1</th>\n",
       "      <th>Model_Designated_OZ</th>\n",
       "    </tr>\n",
       "  </thead>\n",
       "  <tbody>\n",
       "    <tr>\n",
       "      <th>2</th>\n",
       "      <td>0</td>\n",
       "      <td>0</td>\n",
       "      <td>20092</td>\n",
       "      <td>49930</td>\n",
       "      <td>0.17</td>\n",
       "      <td>0.12</td>\n",
       "      <td>125100</td>\n",
       "      <td>993</td>\n",
       "      <td>0.55</td>\n",
       "      <td>0.21</td>\n",
       "      <td>...</td>\n",
       "      <td>0</td>\n",
       "      <td>0</td>\n",
       "      <td>0</td>\n",
       "      <td>0</td>\n",
       "      <td>0</td>\n",
       "      <td>0</td>\n",
       "      <td>0</td>\n",
       "      <td>0.928034</td>\n",
       "      <td>0.071966</td>\n",
       "      <td>0</td>\n",
       "    </tr>\n",
       "    <tr>\n",
       "      <th>3</th>\n",
       "      <td>0</td>\n",
       "      <td>0</td>\n",
       "      <td>19834</td>\n",
       "      <td>36756</td>\n",
       "      <td>0.24</td>\n",
       "      <td>0.15</td>\n",
       "      <td>115600</td>\n",
       "      <td>1118</td>\n",
       "      <td>0.55</td>\n",
       "      <td>0.39</td>\n",
       "      <td>...</td>\n",
       "      <td>0</td>\n",
       "      <td>0</td>\n",
       "      <td>0</td>\n",
       "      <td>0</td>\n",
       "      <td>0</td>\n",
       "      <td>0</td>\n",
       "      <td>1</td>\n",
       "      <td>0.753684</td>\n",
       "      <td>0.246316</td>\n",
       "      <td>0</td>\n",
       "    </tr>\n",
       "    <tr>\n",
       "      <th>4</th>\n",
       "      <td>0</td>\n",
       "      <td>0</td>\n",
       "      <td>19187</td>\n",
       "      <td>43750</td>\n",
       "      <td>0.17</td>\n",
       "      <td>0.06</td>\n",
       "      <td>150600</td>\n",
       "      <td>1079</td>\n",
       "      <td>0.48</td>\n",
       "      <td>0.39</td>\n",
       "      <td>...</td>\n",
       "      <td>0</td>\n",
       "      <td>0</td>\n",
       "      <td>1</td>\n",
       "      <td>0</td>\n",
       "      <td>0</td>\n",
       "      <td>0</td>\n",
       "      <td>1</td>\n",
       "      <td>0.874872</td>\n",
       "      <td>0.125128</td>\n",
       "      <td>0</td>\n",
       "    </tr>\n",
       "    <tr>\n",
       "      <th>5</th>\n",
       "      <td>0</td>\n",
       "      <td>0</td>\n",
       "      <td>18273</td>\n",
       "      <td>54112</td>\n",
       "      <td>0.11</td>\n",
       "      <td>0.04</td>\n",
       "      <td>112200</td>\n",
       "      <td>920</td>\n",
       "      <td>0.41</td>\n",
       "      <td>0.13</td>\n",
       "      <td>...</td>\n",
       "      <td>0</td>\n",
       "      <td>0</td>\n",
       "      <td>0</td>\n",
       "      <td>0</td>\n",
       "      <td>1</td>\n",
       "      <td>0</td>\n",
       "      <td>0</td>\n",
       "      <td>0.755840</td>\n",
       "      <td>0.244160</td>\n",
       "      <td>0</td>\n",
       "    </tr>\n",
       "    <tr>\n",
       "      <th>6</th>\n",
       "      <td>0</td>\n",
       "      <td>0</td>\n",
       "      <td>17764</td>\n",
       "      <td>60333</td>\n",
       "      <td>0.17</td>\n",
       "      <td>0.09</td>\n",
       "      <td>209500</td>\n",
       "      <td>991</td>\n",
       "      <td>0.63</td>\n",
       "      <td>0.37</td>\n",
       "      <td>...</td>\n",
       "      <td>0</td>\n",
       "      <td>0</td>\n",
       "      <td>0</td>\n",
       "      <td>0</td>\n",
       "      <td>0</td>\n",
       "      <td>1</td>\n",
       "      <td>0</td>\n",
       "      <td>0.967573</td>\n",
       "      <td>0.032427</td>\n",
       "      <td>0</td>\n",
       "    </tr>\n",
       "  </tbody>\n",
       "</table>\n",
       "<p>5 rows × 85 columns</p>\n",
       "</div>"
      ],
      "text/plain": [
       "   Type  SE_Flag  Population   medhhincome  PovertyRate  unemprate  medvalue  \\\n",
       "2     0        0        20092        49930         0.17       0.12    125100   \n",
       "3     0        0        19834        36756         0.24       0.15    115600   \n",
       "4     0        0        19187        43750         0.17       0.06    150600   \n",
       "5     0        0        18273        54112         0.11       0.04    112200   \n",
       "6     0        0        17764        60333         0.17       0.09    209500   \n",
       "\n",
       "   medrent  pctown  severerentburden  ...  dec_score_5.0  dec_score_6.0  \\\n",
       "2      993    0.55              0.21  ...              0              0   \n",
       "3     1118    0.55              0.39  ...              0              0   \n",
       "4     1079    0.48              0.39  ...              0              0   \n",
       "5      920    0.41              0.13  ...              0              0   \n",
       "6      991    0.63              0.37  ...              0              0   \n",
       "\n",
       "   dec_score_7.0  dec_score_8.0  dec_score_9.0  dec_score_10.0  Designated_OZ  \\\n",
       "2              0              0              0               0              0   \n",
       "3              0              0              0               0              1   \n",
       "4              1              0              0               0              1   \n",
       "5              0              0              1               0              0   \n",
       "6              0              0              0               1              0   \n",
       "\n",
       "     prob_0    prob_1  Model_Designated_OZ  \n",
       "2  0.928034  0.071966                    0  \n",
       "3  0.753684  0.246316                    0  \n",
       "4  0.874872  0.125128                    0  \n",
       "5  0.755840  0.244160                    0  \n",
       "6  0.967573  0.032427                    0  \n",
       "\n",
       "[5 rows x 85 columns]"
      ]
     },
     "execution_count": 69,
     "metadata": {},
     "output_type": "execute_result"
    }
   ],
   "source": [
    "df_synth_demXGB_test.head()"
   ]
  },
  {
   "cell_type": "code",
   "execution_count": 70,
   "metadata": {},
   "outputs": [],
   "source": [
    "df_synth_demXGB_test.to_csv('Synth_Dem_Test_All_Repub_Data.csv')"
   ]
  },
  {
   "cell_type": "code",
   "execution_count": null,
   "metadata": {},
   "outputs": [],
   "source": []
  },
  {
   "cell_type": "code",
   "execution_count": null,
   "metadata": {},
   "outputs": [],
   "source": []
  },
  {
   "cell_type": "code",
   "execution_count": null,
   "metadata": {},
   "outputs": [],
   "source": []
  },
  {
   "cell_type": "code",
   "execution_count": null,
   "metadata": {},
   "outputs": [],
   "source": []
  }
 ],
 "metadata": {
  "kernelspec": {
   "display_name": "Python 3",
   "language": "python",
   "name": "python3"
  },
  "language_info": {
   "codemirror_mode": {
    "name": "ipython",
    "version": 3
   },
   "file_extension": ".py",
   "mimetype": "text/x-python",
   "name": "python",
   "nbconvert_exporter": "python",
   "pygments_lexer": "ipython3",
   "version": "3.8.5"
  }
 },
 "nbformat": 4,
 "nbformat_minor": 4
}
